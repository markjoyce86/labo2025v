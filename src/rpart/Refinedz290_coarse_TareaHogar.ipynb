{
  "nbformat": 4,
  "nbformat_minor": 0,
  "metadata": {
    "colab": {
      "provenance": [],
      "machine_shape": "hm"
    },
    "kernelspec": {
      "name": "ir",
      "display_name": "R"
    },
    "language_info": {
      "name": "R"
    }
  },
  "cells": [
    {
      "cell_type": "markdown",
      "source": [
        "# Tarea para el Hogar 02"
      ],
      "metadata": {
        "id": "F3r8aa3pBigj"
      }
    },
    {
      "cell_type": "markdown",
      "source": [
        "Esta Tarea para el Hogar 02 se entrega el final de la segunda clase\n",
        "<br> se espera de usted que intente avanzar con los desafios propuestos y que los traiga terminados para la Clase 03, ya que se analizarán los resultados"
      ],
      "metadata": {
        "id": "nBm4ktHUBmZt"
      }
    },
    {
      "cell_type": "markdown",
      "source": [
        "##  1. Ensembles de Modelos"
      ],
      "metadata": {
        "id": "TK-M04ElCESC"
      }
    },
    {
      "cell_type": "markdown",
      "source": [
        "Vea el siguiente video [BBC - The Code - The Wisdom of the Crowd](https://www.youtube.com/watch?v=iOucwX7Z1HU)    ( 5 min)\n"
      ],
      "metadata": {
        "id": "biPYxgobCOSS"
      }
    },
    {
      "cell_type": "markdown",
      "source": [
        "Lea los siguientes artículos\n",
        "\n",
        "\n",
        "*   [The Wisdom of Crowds (Vox Populi) by Francis Galton](https://www.all-about-psychology.com/the-wisdom-of-crowds.html)  (10 min)\n",
        "*   [A Gentle Introduction to Ensemble Learning](https://machinelearningmastery.com/what-is-ensemble-learning/)  (10 min)\n",
        "\n"
      ],
      "metadata": {
        "id": "FBszBRyNCcjp"
      }
    },
    {
      "cell_type": "markdown",
      "source": [
        "\n",
        "\n",
        "---\n",
        "\n"
      ],
      "metadata": {
        "id": "x7SebtV2lpHQ"
      }
    },
    {
      "cell_type": "markdown",
      "source": [
        "##  2.  Zero2Hero   primera parte\n",
        "Se han lanzado los primeros fascículos coleccionables llamados \"from Zero to Hero\" que muy detalladamente, paso a paso enseñan todo lo necesario de R para entender los scripts oficiales de la asignatura.\n",
        "Están en el repositorio oficial de la asignatura, carpeta  **src/zero2hero**"
      ],
      "metadata": {
        "id": "NQcY8u2MDSLT"
      }
    },
    {
      "cell_type": "markdown",
      "source": [
        "\n",
        "\n",
        "---\n",
        "\n"
      ],
      "metadata": {
        "id": "GcO0OSiIEAGy"
      }
    },
    {
      "cell_type": "markdown",
      "source": [
        "## 3.  Grid Search"
      ],
      "metadata": {
        "id": "6MStcyn0EBdT"
      }
    },
    {
      "cell_type": "markdown",
      "source": [
        "Busque en internet el precido significado de los hiperparámetros de la librería **rpart**  que está implementando el algoritmo **CART**  Classification and Regression Trees  propuesto en el año 1984 por Leo Brieman:\n",
        "\n",
        "*   cp\n",
        "*   maxdepth\n",
        "*   minsplit\n",
        "*   minbucket\n",
        "\n",
        "Entienda que valores es razonable tome cada hiperparámetro,  en particular profundice en el hiperparámetro  **cp**  y la posibilidad que tome valores negativos.  Es válido consultar a su amigo de *capacidades especiales*  ChatGPT\n"
      ],
      "metadata": {
        "id": "gM8RKXDgEIY0"
      }
    },
    {
      "cell_type": "markdown",
      "source": [
        "En las siguientes celdas a un notebook incompleto, un esqueleto de codigo brindado a modo de facilitarle la tarea de codeo y permitir que su valiosa cognición se concentre temas conceptuales de Ciencia de Datos\n",
        "\n",
        "Modifiquelo agregando loops para que recorra TODOS los hiperparámetros de rpart  < cp, maxdepth, minsplit, minbucket >, y luego póngalo a correr. Recuerde cambiar por SU semilla\n",
        "Tenga muy presente la granularidad que eligirá para cada hiperparámetro."
      ],
      "metadata": {
        "id": "_k7eT3HIFy9y"
      }
    },
    {
      "cell_type": "markdown",
      "source": [
        "### Seteo del ambiente en Google Colab"
      ],
      "metadata": {
        "id": "kmLygy1TYPfg"
      }
    },
    {
      "cell_type": "markdown",
      "source": [
        "Esta parte se debe correr con el runtime en Python3\n",
        "<br>Ir al menu, Runtime -> Change Runtime Tipe -> Runtime type ->  **Python 3**"
      ],
      "metadata": {
        "id": "OikOm5K2YU3X"
      }
    },
    {
      "cell_type": "markdown",
      "source": [
        "Conectar la virtual machine donde esta corriendo Google Colab con el  Google Drive, para poder tener persistencia de archivos"
      ],
      "metadata": {
        "id": "4fmV5LyZdFyI"
      }
    },
    {
      "cell_type": "code",
      "source": [
        "# primero establecer el Runtime de Python 3\n",
        "from google.colab import drive\n",
        "drive.mount('/content/.drive')"
      ],
      "metadata": {
        "id": "ilEZ-bE2VybW",
        "colab": {
          "base_uri": "https://localhost:8080/"
        },
        "outputId": "b9ebfb18-895c-459a-b83a-00bf23dc24b1"
      },
      "execution_count": 1,
      "outputs": [
        {
          "output_type": "stream",
          "name": "stdout",
          "text": [
            "Mounted at /content/.drive\n"
          ]
        }
      ]
    },
    {
      "cell_type": "markdown",
      "source": [
        "Para correr la siguiente celda es fundamental en Arranque en Frio haber copiado el archivo kaggle.json al Google Drive, en la carpeta indicada en el instructivo\n",
        "\n",
        "<br>los siguientes comando estan en shell script de Linux\n",
        "*   Crear las carpetas en el Google Drive\n",
        "*   \"instalar\" el archivo kaggle.json desde el Google Drive a la virtual machine para que pueda ser utilizado por la libreria  kaggle de Python\n",
        "*   Bajar el  **dataset_pequeno**  al  Google Drive  y tambien al disco local de la virtual machine que esta corriendo Google Colab\n",
        "\n"
      ],
      "metadata": {
        "id": "ilaKtqWldeWg"
      }
    },
    {
      "cell_type": "code",
      "source": [
        "%%shell\n",
        "\n",
        "mkdir -p \"/content/.drive/My Drive/labo1\"\n",
        "mkdir -p \"/content/buckets\"\n",
        "ln -s \"/content/.drive/My Drive/labo1\" /content/buckets/b1\n",
        "\n",
        "mkdir -p ~/.kaggle\n",
        "cp /content/buckets/b1/kaggle/kaggle.json  ~/.kaggle\n",
        "chmod 600 ~/.kaggle/kaggle.json\n",
        "\n",
        "\n",
        "mkdir -p /content/buckets/b1/exp\n",
        "mkdir -p /content/buckets/b1/datasets\n",
        "mkdir -p /content/datasets\n",
        "\n",
        "\n",
        "\n",
        "archivo_origen=\"https://storage.googleapis.com/open-courses/austral2025-af91/dataset_pequeno.csv\"\n",
        "archivo_destino=\"/content/datasets/dataset_pequeno.csv\"\n",
        "archivo_destino_bucket=\"/content/buckets/b1/datasets/dataset_pequeno.csv\"\n",
        "\n",
        "if ! test -f $archivo_destino_bucket; then\n",
        "  wget  $archivo_origen  -O $archivo_destino_bucket\n",
        "fi\n",
        "\n",
        "\n",
        "if ! test -f $archivo_destino; then\n",
        "  cp  $archivo_destino_bucket  $archivo_destino\n",
        "fi\n",
        "\n"
      ],
      "metadata": {
        "id": "W8dQFI5QYCFa",
        "colab": {
          "base_uri": "https://localhost:8080/"
        },
        "outputId": "fb91f368-7ef7-4b5e-dc68-feea49344d1a"
      },
      "execution_count": 2,
      "outputs": [
        {
          "output_type": "execute_result",
          "data": {
            "text/plain": []
          },
          "metadata": {},
          "execution_count": 2
        }
      ]
    },
    {
      "cell_type": "markdown",
      "source": [
        "limpio el ambiente de R"
      ],
      "metadata": {
        "id": "SE94XRhWsxkX"
      }
    },
    {
      "cell_type": "code",
      "source": [
        "# limpio la memoria\n",
        "rm(list=ls(all.names=TRUE)) # remove all objects\n",
        "gc(full=TRUE, verbose=FALSE) # garbage collection"
      ],
      "metadata": {
        "id": "oZG_4br6szlT",
        "colab": {
          "base_uri": "https://localhost:8080/",
          "height": 129
        },
        "outputId": "f642e7c4-ff67-41f9-b8c0-fa12ce1e76b3"
      },
      "execution_count": 1,
      "outputs": [
        {
          "output_type": "display_data",
          "data": {
            "text/html": [
              "<table class=\"dataframe\">\n",
              "<caption>A matrix: 2 × 6 of type dbl</caption>\n",
              "<thead>\n",
              "\t<tr><th></th><th scope=col>used</th><th scope=col>(Mb)</th><th scope=col>gc trigger</th><th scope=col>(Mb)</th><th scope=col>max used</th><th scope=col>(Mb)</th></tr>\n",
              "</thead>\n",
              "<tbody>\n",
              "\t<tr><th scope=row>Ncells</th><td> 657244</td><td>35.2</td><td>1454474</td><td>77.7</td><td>1326117</td><td>70.9</td></tr>\n",
              "\t<tr><th scope=row>Vcells</th><td>1220271</td><td> 9.4</td><td>8388608</td><td>64.0</td><td>1975128</td><td>15.1</td></tr>\n",
              "</tbody>\n",
              "</table>\n"
            ],
            "text/markdown": "\nA matrix: 2 × 6 of type dbl\n\n| <!--/--> | used | (Mb) | gc trigger | (Mb) | max used | (Mb) |\n|---|---|---|---|---|---|---|\n| Ncells |  657244 | 35.2 | 1454474 | 77.7 | 1326117 | 70.9 |\n| Vcells | 1220271 |  9.4 | 8388608 | 64.0 | 1975128 | 15.1 |\n\n",
            "text/latex": "A matrix: 2 × 6 of type dbl\n\\begin{tabular}{r|llllll}\n  & used & (Mb) & gc trigger & (Mb) & max used & (Mb)\\\\\n\\hline\n\tNcells &  657244 & 35.2 & 1454474 & 77.7 & 1326117 & 70.9\\\\\n\tVcells & 1220271 &  9.4 & 8388608 & 64.0 & 1975128 & 15.1\\\\\n\\end{tabular}\n",
            "text/plain": [
              "       used    (Mb) gc trigger (Mb) max used (Mb)\n",
              "Ncells  657244 35.2 1454474    77.7 1326117  70.9\n",
              "Vcells 1220271  9.4 8388608    64.0 1975128  15.1"
            ]
          },
          "metadata": {}
        }
      ]
    },
    {
      "cell_type": "code",
      "source": [
        "# cargo las librerias que necesito\n",
        "require(\"data.table\")\n",
        "require(\"rpart\")\n",
        "require(\"parallel\")\n",
        "if (!require(\"primes\")) install.packages(\"primes\")\n",
        "require(\"primes\")"
      ],
      "metadata": {
        "id": "JO-12d7YHkWy",
        "colab": {
          "base_uri": "https://localhost:8080/"
        },
        "outputId": "233b216b-6a2f-4260-98e7-5e5b552f11b6"
      },
      "execution_count": 2,
      "outputs": [
        {
          "output_type": "stream",
          "name": "stderr",
          "text": [
            "Loading required package: data.table\n",
            "\n",
            "Loading required package: rpart\n",
            "\n",
            "Loading required package: parallel\n",
            "\n",
            "Loading required package: primes\n",
            "\n",
            "Warning message in library(package, lib.loc = lib.loc, character.only = TRUE, logical.return = TRUE, :\n",
            "“there is no package called ‘primes’”\n",
            "Installing package into ‘/usr/local/lib/R/site-library’\n",
            "(as ‘lib’ is unspecified)\n",
            "\n",
            "Loading required package: primes\n",
            "\n"
          ]
        }
      ]
    },
    {
      "cell_type": "markdown",
      "source": [
        "Aqui debe poner SU semiila primigenia"
      ],
      "metadata": {
        "id": "0MclPEJ6Q8Bp"
      }
    },
    {
      "cell_type": "code",
      "source": [
        "PARAM <- list()\n",
        "# reemplazar por su primer semilla\n",
        "PARAM$semilla_primigenia <- 765179\n",
        "PARAM$qsemillas <- 10\n",
        "\n",
        "PARAM$training_pct <- 70L  # entre  1L y 99L\n",
        "\n",
        "# elegir SU dataset comentando/ descomentando\n",
        "PARAM$dataset_nom <- \"~/datasets/dataset_pequeno.csv\""
      ],
      "metadata": {
        "id": "Vt5fC6bWHu5r"
      },
      "execution_count": 3,
      "outputs": []
    },
    {
      "cell_type": "code",
      "source": [
        "# particionar agrega una columna llamada fold a un dataset\n",
        "#  que consiste en una particion estratificada segun agrupa\n",
        "# particionar( data=dataset, division=c(70,30), agrupa=clase_ternaria, seed=semilla)\n",
        "#   crea una particion 70, 30\n",
        "\n",
        "particionar <- function(data, division, agrupa = \"\", campo = \"fold\", start = 1, seed = NA) {\n",
        "  if (!is.na(seed)) set.seed(seed)\n",
        "\n",
        "  bloque <- unlist(mapply(function(x, y) {\n",
        "    rep(y, x)\n",
        "  }, division, seq(from = start, length.out = length(division))))\n",
        "\n",
        "  # Modified: Add the 'fold' column directly to the data.table\n",
        "  data[, (campo) := sample(rep(bloque, ceiling(.N / length(bloque))))[1:.N],\n",
        "    by = agrupa\n",
        "  ]\n",
        "  return(invisible(NULL)) # Return NULL invisibly as the data.table is modified in place\n",
        "}"
      ],
      "metadata": {
        "id": "Z1dchsrWH4MD"
      },
      "execution_count": 4,
      "outputs": []
    },
    {
      "cell_type": "code",
      "source": [
        "ArbolEstimarGanancia <- function(semilla, training_pct, param_basicos) {\n",
        "  # particiono estratificadamente el dataset\n",
        "  particionar(dataset,\n",
        "    division = c(training_pct, 100L -training_pct),\n",
        "    agrupa = \"clase_ternaria\",\n",
        "    seed = semilla # aqui se usa SU semilla\n",
        "  )\n",
        "\n",
        "  # genero el modelo\n",
        "  # predecir clase_ternaria a partir del resto\n",
        "  modelo <- rpart(\"clase_ternaria ~ .\",\n",
        "    data = dataset[fold == 1], # fold==1  es training,  el 70% de los datos\n",
        "    xval = 0,\n",
        "    control = param_basicos\n",
        "  ) # aqui van los parametros del arbol\n",
        "\n",
        "  # aplico el modelo a los datos de testing\n",
        "  prediccion <- predict(modelo, # el modelo que genere recien\n",
        "    dataset[fold == 2], # fold==2  es testing, el 30% de los datos\n",
        "    type = \"prob\"\n",
        "  ) # type= \"prob\"  es que devuelva la probabilidad\n",
        "\n",
        "  # prediccion es una matriz con TRES columnas,\n",
        "  #  llamadas \"BAJA+1\", \"BAJA+2\"  y \"CONTINUA\"\n",
        "  # cada columna es el vector de probabilidades\n",
        "\n",
        "\n",
        "  # calculo la ganancia en testing  qu es fold==2\n",
        "  ganancia_test <- dataset[\n",
        "    fold == 2,\n",
        "    sum(ifelse(prediccion[, \"BAJA+2\"] > 0.025,\n",
        "      ifelse(clase_ternaria == \"BAJA+2\", 117000, -3000),\n",
        "      0\n",
        "    ))\n",
        "  ]\n",
        "\n",
        "  # escalo la ganancia como si fuera todo el dataset\n",
        "  ganancia_test_normalizada <- ganancia_test / (( 100 - PARAM$training_pct ) / 100 )\n",
        "\n",
        "  return(\n",
        "    c( list(\"semilla\" = semilla),\n",
        "      param_basicos,\n",
        "      list( \"ganancia_test\" = ganancia_test_normalizada )\n",
        "     )\n",
        "  )\n",
        "}"
      ],
      "metadata": {
        "id": "xsHwS1CzIA70"
      },
      "execution_count": 5,
      "outputs": []
    },
    {
      "cell_type": "code",
      "source": [
        "ArbolesMontecarlo <- function(semillas, param_basicos) {\n",
        "\n",
        "  # la funcion mcmapply  llama a la funcion ArbolEstimarGanancia\n",
        "  #  tantas veces como valores tenga el vector  PARAM$semillas\n",
        "  salida <- mcmapply(ArbolEstimarGanancia,\n",
        "    semillas, # paso el vector de semillas\n",
        "    MoreArgs = list(PARAM$training_pct, param_basicos), # aqui paso el segundo parametro\n",
        "    SIMPLIFY = FALSE,\n",
        "    mc.cores = detectCores()\n",
        "  )\n",
        "\n",
        "  return(salida)\n",
        "}"
      ],
      "metadata": {
        "id": "BvBVOuhqIEjD"
      },
      "execution_count": 6,
      "outputs": []
    },
    {
      "cell_type": "code",
      "source": [
        "# carpeta de trabajo\n",
        "# por fabor cambiar numero de experimento si se cambia el loop principal\n",
        "setwd(\"/content/buckets/b1/exp\")\n",
        "experimento <- \"HT2900\"\n",
        "dir.create(experimento, showWarnings=FALSE)\n",
        "setwd( paste0(\"/content/buckets/b1/exp/\", experimento ))"
      ],
      "metadata": {
        "id": "L-DOGHOjIG7G"
      },
      "execution_count": 7,
      "outputs": []
    },
    {
      "cell_type": "code",
      "source": [
        "# lectura del dataset\n",
        "dataset <- fread(\"/content/datasets/dataset_pequeno.csv\")\n",
        "\n",
        "# trabajo solo con los datos con clase, es decir 202107\n",
        "dataset <- dataset[clase_ternaria != \"\"]"
      ],
      "metadata": {
        "id": "NM-mrLWcIPo6"
      },
      "execution_count": 8,
      "outputs": []
    },
    {
      "cell_type": "code",
      "source": [
        "# genero numeros primos\n",
        "primos <- generate_primes(min = 100000, max = 1000000)\n",
        "set.seed(PARAM$semilla_primigenia) # inicializo\n",
        "# me quedo con PARAM$qsemillas   semillas\n",
        "PARAM$semillas <- sample(primos, PARAM$qsemillas )"
      ],
      "metadata": {
        "id": "tSlY0EcgIWdi"
      },
      "execution_count": 9,
      "outputs": []
    },
    {
      "cell_type": "code",
      "source": [
        "# genero la data.table donde van los resultados detallados del Grid Search\n",
        "# un registro para cada combinacion de < semilla, parametros >\n",
        "\n",
        "if(file.exists(\"RefinedGridsearch_detalle.txt\")){\n",
        "  tb_grid_search_detalle <- fread(\"RefinedGridsearch_detalle.txt\")\n",
        "}else{\n",
        "  tb_grid_search_detalle <- data.table(\n",
        "    semilla = integer(),\n",
        "    cp = numeric(),\n",
        "    maxdepth = integer(),\n",
        "   minsplit = integer(),\n",
        "    minbucket = integer(),\n",
        "    ganancia_test = numeric()\n",
        "  )\n",
        "}\n",
        "\n",
        "nrow( tb_grid_search_detalle )"
      ],
      "metadata": {
        "id": "xxCAwIKyIaTl",
        "outputId": "e91c5a20-d5da-4cb2-ae1b-37c82d9b34c5",
        "colab": {
          "base_uri": "https://localhost:8080/",
          "height": 34
        }
      },
      "execution_count": 35,
      "outputs": [
        {
          "output_type": "display_data",
          "data": {
            "text/html": [
              "560"
            ],
            "text/markdown": "560",
            "text/latex": "560",
            "text/plain": [
              "[1] 560"
            ]
          },
          "metadata": {}
        }
      ]
    },
    {
      "cell_type": "code",
      "source": [
        "# data.table threads (0 = auto use all)\n",
        "data.table::setDTthreads(0)\n",
        "data.table::getDTthreads()"
      ],
      "metadata": {
        "colab": {
          "base_uri": "https://localhost:8080/",
          "height": 34
        },
        "id": "1kEF1wvkozIh",
        "outputId": "dc0f5369-a2a8-4bb0-c358-c21f188506e3"
      },
      "execution_count": 26,
      "outputs": [
        {
          "output_type": "display_data",
          "data": {
            "text/html": [
              "8"
            ],
            "text/markdown": "8",
            "text/latex": "8",
            "text/plain": [
              "[1] 8"
            ]
          },
          "metadata": {}
        }
      ]
    },
    {
      "cell_type": "code",
      "metadata": {
        "id": "4511259c"
      },
      "source": [
        "# Partition the dataset after loading and filtering\n",
        "particionar(dataset,\n",
        "  division = c(PARAM$training_pct, 100L - PARAM$training_pct),\n",
        "  agrupa = \"clase_ternaria\",\n",
        "  seed = PARAM$semilla_primigenia\n",
        ")"
      ],
      "execution_count": 12,
      "outputs": []
    },
    {
      "cell_type": "code",
      "source": [
        "# Overall counts per fold (1 = train, 2 = test)\n",
        "fold_counts <- dataset[, .N, by = fold][order(fold)]\n",
        "fold_counts[, pct := round(100 * N / sum(N), 2)]\n",
        "fold_counts\n",
        "\n",
        "# number of training rows (fold == 1)\n",
        "n_train <- dataset[, sum(fold == 1L)]\n",
        "n_train"
      ],
      "metadata": {
        "colab": {
          "base_uri": "https://localhost:8080/",
          "height": 178
        },
        "id": "c47CCH6XCMzE",
        "outputId": "ceee8334-107e-4ba9-dedc-0cef3fe2799b"
      },
      "execution_count": 13,
      "outputs": [
        {
          "output_type": "display_data",
          "data": {
            "text/html": [
              "<table class=\"dataframe\">\n",
              "<caption>A data.table: 2 × 3</caption>\n",
              "<thead>\n",
              "\t<tr><th scope=col>fold</th><th scope=col>N</th><th scope=col>pct</th></tr>\n",
              "\t<tr><th scope=col>&lt;dbl&gt;</th><th scope=col>&lt;int&gt;</th><th scope=col>&lt;dbl&gt;</th></tr>\n",
              "</thead>\n",
              "<tbody>\n",
              "\t<tr><td>1</td><td>115211</td><td>70</td></tr>\n",
              "\t<tr><td>2</td><td> 49385</td><td>30</td></tr>\n",
              "</tbody>\n",
              "</table>\n"
            ],
            "text/markdown": "\nA data.table: 2 × 3\n\n| fold &lt;dbl&gt; | N &lt;int&gt; | pct &lt;dbl&gt; |\n|---|---|---|\n| 1 | 115211 | 70 |\n| 2 |  49385 | 30 |\n\n",
            "text/latex": "A data.table: 2 × 3\n\\begin{tabular}{lll}\n fold & N & pct\\\\\n <dbl> & <int> & <dbl>\\\\\n\\hline\n\t 1 & 115211 & 70\\\\\n\t 2 &  49385 & 30\\\\\n\\end{tabular}\n",
            "text/plain": [
              "  fold N      pct\n",
              "1 1    115211 70 \n",
              "2 2     49385 30 "
            ]
          },
          "metadata": {}
        },
        {
          "output_type": "display_data",
          "data": {
            "text/html": [
              "115211"
            ],
            "text/markdown": "115211",
            "text/latex": "115211",
            "text/plain": [
              "[1] 115211"
            ]
          },
          "metadata": {}
        }
      ]
    },
    {
      "cell_type": "markdown",
      "source": [
        "Esta es la parte del código que usted debe expandir a TODOS los hiperparámetros de rpart,\n",
        "<br>ya que actualmente apenas recorre  maxdepth y  minsplit  dejando fijos  cp=-0.5  y minbucket=5"
      ],
      "metadata": {
        "id": "eAuGBNL8IkOD"
      }
    },
    {
      "cell_type": "code",
      "source": [
        "iter <- 0\n",
        "\n",
        "cp_set        <- c(-0.5)\n",
        "maxdepth_set  <- c(7, 8)\n",
        "minsplit_set  <- c(60, 80, 100, 115, 130, 150, 180, 200, 250, 300, 400, 600, 800, 1000)\n",
        "minbucket_set <- c(15, 20, 25, 29, 32, 38, 45, 50, 62, 250)\n",
        "\n",
        "\n",
        "for (vmax_depth in maxdepth_set) {\n",
        "  for (vmin_split in minsplit_set) {\n",
        "    for (vmin_bucket in minbucket_set) {\n",
        "      for (vcp in cp_set) {\n",
        "\n",
        "        iter <- iter + 1\n",
        "        cat(iter, \" \"); flush.console()\n",
        "        if (iter * PARAM$qsemillas < nrow(tb_grid_search_detalle) + 1) next\n",
        "\n",
        "        param_basicos <- list(\n",
        "          cp        = vcp,\n",
        "          maxdepth  = vmax_depth,\n",
        "          minsplit  = vmin_split,\n",
        "          minbucket = vmin_bucket\n",
        "        )\n",
        "\n",
        "        ganancias <- ArbolesMontecarlo(PARAM$semillas, param_basicos)\n",
        "\n",
        "        tb_grid_search_detalle <- rbindlist(\n",
        "          list(tb_grid_search_detalle,\n",
        "               rbindlist(ganancias, use.names = TRUE, fill = TRUE)),\n",
        "          use.names = TRUE, fill = TRUE\n",
        "        )\n",
        "        fwrite(tb_grid_search_detalle, \"RefinedGridsearch_detalle.txt\", sep = \"\\t\")\n",
        "      }\n",
        "    }\n",
        "  }\n",
        "}\n"
      ],
      "metadata": {
        "id": "TiNwJEjzEfBX",
        "outputId": "af129f08-2bff-458b-fd3a-693f84e06036",
        "colab": {
          "base_uri": "https://localhost:8080/"
        }
      },
      "execution_count": 36,
      "outputs": [
        {
          "output_type": "stream",
          "name": "stdout",
          "text": [
            "1  2  3  4  5  6  7  8  9  10  11  12  13  14  15  16  17  18  19  20  21  22  23  24  25  26  27  28  29  30  31  32  33  34  35  36  37  38  39  40  41  42  43  44  45  46  47  48  49  50  51  52  53  54  55  56  57  58  59  60  61  62  63  64  65  66  67  68  69  70  71  72  73  74  75  76  77  78  79  80  81  82  83  84  85  86  87  88  89  90  91  92  93  94  95  96  97  98  99  100  101  102  103  104  105  106  107  108  109  110  111  112  113  114  115  116  117  118  119  120  "
          ]
        }
      ]
    },
    {
      "cell_type": "code",
      "source": [
        "fwrite( tb_grid_search_detalle,\n",
        "   file = \"RefinedGridsearch_detalle.txt\",\n",
        "   sep = \"\\t\"\n",
        ")"
      ],
      "metadata": {
        "id": "LubuUu9R_5-7"
      },
      "execution_count": 37,
      "outputs": []
    },
    {
      "cell_type": "code",
      "source": [
        "# cantidad de registros de la tabla\n",
        "nrow(tb_grid_search_detalle)"
      ],
      "metadata": {
        "id": "STp0duM-RYVJ",
        "colab": {
          "base_uri": "https://localhost:8080/",
          "height": 34
        },
        "outputId": "f565226d-2455-4c85-b244-bb34b54afbfe"
      },
      "execution_count": 38,
      "outputs": [
        {
          "output_type": "display_data",
          "data": {
            "text/html": [
              "600"
            ],
            "text/markdown": "600",
            "text/latex": "600",
            "text/plain": [
              "[1] 600"
            ]
          },
          "metadata": {}
        }
      ]
    },
    {
      "cell_type": "code",
      "source": [
        "# muestro la tabla\n",
        "tb_grid_search_detalle"
      ],
      "metadata": {
        "id": "k7fhk_H0iNez",
        "colab": {
          "base_uri": "https://localhost:8080/",
          "height": 1000
        },
        "outputId": "fd728a60-0162-4682-eead-7f88678b8690"
      },
      "execution_count": 39,
      "outputs": [
        {
          "output_type": "display_data",
          "data": {
            "text/html": [
              "<table class=\"dataframe\">\n",
              "<caption>A data.table: 600 × 6</caption>\n",
              "<thead>\n",
              "\t<tr><th scope=col>semilla</th><th scope=col>cp</th><th scope=col>maxdepth</th><th scope=col>minsplit</th><th scope=col>minbucket</th><th scope=col>ganancia_test</th></tr>\n",
              "\t<tr><th scope=col>&lt;int&gt;</th><th scope=col>&lt;dbl&gt;</th><th scope=col>&lt;dbl&gt;</th><th scope=col>&lt;dbl&gt;</th><th scope=col>&lt;dbl&gt;</th><th scope=col>&lt;dbl&gt;</th></tr>\n",
              "</thead>\n",
              "<tbody>\n",
              "\t<tr><td>439891</td><td>-0.1</td><td>6</td><td>20</td><td> 10</td><td>43020000</td></tr>\n",
              "\t<tr><td>644123</td><td>-0.1</td><td>6</td><td>20</td><td> 10</td><td>47380000</td></tr>\n",
              "\t<tr><td>213149</td><td>-0.1</td><td>6</td><td>20</td><td> 10</td><td>45070000</td></tr>\n",
              "\t<tr><td>366193</td><td>-0.1</td><td>6</td><td>20</td><td> 10</td><td>46650000</td></tr>\n",
              "\t<tr><td>303731</td><td>-0.1</td><td>6</td><td>20</td><td> 10</td><td>44960000</td></tr>\n",
              "\t<tr><td>439891</td><td>-1.0</td><td>6</td><td>20</td><td> 10</td><td>43020000</td></tr>\n",
              "\t<tr><td>644123</td><td>-1.0</td><td>6</td><td>20</td><td> 10</td><td>47380000</td></tr>\n",
              "\t<tr><td>213149</td><td>-1.0</td><td>6</td><td>20</td><td> 10</td><td>45070000</td></tr>\n",
              "\t<tr><td>366193</td><td>-1.0</td><td>6</td><td>20</td><td> 10</td><td>46650000</td></tr>\n",
              "\t<tr><td>303731</td><td>-1.0</td><td>6</td><td>20</td><td> 10</td><td>44960000</td></tr>\n",
              "\t<tr><td>439891</td><td>-0.1</td><td>6</td><td>20</td><td> 20</td><td>43520000</td></tr>\n",
              "\t<tr><td>644123</td><td>-0.1</td><td>6</td><td>20</td><td> 20</td><td>47430000</td></tr>\n",
              "\t<tr><td>213149</td><td>-0.1</td><td>6</td><td>20</td><td> 20</td><td>45690000</td></tr>\n",
              "\t<tr><td>366193</td><td>-0.1</td><td>6</td><td>20</td><td> 20</td><td>45210000</td></tr>\n",
              "\t<tr><td>303731</td><td>-0.1</td><td>6</td><td>20</td><td> 20</td><td>44540000</td></tr>\n",
              "\t<tr><td>439891</td><td>-1.0</td><td>6</td><td>20</td><td> 20</td><td>43520000</td></tr>\n",
              "\t<tr><td>644123</td><td>-1.0</td><td>6</td><td>20</td><td> 20</td><td>47430000</td></tr>\n",
              "\t<tr><td>213149</td><td>-1.0</td><td>6</td><td>20</td><td> 20</td><td>45690000</td></tr>\n",
              "\t<tr><td>366193</td><td>-1.0</td><td>6</td><td>20</td><td> 20</td><td>45210000</td></tr>\n",
              "\t<tr><td>303731</td><td>-1.0</td><td>6</td><td>20</td><td> 20</td><td>44540000</td></tr>\n",
              "\t<tr><td>439891</td><td>-0.1</td><td>6</td><td>20</td><td>100</td><td>46640000</td></tr>\n",
              "\t<tr><td>644123</td><td>-0.1</td><td>6</td><td>20</td><td>100</td><td>52480000</td></tr>\n",
              "\t<tr><td>213149</td><td>-0.1</td><td>6</td><td>20</td><td>100</td><td>48000000</td></tr>\n",
              "\t<tr><td>366193</td><td>-0.1</td><td>6</td><td>20</td><td>100</td><td>51320000</td></tr>\n",
              "\t<tr><td>303731</td><td>-0.1</td><td>6</td><td>20</td><td>100</td><td>47880000</td></tr>\n",
              "\t<tr><td>439891</td><td>-1.0</td><td>6</td><td>20</td><td>100</td><td>46640000</td></tr>\n",
              "\t<tr><td>644123</td><td>-1.0</td><td>6</td><td>20</td><td>100</td><td>52480000</td></tr>\n",
              "\t<tr><td>213149</td><td>-1.0</td><td>6</td><td>20</td><td>100</td><td>48000000</td></tr>\n",
              "\t<tr><td>366193</td><td>-1.0</td><td>6</td><td>20</td><td>100</td><td>51320000</td></tr>\n",
              "\t<tr><td>303731</td><td>-1.0</td><td>6</td><td>20</td><td>100</td><td>47880000</td></tr>\n",
              "\t<tr><td>⋮</td><td>⋮</td><td>⋮</td><td>⋮</td><td>⋮</td><td>⋮</td></tr>\n",
              "\t<tr><td>439891</td><td>-0.1</td><td>12</td><td>800</td><td> 20</td><td>44510000</td></tr>\n",
              "\t<tr><td>644123</td><td>-0.1</td><td>12</td><td>800</td><td> 20</td><td>48340000</td></tr>\n",
              "\t<tr><td>213149</td><td>-0.1</td><td>12</td><td>800</td><td> 20</td><td>41510000</td></tr>\n",
              "\t<tr><td>366193</td><td>-0.1</td><td>12</td><td>800</td><td> 20</td><td>45990000</td></tr>\n",
              "\t<tr><td>303731</td><td>-0.1</td><td>12</td><td>800</td><td> 20</td><td>46750000</td></tr>\n",
              "\t<tr><td>439891</td><td>-1.0</td><td>12</td><td>800</td><td> 20</td><td>44510000</td></tr>\n",
              "\t<tr><td>644123</td><td>-1.0</td><td>12</td><td>800</td><td> 20</td><td>48340000</td></tr>\n",
              "\t<tr><td>213149</td><td>-1.0</td><td>12</td><td>800</td><td> 20</td><td>41510000</td></tr>\n",
              "\t<tr><td>366193</td><td>-1.0</td><td>12</td><td>800</td><td> 20</td><td>45990000</td></tr>\n",
              "\t<tr><td>303731</td><td>-1.0</td><td>12</td><td>800</td><td> 20</td><td>46750000</td></tr>\n",
              "\t<tr><td>439891</td><td>-0.1</td><td>12</td><td>800</td><td>100</td><td>46480000</td></tr>\n",
              "\t<tr><td>644123</td><td>-0.1</td><td>12</td><td>800</td><td>100</td><td>49190000</td></tr>\n",
              "\t<tr><td>213149</td><td>-0.1</td><td>12</td><td>800</td><td>100</td><td>43400000</td></tr>\n",
              "\t<tr><td>366193</td><td>-0.1</td><td>12</td><td>800</td><td>100</td><td>45430000</td></tr>\n",
              "\t<tr><td>303731</td><td>-0.1</td><td>12</td><td>800</td><td>100</td><td>43870000</td></tr>\n",
              "\t<tr><td>439891</td><td>-1.0</td><td>12</td><td>800</td><td>100</td><td>46480000</td></tr>\n",
              "\t<tr><td>644123</td><td>-1.0</td><td>12</td><td>800</td><td>100</td><td>49190000</td></tr>\n",
              "\t<tr><td>213149</td><td>-1.0</td><td>12</td><td>800</td><td>100</td><td>43400000</td></tr>\n",
              "\t<tr><td>366193</td><td>-1.0</td><td>12</td><td>800</td><td>100</td><td>45430000</td></tr>\n",
              "\t<tr><td>303731</td><td>-1.0</td><td>12</td><td>800</td><td>100</td><td>43870000</td></tr>\n",
              "\t<tr><td>439891</td><td>-0.1</td><td>12</td><td>800</td><td>133</td><td>45910000</td></tr>\n",
              "\t<tr><td>644123</td><td>-0.1</td><td>12</td><td>800</td><td>133</td><td>47040000</td></tr>\n",
              "\t<tr><td>213149</td><td>-0.1</td><td>12</td><td>800</td><td>133</td><td>44430000</td></tr>\n",
              "\t<tr><td>366193</td><td>-0.1</td><td>12</td><td>800</td><td>133</td><td>44580000</td></tr>\n",
              "\t<tr><td>303731</td><td>-0.1</td><td>12</td><td>800</td><td>133</td><td>46520000</td></tr>\n",
              "\t<tr><td>439891</td><td>-1.0</td><td>12</td><td>800</td><td>133</td><td>45910000</td></tr>\n",
              "\t<tr><td>644123</td><td>-1.0</td><td>12</td><td>800</td><td>133</td><td>47040000</td></tr>\n",
              "\t<tr><td>213149</td><td>-1.0</td><td>12</td><td>800</td><td>133</td><td>44430000</td></tr>\n",
              "\t<tr><td>366193</td><td>-1.0</td><td>12</td><td>800</td><td>133</td><td>44580000</td></tr>\n",
              "\t<tr><td>303731</td><td>-1.0</td><td>12</td><td>800</td><td>133</td><td>46520000</td></tr>\n",
              "</tbody>\n",
              "</table>\n"
            ],
            "text/markdown": "\nA data.table: 600 × 6\n\n| semilla &lt;int&gt; | cp &lt;dbl&gt; | maxdepth &lt;dbl&gt; | minsplit &lt;dbl&gt; | minbucket &lt;dbl&gt; | ganancia_test &lt;dbl&gt; |\n|---|---|---|---|---|---|\n| 439891 | -0.1 | 6 | 20 |  10 | 43020000 |\n| 644123 | -0.1 | 6 | 20 |  10 | 47380000 |\n| 213149 | -0.1 | 6 | 20 |  10 | 45070000 |\n| 366193 | -0.1 | 6 | 20 |  10 | 46650000 |\n| 303731 | -0.1 | 6 | 20 |  10 | 44960000 |\n| 439891 | -1.0 | 6 | 20 |  10 | 43020000 |\n| 644123 | -1.0 | 6 | 20 |  10 | 47380000 |\n| 213149 | -1.0 | 6 | 20 |  10 | 45070000 |\n| 366193 | -1.0 | 6 | 20 |  10 | 46650000 |\n| 303731 | -1.0 | 6 | 20 |  10 | 44960000 |\n| 439891 | -0.1 | 6 | 20 |  20 | 43520000 |\n| 644123 | -0.1 | 6 | 20 |  20 | 47430000 |\n| 213149 | -0.1 | 6 | 20 |  20 | 45690000 |\n| 366193 | -0.1 | 6 | 20 |  20 | 45210000 |\n| 303731 | -0.1 | 6 | 20 |  20 | 44540000 |\n| 439891 | -1.0 | 6 | 20 |  20 | 43520000 |\n| 644123 | -1.0 | 6 | 20 |  20 | 47430000 |\n| 213149 | -1.0 | 6 | 20 |  20 | 45690000 |\n| 366193 | -1.0 | 6 | 20 |  20 | 45210000 |\n| 303731 | -1.0 | 6 | 20 |  20 | 44540000 |\n| 439891 | -0.1 | 6 | 20 | 100 | 46640000 |\n| 644123 | -0.1 | 6 | 20 | 100 | 52480000 |\n| 213149 | -0.1 | 6 | 20 | 100 | 48000000 |\n| 366193 | -0.1 | 6 | 20 | 100 | 51320000 |\n| 303731 | -0.1 | 6 | 20 | 100 | 47880000 |\n| 439891 | -1.0 | 6 | 20 | 100 | 46640000 |\n| 644123 | -1.0 | 6 | 20 | 100 | 52480000 |\n| 213149 | -1.0 | 6 | 20 | 100 | 48000000 |\n| 366193 | -1.0 | 6 | 20 | 100 | 51320000 |\n| 303731 | -1.0 | 6 | 20 | 100 | 47880000 |\n| ⋮ | ⋮ | ⋮ | ⋮ | ⋮ | ⋮ |\n| 439891 | -0.1 | 12 | 800 |  20 | 44510000 |\n| 644123 | -0.1 | 12 | 800 |  20 | 48340000 |\n| 213149 | -0.1 | 12 | 800 |  20 | 41510000 |\n| 366193 | -0.1 | 12 | 800 |  20 | 45990000 |\n| 303731 | -0.1 | 12 | 800 |  20 | 46750000 |\n| 439891 | -1.0 | 12 | 800 |  20 | 44510000 |\n| 644123 | -1.0 | 12 | 800 |  20 | 48340000 |\n| 213149 | -1.0 | 12 | 800 |  20 | 41510000 |\n| 366193 | -1.0 | 12 | 800 |  20 | 45990000 |\n| 303731 | -1.0 | 12 | 800 |  20 | 46750000 |\n| 439891 | -0.1 | 12 | 800 | 100 | 46480000 |\n| 644123 | -0.1 | 12 | 800 | 100 | 49190000 |\n| 213149 | -0.1 | 12 | 800 | 100 | 43400000 |\n| 366193 | -0.1 | 12 | 800 | 100 | 45430000 |\n| 303731 | -0.1 | 12 | 800 | 100 | 43870000 |\n| 439891 | -1.0 | 12 | 800 | 100 | 46480000 |\n| 644123 | -1.0 | 12 | 800 | 100 | 49190000 |\n| 213149 | -1.0 | 12 | 800 | 100 | 43400000 |\n| 366193 | -1.0 | 12 | 800 | 100 | 45430000 |\n| 303731 | -1.0 | 12 | 800 | 100 | 43870000 |\n| 439891 | -0.1 | 12 | 800 | 133 | 45910000 |\n| 644123 | -0.1 | 12 | 800 | 133 | 47040000 |\n| 213149 | -0.1 | 12 | 800 | 133 | 44430000 |\n| 366193 | -0.1 | 12 | 800 | 133 | 44580000 |\n| 303731 | -0.1 | 12 | 800 | 133 | 46520000 |\n| 439891 | -1.0 | 12 | 800 | 133 | 45910000 |\n| 644123 | -1.0 | 12 | 800 | 133 | 47040000 |\n| 213149 | -1.0 | 12 | 800 | 133 | 44430000 |\n| 366193 | -1.0 | 12 | 800 | 133 | 44580000 |\n| 303731 | -1.0 | 12 | 800 | 133 | 46520000 |\n\n",
            "text/latex": "A data.table: 600 × 6\n\\begin{tabular}{llllll}\n semilla & cp & maxdepth & minsplit & minbucket & ganancia\\_test\\\\\n <int> & <dbl> & <dbl> & <dbl> & <dbl> & <dbl>\\\\\n\\hline\n\t 439891 & -0.1 & 6 & 20 &  10 & 43020000\\\\\n\t 644123 & -0.1 & 6 & 20 &  10 & 47380000\\\\\n\t 213149 & -0.1 & 6 & 20 &  10 & 45070000\\\\\n\t 366193 & -0.1 & 6 & 20 &  10 & 46650000\\\\\n\t 303731 & -0.1 & 6 & 20 &  10 & 44960000\\\\\n\t 439891 & -1.0 & 6 & 20 &  10 & 43020000\\\\\n\t 644123 & -1.0 & 6 & 20 &  10 & 47380000\\\\\n\t 213149 & -1.0 & 6 & 20 &  10 & 45070000\\\\\n\t 366193 & -1.0 & 6 & 20 &  10 & 46650000\\\\\n\t 303731 & -1.0 & 6 & 20 &  10 & 44960000\\\\\n\t 439891 & -0.1 & 6 & 20 &  20 & 43520000\\\\\n\t 644123 & -0.1 & 6 & 20 &  20 & 47430000\\\\\n\t 213149 & -0.1 & 6 & 20 &  20 & 45690000\\\\\n\t 366193 & -0.1 & 6 & 20 &  20 & 45210000\\\\\n\t 303731 & -0.1 & 6 & 20 &  20 & 44540000\\\\\n\t 439891 & -1.0 & 6 & 20 &  20 & 43520000\\\\\n\t 644123 & -1.0 & 6 & 20 &  20 & 47430000\\\\\n\t 213149 & -1.0 & 6 & 20 &  20 & 45690000\\\\\n\t 366193 & -1.0 & 6 & 20 &  20 & 45210000\\\\\n\t 303731 & -1.0 & 6 & 20 &  20 & 44540000\\\\\n\t 439891 & -0.1 & 6 & 20 & 100 & 46640000\\\\\n\t 644123 & -0.1 & 6 & 20 & 100 & 52480000\\\\\n\t 213149 & -0.1 & 6 & 20 & 100 & 48000000\\\\\n\t 366193 & -0.1 & 6 & 20 & 100 & 51320000\\\\\n\t 303731 & -0.1 & 6 & 20 & 100 & 47880000\\\\\n\t 439891 & -1.0 & 6 & 20 & 100 & 46640000\\\\\n\t 644123 & -1.0 & 6 & 20 & 100 & 52480000\\\\\n\t 213149 & -1.0 & 6 & 20 & 100 & 48000000\\\\\n\t 366193 & -1.0 & 6 & 20 & 100 & 51320000\\\\\n\t 303731 & -1.0 & 6 & 20 & 100 & 47880000\\\\\n\t ⋮ & ⋮ & ⋮ & ⋮ & ⋮ & ⋮\\\\\n\t 439891 & -0.1 & 12 & 800 &  20 & 44510000\\\\\n\t 644123 & -0.1 & 12 & 800 &  20 & 48340000\\\\\n\t 213149 & -0.1 & 12 & 800 &  20 & 41510000\\\\\n\t 366193 & -0.1 & 12 & 800 &  20 & 45990000\\\\\n\t 303731 & -0.1 & 12 & 800 &  20 & 46750000\\\\\n\t 439891 & -1.0 & 12 & 800 &  20 & 44510000\\\\\n\t 644123 & -1.0 & 12 & 800 &  20 & 48340000\\\\\n\t 213149 & -1.0 & 12 & 800 &  20 & 41510000\\\\\n\t 366193 & -1.0 & 12 & 800 &  20 & 45990000\\\\\n\t 303731 & -1.0 & 12 & 800 &  20 & 46750000\\\\\n\t 439891 & -0.1 & 12 & 800 & 100 & 46480000\\\\\n\t 644123 & -0.1 & 12 & 800 & 100 & 49190000\\\\\n\t 213149 & -0.1 & 12 & 800 & 100 & 43400000\\\\\n\t 366193 & -0.1 & 12 & 800 & 100 & 45430000\\\\\n\t 303731 & -0.1 & 12 & 800 & 100 & 43870000\\\\\n\t 439891 & -1.0 & 12 & 800 & 100 & 46480000\\\\\n\t 644123 & -1.0 & 12 & 800 & 100 & 49190000\\\\\n\t 213149 & -1.0 & 12 & 800 & 100 & 43400000\\\\\n\t 366193 & -1.0 & 12 & 800 & 100 & 45430000\\\\\n\t 303731 & -1.0 & 12 & 800 & 100 & 43870000\\\\\n\t 439891 & -0.1 & 12 & 800 & 133 & 45910000\\\\\n\t 644123 & -0.1 & 12 & 800 & 133 & 47040000\\\\\n\t 213149 & -0.1 & 12 & 800 & 133 & 44430000\\\\\n\t 366193 & -0.1 & 12 & 800 & 133 & 44580000\\\\\n\t 303731 & -0.1 & 12 & 800 & 133 & 46520000\\\\\n\t 439891 & -1.0 & 12 & 800 & 133 & 45910000\\\\\n\t 644123 & -1.0 & 12 & 800 & 133 & 47040000\\\\\n\t 213149 & -1.0 & 12 & 800 & 133 & 44430000\\\\\n\t 366193 & -1.0 & 12 & 800 & 133 & 44580000\\\\\n\t 303731 & -1.0 & 12 & 800 & 133 & 46520000\\\\\n\\end{tabular}\n",
            "text/plain": [
              "    semilla cp   maxdepth minsplit minbucket ganancia_test\n",
              "1   439891  -0.1 6        20        10       43020000     \n",
              "2   644123  -0.1 6        20        10       47380000     \n",
              "3   213149  -0.1 6        20        10       45070000     \n",
              "4   366193  -0.1 6        20        10       46650000     \n",
              "5   303731  -0.1 6        20        10       44960000     \n",
              "6   439891  -1.0 6        20        10       43020000     \n",
              "7   644123  -1.0 6        20        10       47380000     \n",
              "8   213149  -1.0 6        20        10       45070000     \n",
              "9   366193  -1.0 6        20        10       46650000     \n",
              "10  303731  -1.0 6        20        10       44960000     \n",
              "11  439891  -0.1 6        20        20       43520000     \n",
              "12  644123  -0.1 6        20        20       47430000     \n",
              "13  213149  -0.1 6        20        20       45690000     \n",
              "14  366193  -0.1 6        20        20       45210000     \n",
              "15  303731  -0.1 6        20        20       44540000     \n",
              "16  439891  -1.0 6        20        20       43520000     \n",
              "17  644123  -1.0 6        20        20       47430000     \n",
              "18  213149  -1.0 6        20        20       45690000     \n",
              "19  366193  -1.0 6        20        20       45210000     \n",
              "20  303731  -1.0 6        20        20       44540000     \n",
              "21  439891  -0.1 6        20       100       46640000     \n",
              "22  644123  -0.1 6        20       100       52480000     \n",
              "23  213149  -0.1 6        20       100       48000000     \n",
              "24  366193  -0.1 6        20       100       51320000     \n",
              "25  303731  -0.1 6        20       100       47880000     \n",
              "26  439891  -1.0 6        20       100       46640000     \n",
              "27  644123  -1.0 6        20       100       52480000     \n",
              "28  213149  -1.0 6        20       100       48000000     \n",
              "29  366193  -1.0 6        20       100       51320000     \n",
              "30  303731  -1.0 6        20       100       47880000     \n",
              "⋮   ⋮       ⋮    ⋮        ⋮        ⋮         ⋮            \n",
              "571 439891  -0.1 12       800       20       44510000     \n",
              "572 644123  -0.1 12       800       20       48340000     \n",
              "573 213149  -0.1 12       800       20       41510000     \n",
              "574 366193  -0.1 12       800       20       45990000     \n",
              "575 303731  -0.1 12       800       20       46750000     \n",
              "576 439891  -1.0 12       800       20       44510000     \n",
              "577 644123  -1.0 12       800       20       48340000     \n",
              "578 213149  -1.0 12       800       20       41510000     \n",
              "579 366193  -1.0 12       800       20       45990000     \n",
              "580 303731  -1.0 12       800       20       46750000     \n",
              "581 439891  -0.1 12       800      100       46480000     \n",
              "582 644123  -0.1 12       800      100       49190000     \n",
              "583 213149  -0.1 12       800      100       43400000     \n",
              "584 366193  -0.1 12       800      100       45430000     \n",
              "585 303731  -0.1 12       800      100       43870000     \n",
              "586 439891  -1.0 12       800      100       46480000     \n",
              "587 644123  -1.0 12       800      100       49190000     \n",
              "588 213149  -1.0 12       800      100       43400000     \n",
              "589 366193  -1.0 12       800      100       45430000     \n",
              "590 303731  -1.0 12       800      100       43870000     \n",
              "591 439891  -0.1 12       800      133       45910000     \n",
              "592 644123  -0.1 12       800      133       47040000     \n",
              "593 213149  -0.1 12       800      133       44430000     \n",
              "594 366193  -0.1 12       800      133       44580000     \n",
              "595 303731  -0.1 12       800      133       46520000     \n",
              "596 439891  -1.0 12       800      133       45910000     \n",
              "597 644123  -1.0 12       800      133       47040000     \n",
              "598 213149  -1.0 12       800      133       44430000     \n",
              "599 366193  -1.0 12       800      133       44580000     \n",
              "600 303731  -1.0 12       800      133       46520000     "
            ]
          },
          "metadata": {}
        }
      ]
    },
    {
      "cell_type": "code",
      "source": [
        "# genero y grabo el resumen\n",
        "tb_grid_search <- tb_grid_search_detalle[,\n",
        "  list( \"ganancia_mean\" = mean(ganancia_test),\n",
        "    \"qty\" = .N ),\n",
        "  list( cp, maxdepth, minsplit, minbucket )\n",
        "]\n"
      ],
      "metadata": {
        "id": "DjCxtx8bIsgl"
      },
      "execution_count": 40,
      "outputs": []
    },
    {
      "cell_type": "code",
      "source": [
        "# ordeno descendente por ganancia\n",
        "setorder( tb_grid_search, -ganancia_mean )"
      ],
      "metadata": {
        "id": "LU29UhL1Ivg5"
      },
      "execution_count": 41,
      "outputs": []
    },
    {
      "cell_type": "code",
      "source": [
        "# veo los 10 mejores hiperparámetros\n",
        "tb_grid_search[1:10]"
      ],
      "metadata": {
        "id": "g-EjGY7aIyWL",
        "colab": {
          "base_uri": "https://localhost:8080/",
          "height": 411
        },
        "outputId": "49b67781-98ef-4368-eced-f45d3de51362"
      },
      "execution_count": 42,
      "outputs": [
        {
          "output_type": "display_data",
          "data": {
            "text/html": [
              "<table class=\"dataframe\">\n",
              "<caption>A data.table: 10 × 6</caption>\n",
              "<thead>\n",
              "\t<tr><th scope=col>cp</th><th scope=col>maxdepth</th><th scope=col>minsplit</th><th scope=col>minbucket</th><th scope=col>ganancia_mean</th><th scope=col>qty</th></tr>\n",
              "\t<tr><th scope=col>&lt;dbl&gt;</th><th scope=col>&lt;dbl&gt;</th><th scope=col>&lt;dbl&gt;</th><th scope=col>&lt;dbl&gt;</th><th scope=col>&lt;dbl&gt;</th><th scope=col>&lt;int&gt;</th></tr>\n",
              "</thead>\n",
              "<tbody>\n",
              "\t<tr><td>-0.1</td><td>6</td><td>800</td><td>100</td><td>49812000</td><td>5</td></tr>\n",
              "\t<tr><td>-1.0</td><td>6</td><td>800</td><td>100</td><td>49812000</td><td>5</td></tr>\n",
              "\t<tr><td>-0.1</td><td>6</td><td>400</td><td>100</td><td>49496000</td><td>5</td></tr>\n",
              "\t<tr><td>-1.0</td><td>6</td><td>400</td><td>100</td><td>49496000</td><td>5</td></tr>\n",
              "\t<tr><td>-0.1</td><td>6</td><td>600</td><td>100</td><td>49470000</td><td>5</td></tr>\n",
              "\t<tr><td>-1.0</td><td>6</td><td>600</td><td>100</td><td>49470000</td><td>5</td></tr>\n",
              "\t<tr><td>-0.1</td><td>8</td><td>800</td><td>100</td><td>49410000</td><td>5</td></tr>\n",
              "\t<tr><td>-1.0</td><td>8</td><td>800</td><td>100</td><td>49410000</td><td>5</td></tr>\n",
              "\t<tr><td>-0.1</td><td>6</td><td> 20</td><td>100</td><td>49264000</td><td>5</td></tr>\n",
              "\t<tr><td>-1.0</td><td>6</td><td> 20</td><td>100</td><td>49264000</td><td>5</td></tr>\n",
              "</tbody>\n",
              "</table>\n"
            ],
            "text/markdown": "\nA data.table: 10 × 6\n\n| cp &lt;dbl&gt; | maxdepth &lt;dbl&gt; | minsplit &lt;dbl&gt; | minbucket &lt;dbl&gt; | ganancia_mean &lt;dbl&gt; | qty &lt;int&gt; |\n|---|---|---|---|---|---|\n| -0.1 | 6 | 800 | 100 | 49812000 | 5 |\n| -1.0 | 6 | 800 | 100 | 49812000 | 5 |\n| -0.1 | 6 | 400 | 100 | 49496000 | 5 |\n| -1.0 | 6 | 400 | 100 | 49496000 | 5 |\n| -0.1 | 6 | 600 | 100 | 49470000 | 5 |\n| -1.0 | 6 | 600 | 100 | 49470000 | 5 |\n| -0.1 | 8 | 800 | 100 | 49410000 | 5 |\n| -1.0 | 8 | 800 | 100 | 49410000 | 5 |\n| -0.1 | 6 |  20 | 100 | 49264000 | 5 |\n| -1.0 | 6 |  20 | 100 | 49264000 | 5 |\n\n",
            "text/latex": "A data.table: 10 × 6\n\\begin{tabular}{llllll}\n cp & maxdepth & minsplit & minbucket & ganancia\\_mean & qty\\\\\n <dbl> & <dbl> & <dbl> & <dbl> & <dbl> & <int>\\\\\n\\hline\n\t -0.1 & 6 & 800 & 100 & 49812000 & 5\\\\\n\t -1.0 & 6 & 800 & 100 & 49812000 & 5\\\\\n\t -0.1 & 6 & 400 & 100 & 49496000 & 5\\\\\n\t -1.0 & 6 & 400 & 100 & 49496000 & 5\\\\\n\t -0.1 & 6 & 600 & 100 & 49470000 & 5\\\\\n\t -1.0 & 6 & 600 & 100 & 49470000 & 5\\\\\n\t -0.1 & 8 & 800 & 100 & 49410000 & 5\\\\\n\t -1.0 & 8 & 800 & 100 & 49410000 & 5\\\\\n\t -0.1 & 6 &  20 & 100 & 49264000 & 5\\\\\n\t -1.0 & 6 &  20 & 100 & 49264000 & 5\\\\\n\\end{tabular}\n",
            "text/plain": [
              "   cp   maxdepth minsplit minbucket ganancia_mean qty\n",
              "1  -0.1 6        800      100       49812000      5  \n",
              "2  -1.0 6        800      100       49812000      5  \n",
              "3  -0.1 6        400      100       49496000      5  \n",
              "4  -1.0 6        400      100       49496000      5  \n",
              "5  -0.1 6        600      100       49470000      5  \n",
              "6  -1.0 6        600      100       49470000      5  \n",
              "7  -0.1 8        800      100       49410000      5  \n",
              "8  -1.0 8        800      100       49410000      5  \n",
              "9  -0.1 6         20      100       49264000      5  \n",
              "10 -1.0 6         20      100       49264000      5  "
            ]
          },
          "metadata": {}
        }
      ]
    },
    {
      "cell_type": "code",
      "source": [
        "# genero un id a la tabla\n",
        "tb_grid_search[, id := .I ]\n",
        "\n",
        "fwrite( tb_grid_search,\n",
        "  file = \"Refinedgridsearch.txt\",\n",
        "  sep = \"\\t\"\n",
        ")\n"
      ],
      "metadata": {
        "id": "K3S-I2PTI5ZE"
      },
      "execution_count": 43,
      "outputs": []
    },
    {
      "cell_type": "markdown",
      "source": [
        "# 4.  Análisis de resultados de Grid Search"
      ],
      "metadata": {
        "id": "1rYHk1YkI_9k"
      }
    },
    {
      "cell_type": "markdown",
      "source": [
        "La salida de la corrida anterior queda en ~/buckets/b1/exp/HT2900  que corresponde a su Google Drive\n",
        "<br>HT significa Hyperparameter Tuning\n",
        "<br>El Grid Search es un método de fuerza bruta de un altísimo costo computacional.\n",
        "<br>Queremos ver si es posible crear un algoritmo de optimización de hiperparámetros que se ahorre recorrer ciertas porciones muy malas del espacio de búsqueda. Algo del estilo “cada vez que pruebo una combinación de hiperparámetros donde  cp > 1 , la ganancia es muy mala, con lo cual ni vale la pena perder el tiempo explorando en esa region”\n"
      ],
      "metadata": {
        "id": "ZTJgPhMWJHTk"
      }
    },
    {
      "cell_type": "markdown",
      "source": [
        "<br>Levante el archivo de salida gridsearch.txt  a una planilla tipo Excel y analícelo detenidamente\n",
        "<br>Ordene por ganancia_mean descendente\n",
        "<br>\n",
        "<br>El de mayor ganancia_mean  decimos que es el primero del ranking\n",
        "En Zulip, correspondiente channel  #Tarea Hogar 02 , topic Analisis Grid Search   intente contestar estas preguntas:\n",
        "\n",
        "* ¿Qué combinaciones de hiperparámetros poseen una ganancia muy buena?\n",
        "* ¿Hay algun hiperparámetro que para cierto valor siempre genera una ganancia muy mala, a independientemente de lo que valgan los otros hiperparámetros ?\n",
        "* ¿Que combinaciones de hiperparámetros es pésima y hubiera sido bueno ahorrarse esas corridas ?\n",
        "\n",
        "( tiempo estimado 30 minutos, dificultad media )"
      ],
      "metadata": {
        "id": "IaVgMu4tPwyB"
      }
    }
  ]
}