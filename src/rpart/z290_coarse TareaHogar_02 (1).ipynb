{
  "nbformat": 4,
  "nbformat_minor": 0,
  "metadata": {
    "colab": {
      "provenance": [],
      "machine_shape": "hm"
    },
    "kernelspec": {
      "name": "ir",
      "display_name": "R"
    },
    "language_info": {
      "name": "R"
    }
  },
  "cells": [
    {
      "cell_type": "markdown",
      "source": [
        "# Tarea para el Hogar 02"
      ],
      "metadata": {
        "id": "F3r8aa3pBigj"
      }
    },
    {
      "cell_type": "markdown",
      "source": [
        "Esta Tarea para el Hogar 02 se entrega el final de la segunda clase\n",
        "<br> se espera de usted que intente avanzar con los desafios propuestos y que los traiga terminados para la Clase 03, ya que se analizarán los resultados"
      ],
      "metadata": {
        "id": "nBm4ktHUBmZt"
      }
    },
    {
      "cell_type": "markdown",
      "source": [
        "##  1. Ensembles de Modelos"
      ],
      "metadata": {
        "id": "TK-M04ElCESC"
      }
    },
    {
      "cell_type": "markdown",
      "source": [
        "Vea el siguiente video [BBC - The Code - The Wisdom of the Crowd](https://www.youtube.com/watch?v=iOucwX7Z1HU)    ( 5 min)\n"
      ],
      "metadata": {
        "id": "biPYxgobCOSS"
      }
    },
    {
      "cell_type": "markdown",
      "source": [
        "Lea los siguientes artículos\n",
        "\n",
        "\n",
        "*   [The Wisdom of Crowds (Vox Populi) by Francis Galton](https://www.all-about-psychology.com/the-wisdom-of-crowds.html)  (10 min)\n",
        "*   [A Gentle Introduction to Ensemble Learning](https://machinelearningmastery.com/what-is-ensemble-learning/)  (10 min)\n",
        "\n"
      ],
      "metadata": {
        "id": "FBszBRyNCcjp"
      }
    },
    {
      "cell_type": "markdown",
      "source": [
        "\n",
        "\n",
        "---\n",
        "\n"
      ],
      "metadata": {
        "id": "x7SebtV2lpHQ"
      }
    },
    {
      "cell_type": "markdown",
      "source": [
        "##  2.  Zero2Hero   primera parte\n",
        "Se han lanzado los primeros fascículos coleccionables llamados \"from Zero to Hero\" que muy detalladamente, paso a paso enseñan todo lo necesario de R para entender los scripts oficiales de la asignatura.\n",
        "Están en el repositorio oficial de la asignatura, carpeta  **src/zero2hero**"
      ],
      "metadata": {
        "id": "NQcY8u2MDSLT"
      }
    },
    {
      "cell_type": "markdown",
      "source": [
        "\n",
        "\n",
        "---\n",
        "\n"
      ],
      "metadata": {
        "id": "GcO0OSiIEAGy"
      }
    },
    {
      "cell_type": "markdown",
      "source": [
        "## 3.  Grid Search"
      ],
      "metadata": {
        "id": "6MStcyn0EBdT"
      }
    },
    {
      "cell_type": "markdown",
      "source": [
        "Busque en internet el precido significado de los hiperparámetros de la librería **rpart**  que está implementando el algoritmo **CART**  Classification and Regression Trees  propuesto en el año 1984 por Leo Brieman:\n",
        "\n",
        "*   cp\n",
        "*   maxdepth\n",
        "*   minsplit\n",
        "*   minbucket\n",
        "\n",
        "Entienda que valores es razonable tome cada hiperparámetro,  en particular profundice en el hiperparámetro  **cp**  y la posibilidad que tome valores negativos.  Es válido consultar a su amigo de *capacidades especiales*  ChatGPT\n"
      ],
      "metadata": {
        "id": "gM8RKXDgEIY0"
      }
    },
    {
      "cell_type": "markdown",
      "source": [
        "En las siguientes celdas a un notebook incompleto, un esqueleto de codigo brindado a modo de facilitarle la tarea de codeo y permitir que su valiosa cognición se concentre temas conceptuales de Ciencia de Datos\n",
        "\n",
        "Modifiquelo agregando loops para que recorra TODOS los hiperparámetros de rpart  < cp, maxdepth, minsplit, minbucket >, y luego póngalo a correr. Recuerde cambiar por SU semilla\n",
        "Tenga muy presente la granularidad que eligirá para cada hiperparámetro."
      ],
      "metadata": {
        "id": "_k7eT3HIFy9y"
      }
    },
    {
      "cell_type": "markdown",
      "source": [
        "### Seteo del ambiente en Google Colab"
      ],
      "metadata": {
        "id": "kmLygy1TYPfg"
      }
    },
    {
      "cell_type": "markdown",
      "source": [
        "Esta parte se debe correr con el runtime en Python3\n",
        "<br>Ir al menu, Runtime -> Change Runtime Tipe -> Runtime type ->  **Python 3**"
      ],
      "metadata": {
        "id": "OikOm5K2YU3X"
      }
    },
    {
      "cell_type": "markdown",
      "source": [
        "Conectar la virtual machine donde esta corriendo Google Colab con el  Google Drive, para poder tener persistencia de archivos"
      ],
      "metadata": {
        "id": "4fmV5LyZdFyI"
      }
    },
    {
      "cell_type": "code",
      "source": [
        "# primero establecer el Runtime de Python 3\n",
        "from google.colab import drive\n",
        "drive.mount('/content/.drive')"
      ],
      "metadata": {
        "id": "ilEZ-bE2VybW",
        "colab": {
          "base_uri": "https://localhost:8080/"
        },
        "outputId": "8f97a2c9-e3b8-4558-b3a3-2bf802f215c8"
      },
      "execution_count": 2,
      "outputs": [
        {
          "output_type": "stream",
          "name": "stdout",
          "text": [
            "Mounted at /content/.drive\n"
          ]
        }
      ]
    },
    {
      "cell_type": "markdown",
      "source": [
        "Para correr la siguiente celda es fundamental en Arranque en Frio haber copiado el archivo kaggle.json al Google Drive, en la carpeta indicada en el instructivo\n",
        "\n",
        "<br>los siguientes comando estan en shell script de Linux\n",
        "*   Crear las carpetas en el Google Drive\n",
        "*   \"instalar\" el archivo kaggle.json desde el Google Drive a la virtual machine para que pueda ser utilizado por la libreria  kaggle de Python\n",
        "*   Bajar el  **dataset_pequeno**  al  Google Drive  y tambien al disco local de la virtual machine que esta corriendo Google Colab\n",
        "\n"
      ],
      "metadata": {
        "id": "ilaKtqWldeWg"
      }
    },
    {
      "cell_type": "code",
      "source": [
        "%%shell\n",
        "\n",
        "mkdir -p \"/content/.drive/My Drive/labo1\"\n",
        "mkdir -p \"/content/buckets\"\n",
        "ln -s \"/content/.drive/My Drive/labo1\" /content/buckets/b1\n",
        "\n",
        "mkdir -p ~/.kaggle\n",
        "cp /content/buckets/b1/kaggle/kaggle.json  ~/.kaggle\n",
        "chmod 600 ~/.kaggle/kaggle.json\n",
        "\n",
        "\n",
        "mkdir -p /content/buckets/b1/exp\n",
        "mkdir -p /content/buckets/b1/datasets\n",
        "mkdir -p /content/datasets\n",
        "\n",
        "\n",
        "\n",
        "archivo_origen=\"https://storage.googleapis.com/open-courses/austral2025-af91/dataset_pequeno.csv\"\n",
        "archivo_destino=\"/content/datasets/dataset_pequeno.csv\"\n",
        "archivo_destino_bucket=\"/content/buckets/b1/datasets/dataset_pequeno.csv\"\n",
        "\n",
        "if ! test -f $archivo_destino_bucket; then\n",
        "  wget  $archivo_origen  -O $archivo_destino_bucket\n",
        "fi\n",
        "\n",
        "\n",
        "if ! test -f $archivo_destino; then\n",
        "  cp  $archivo_destino_bucket  $archivo_destino\n",
        "fi\n",
        "\n"
      ],
      "metadata": {
        "id": "W8dQFI5QYCFa",
        "outputId": "b1d2f7ec-bb93-476c-bb02-29f0bd07176b",
        "colab": {
          "base_uri": "https://localhost:8080/"
        }
      },
      "execution_count": 3,
      "outputs": [
        {
          "output_type": "execute_result",
          "data": {
            "text/plain": []
          },
          "metadata": {},
          "execution_count": 3
        }
      ]
    },
    {
      "cell_type": "markdown",
      "source": [
        "limpio el ambiente de R"
      ],
      "metadata": {
        "id": "SE94XRhWsxkX"
      }
    },
    {
      "cell_type": "code",
      "source": [
        "# limpio la memoria\n",
        "rm(list=ls(all.names=TRUE)) # remove all objects\n",
        "gc(full=TRUE, verbose=FALSE) # garbage collection"
      ],
      "metadata": {
        "id": "oZG_4br6szlT",
        "outputId": "22cfeacf-2f51-415f-f74c-c1116b8ba72e",
        "colab": {
          "base_uri": "https://localhost:8080/",
          "height": 129
        }
      },
      "execution_count": 9,
      "outputs": [
        {
          "output_type": "display_data",
          "data": {
            "text/html": [
              "<table class=\"dataframe\">\n",
              "<caption>A matrix: 2 × 6 of type dbl</caption>\n",
              "<thead>\n",
              "\t<tr><th></th><th scope=col>used</th><th scope=col>(Mb)</th><th scope=col>gc trigger</th><th scope=col>(Mb)</th><th scope=col>max used</th><th scope=col>(Mb)</th></tr>\n",
              "</thead>\n",
              "<tbody>\n",
              "\t<tr><th scope=row>Ncells</th><td> 813834</td><td>43.5</td><td>1454454</td><td>77.7</td><td>1454454</td><td>77.7</td></tr>\n",
              "\t<tr><th scope=row>Vcells</th><td>1558102</td><td>11.9</td><td>8388608</td><td>64.0</td><td>8036060</td><td>61.4</td></tr>\n",
              "</tbody>\n",
              "</table>\n"
            ],
            "text/markdown": "\nA matrix: 2 × 6 of type dbl\n\n| <!--/--> | used | (Mb) | gc trigger | (Mb) | max used | (Mb) |\n|---|---|---|---|---|---|---|\n| Ncells |  813834 | 43.5 | 1454454 | 77.7 | 1454454 | 77.7 |\n| Vcells | 1558102 | 11.9 | 8388608 | 64.0 | 8036060 | 61.4 |\n\n",
            "text/latex": "A matrix: 2 × 6 of type dbl\n\\begin{tabular}{r|llllll}\n  & used & (Mb) & gc trigger & (Mb) & max used & (Mb)\\\\\n\\hline\n\tNcells &  813834 & 43.5 & 1454454 & 77.7 & 1454454 & 77.7\\\\\n\tVcells & 1558102 & 11.9 & 8388608 & 64.0 & 8036060 & 61.4\\\\\n\\end{tabular}\n",
            "text/plain": [
              "       used    (Mb) gc trigger (Mb) max used (Mb)\n",
              "Ncells  813834 43.5 1454454    77.7 1454454  77.7\n",
              "Vcells 1558102 11.9 8388608    64.0 8036060  61.4"
            ]
          },
          "metadata": {}
        }
      ]
    },
    {
      "cell_type": "code",
      "source": [
        "# cargo las librerias que necesito\n",
        "require(\"data.table\")\n",
        "require(\"rpart\")\n",
        "require(\"parallel\")\n",
        "if (!require(\"primes\")) install.packages(\"primes\")\n",
        "require(\"primes\")"
      ],
      "metadata": {
        "id": "JO-12d7YHkWy",
        "colab": {
          "base_uri": "https://localhost:8080/"
        },
        "outputId": "40b810ab-14f3-40e1-e2da-a7ad0f7a766a"
      },
      "execution_count": 8,
      "outputs": [
        {
          "output_type": "stream",
          "name": "stderr",
          "text": [
            "Loading required package: data.table\n",
            "\n",
            "Loading required package: rpart\n",
            "\n",
            "Loading required package: parallel\n",
            "\n",
            "Loading required package: primes\n",
            "\n",
            "Warning message in library(package, lib.loc = lib.loc, character.only = TRUE, logical.return = TRUE, :\n",
            "“there is no package called ‘primes’”\n",
            "Installing package into ‘/usr/local/lib/R/site-library’\n",
            "(as ‘lib’ is unspecified)\n",
            "\n",
            "Loading required package: primes\n",
            "\n"
          ]
        }
      ]
    },
    {
      "cell_type": "markdown",
      "source": [
        "Aqui debe poner SU semiila primigenia"
      ],
      "metadata": {
        "id": "0MclPEJ6Q8Bp"
      }
    },
    {
      "cell_type": "code",
      "source": [
        "PARAM <- list()\n",
        "# reemplazar por su primer semilla\n",
        "PARAM$semilla_primigenia <- 765179\n",
        "PARAM$qsemillas <- 3\n",
        "\n",
        "PARAM$training_pct <- 70L  # entre  1L y 99L\n",
        "\n",
        "# elegir SU dataset comentando/ descomentando\n",
        "PARAM$dataset_nom <- \"~/datasets/dataset_pequeno.csv\""
      ],
      "metadata": {
        "id": "Vt5fC6bWHu5r"
      },
      "execution_count": 10,
      "outputs": []
    },
    {
      "cell_type": "code",
      "source": [
        "# particionar agrega una columna llamada fold a un dataset\n",
        "#  que consiste en una particion estratificada segun agrupa\n",
        "# particionar( data=dataset, division=c(70,30), agrupa=clase_ternaria, seed=semilla)\n",
        "#   crea una particion 70, 30\n",
        "\n",
        "particionar <- function(data, division, agrupa = \"\", campo = \"fold\", start = 1, seed = NA) {\n",
        "  if (!is.na(seed)) set.seed(seed)\n",
        "\n",
        "  bloque <- unlist(mapply(function(x, y) {\n",
        "    rep(y, x)\n",
        "  }, division, seq(from = start, length.out = length(division))))\n",
        "\n",
        "  data[, (campo) := sample(rep(bloque, ceiling(.N / length(bloque))))[1:.N],\n",
        "    by = agrupa\n",
        "  ]\n",
        "}"
      ],
      "metadata": {
        "id": "Z1dchsrWH4MD"
      },
      "execution_count": 11,
      "outputs": []
    },
    {
      "cell_type": "code",
      "source": [
        "ArbolEstimarGanancia <- function(semilla, training_pct, param_basicos) {\n",
        "  # particiono estratificadamente el dataset\n",
        "  particionar(dataset,\n",
        "    division = c(training_pct, 100L -training_pct),\n",
        "    agrupa = \"clase_ternaria\",\n",
        "    seed = semilla # aqui se usa SU semilla\n",
        "  )\n",
        "\n",
        "  # genero el modelo\n",
        "  # predecir clase_ternaria a partir del resto\n",
        "  modelo <- rpart(\"clase_ternaria ~ .\",\n",
        "    data = dataset[fold == 1], # fold==1  es training,  el 70% de los datos\n",
        "    xval = 0,\n",
        "    control = param_basicos\n",
        "  ) # aqui van los parametros del arbol\n",
        "\n",
        "  # aplico el modelo a los datos de testing\n",
        "  prediccion <- predict(modelo, # el modelo que genere recien\n",
        "    dataset[fold == 2], # fold==2  es testing, el 30% de los datos\n",
        "    type = \"prob\"\n",
        "  ) # type= \"prob\"  es que devuelva la probabilidad\n",
        "\n",
        "  # prediccion es una matriz con TRES columnas,\n",
        "  #  llamadas \"BAJA+1\", \"BAJA+2\"  y \"CONTINUA\"\n",
        "  # cada columna es el vector de probabilidades\n",
        "\n",
        "\n",
        "  # calculo la ganancia en testing  qu es fold==2\n",
        "  ganancia_test <- dataset[\n",
        "    fold == 2,\n",
        "    sum(ifelse(prediccion[, \"BAJA+2\"] > 0.025,\n",
        "      ifelse(clase_ternaria == \"BAJA+2\", 117000, -3000),\n",
        "      0\n",
        "    ))\n",
        "  ]\n",
        "\n",
        "  # escalo la ganancia como si fuera todo el dataset\n",
        "  ganancia_test_normalizada <- ganancia_test / (( 100 - PARAM$training_pct ) / 100 )\n",
        "\n",
        "  return(\n",
        "    c( list(\"semilla\" = semilla),\n",
        "      param_basicos,\n",
        "      list( \"ganancia_test\" = ganancia_test_normalizada )\n",
        "     )\n",
        "  )\n",
        "}"
      ],
      "metadata": {
        "id": "xsHwS1CzIA70"
      },
      "execution_count": 12,
      "outputs": []
    },
    {
      "cell_type": "code",
      "source": [
        "ArbolesMontecarlo <- function(semillas, param_basicos) {\n",
        "\n",
        "  # la funcion mcmapply  llama a la funcion ArbolEstimarGanancia\n",
        "  #  tantas veces como valores tenga el vector  PARAM$semillas\n",
        "  salida <- mcmapply(ArbolEstimarGanancia,\n",
        "    semillas, # paso el vector de semillas\n",
        "    MoreArgs = list(PARAM$training_pct, param_basicos), # aqui paso el segundo parametro\n",
        "    SIMPLIFY = FALSE,\n",
        "    mc.cores = detectCores()\n",
        "  )\n",
        "\n",
        "  return(salida)\n",
        "}"
      ],
      "metadata": {
        "id": "BvBVOuhqIEjD"
      },
      "execution_count": 13,
      "outputs": []
    },
    {
      "cell_type": "code",
      "source": [
        "# carpeta de trabajo\n",
        "# por fabor cambiar numero de experimento si se cambia el loop principal\n",
        "setwd(\"/content/buckets/b1/exp\")\n",
        "experimento <- \"HT2900\"\n",
        "dir.create(experimento, showWarnings=FALSE)\n",
        "setwd( paste0(\"/content/buckets/b1/exp/\", experimento ))"
      ],
      "metadata": {
        "id": "L-DOGHOjIG7G"
      },
      "execution_count": 14,
      "outputs": []
    },
    {
      "cell_type": "code",
      "source": [
        "# lectura del dataset\n",
        "dataset <- fread(\"/content/datasets/dataset_pequeno.csv\")\n",
        "\n",
        "# trabajo solo con los datos con clase, es decir 202107\n",
        "dataset <- dataset[clase_ternaria != \"\"]"
      ],
      "metadata": {
        "id": "NM-mrLWcIPo6"
      },
      "execution_count": 15,
      "outputs": []
    },
    {
      "cell_type": "code",
      "source": [
        "# genero numeros primos\n",
        "primos <- generate_primes(min = 100000, max = 1000000)\n",
        "set.seed(PARAM$semilla_primigenia) # inicializo\n",
        "# me quedo con PARAM$qsemillas   semillas\n",
        "PARAM$semillas <- sample(primos, PARAM$qsemillas )"
      ],
      "metadata": {
        "id": "tSlY0EcgIWdi"
      },
      "execution_count": 16,
      "outputs": []
    },
    {
      "cell_type": "code",
      "source": [
        "# genero la data.table donde van los resultados detallados del Grid Search\n",
        "# un registro para cada combinacion de < semilla, parametros >\n",
        "\n",
        "if(file.exists(\"autogridsearch_detalle.txt\")){\n",
        "  tb_grid_search_detalle <- fread(\"autogridsearch_detalle.txt\")\n",
        "}else{\n",
        "  tb_grid_search_detalle <- data.table(\n",
        "    semilla = integer(),\n",
        "    cp = numeric(),\n",
        "    maxdepth = integer(),\n",
        "   minsplit = integer(),\n",
        "    minbucket = integer(),\n",
        "    ganancia_test = numeric()\n",
        "  )\n",
        "}\n",
        "\n",
        "nrow( tb_grid_search_detalle )"
      ],
      "metadata": {
        "id": "xxCAwIKyIaTl",
        "outputId": "d7c52b74-303e-49b3-dfe5-057f58ca596d",
        "colab": {
          "base_uri": "https://localhost:8080/",
          "height": 34
        }
      },
      "execution_count": 21,
      "outputs": [
        {
          "output_type": "display_data",
          "data": {
            "text/html": [
              "0"
            ],
            "text/markdown": "0",
            "text/latex": "0",
            "text/plain": [
              "[1] 0"
            ]
          },
          "metadata": {}
        }
      ]
    },
    {
      "cell_type": "code",
      "source": [
        "# data.table threads (0 = auto use all)\n",
        "data.table::setDTthreads(0)\n",
        "data.table::getDTthreads()"
      ],
      "metadata": {
        "colab": {
          "base_uri": "https://localhost:8080/",
          "height": 34
        },
        "id": "1kEF1wvkozIh",
        "outputId": "f2aa42fb-9396-49c4-c105-4a1d0e73633c"
      },
      "execution_count": 22,
      "outputs": [
        {
          "output_type": "display_data",
          "data": {
            "text/html": [
              "8"
            ],
            "text/markdown": "8",
            "text/latex": "8",
            "text/plain": [
              "[1] 8"
            ]
          },
          "metadata": {}
        }
      ]
    },
    {
      "cell_type": "markdown",
      "source": [
        "Esta es la parte del código que usted debe expandir a TODOS los hiperparámetros de rpart,\n",
        "<br>ya que actualmente apenas recorre  maxdepth y  minsplit  dejando fijos  cp=-0.5  y minbucket=5"
      ],
      "metadata": {
        "id": "eAuGBNL8IkOD"
      }
    },
    {
      "cell_type": "code",
      "source": [
        "library(httr)\n",
        "\n",
        "# choose any topic name (use something unique)\n",
        "topic <- \"mark_labo2025\"\n",
        "\n",
        "# message to send\n",
        "msg <- \"✅ Grid Search finished successfully!\"\n",
        "\n",
        "httr::POST(\n",
        "  url = paste0(\"https://ntfy.sh/\", topic),\n",
        "  body = msg,\n",
        "  encode = \"raw\"\n",
        ")"
      ],
      "metadata": {
        "id": "za4kOLXTI5OK",
        "outputId": "fe12de68-6189-4a21-c2b4-afd7a958baac",
        "colab": {
          "base_uri": "https://localhost:8080/",
          "height": 127
        }
      },
      "execution_count": null,
      "outputs": [
        {
          "output_type": "display_data",
          "data": {
            "text/plain": [
              "Response [https://ntfy.sh/mark_labo2025]\n",
              "  Date: 2025-10-13 06:41\n",
              "  Status: 200\n",
              "  Content-Type: application/json\n",
              "  Size: 154 B\n",
              "{\"id\":\"P0ChTkgEVLPA\",\"time\":1760337667,\"expires\":1760380867,\"event\":\"message\"..."
            ]
          },
          "metadata": {}
        }
      ]
    },
    {
      "cell_type": "code",
      "source": [
        "fwrite( tb_grid_search_detalle,\n",
        "   file = \"autogridsearch_detalle.txt\",\n",
        "   sep = \"\\t\"\n",
        ")"
      ],
      "metadata": {
        "id": "WZaSqYBxiDFu"
      },
      "execution_count": null,
      "outputs": []
    },
    {
      "cell_type": "code",
      "source": [
        "# cantidad de registros de la tabla\n",
        "nrow(tb_grid_search_detalle)"
      ],
      "metadata": {
        "id": "STp0duM-RYVJ",
        "outputId": "b0cb6313-661f-4cc4-9c5c-05896cd84ee1",
        "colab": {
          "base_uri": "https://localhost:8080/",
          "height": 34
        }
      },
      "execution_count": null,
      "outputs": [
        {
          "output_type": "display_data",
          "data": {
            "text/html": [
              "576"
            ],
            "text/markdown": "576",
            "text/latex": "576",
            "text/plain": [
              "[1] 576"
            ]
          },
          "metadata": {}
        }
      ]
    },
    {
      "cell_type": "code",
      "source": [
        "# muestro la tabla\n",
        "tb_grid_search_detalle"
      ],
      "metadata": {
        "id": "k7fhk_H0iNez",
        "outputId": "adf3a85c-3a15-4ddd-c15d-0b636d6bd919",
        "colab": {
          "base_uri": "https://localhost:8080/",
          "height": 1000
        }
      },
      "execution_count": null,
      "outputs": [
        {
          "output_type": "display_data",
          "data": {
            "text/html": [
              "<table class=\"dataframe\">\n",
              "<caption>A data.table: 576 × 6</caption>\n",
              "<thead>\n",
              "\t<tr><th scope=col>semilla</th><th scope=col>cp</th><th scope=col>maxdepth</th><th scope=col>minsplit</th><th scope=col>minbucket</th><th scope=col>ganancia_test</th></tr>\n",
              "\t<tr><th scope=col>&lt;int&gt;</th><th scope=col>&lt;dbl&gt;</th><th scope=col>&lt;int&gt;</th><th scope=col>&lt;int&gt;</th><th scope=col>&lt;int&gt;</th><th scope=col>&lt;int&gt;</th></tr>\n",
              "</thead>\n",
              "<tbody>\n",
              "\t<tr><td>439891</td><td>0.001</td><td>6</td><td>115</td><td> 29</td><td>0</td></tr>\n",
              "\t<tr><td>644123</td><td>0.001</td><td>6</td><td>115</td><td> 29</td><td>0</td></tr>\n",
              "\t<tr><td>213149</td><td>0.001</td><td>6</td><td>115</td><td> 29</td><td>0</td></tr>\n",
              "\t<tr><td>439891</td><td>0.005</td><td>6</td><td>115</td><td> 29</td><td>0</td></tr>\n",
              "\t<tr><td>644123</td><td>0.005</td><td>6</td><td>115</td><td> 29</td><td>0</td></tr>\n",
              "\t<tr><td>213149</td><td>0.005</td><td>6</td><td>115</td><td> 29</td><td>0</td></tr>\n",
              "\t<tr><td>439891</td><td>0.010</td><td>6</td><td>115</td><td> 29</td><td>0</td></tr>\n",
              "\t<tr><td>644123</td><td>0.010</td><td>6</td><td>115</td><td> 29</td><td>0</td></tr>\n",
              "\t<tr><td>213149</td><td>0.010</td><td>6</td><td>115</td><td> 29</td><td>0</td></tr>\n",
              "\t<tr><td>439891</td><td>0.001</td><td>6</td><td>115</td><td>144</td><td>0</td></tr>\n",
              "\t<tr><td>644123</td><td>0.001</td><td>6</td><td>115</td><td>144</td><td>0</td></tr>\n",
              "\t<tr><td>213149</td><td>0.001</td><td>6</td><td>115</td><td>144</td><td>0</td></tr>\n",
              "\t<tr><td>439891</td><td>0.005</td><td>6</td><td>115</td><td>144</td><td>0</td></tr>\n",
              "\t<tr><td>644123</td><td>0.005</td><td>6</td><td>115</td><td>144</td><td>0</td></tr>\n",
              "\t<tr><td>213149</td><td>0.005</td><td>6</td><td>115</td><td>144</td><td>0</td></tr>\n",
              "\t<tr><td>439891</td><td>0.010</td><td>6</td><td>115</td><td>144</td><td>0</td></tr>\n",
              "\t<tr><td>644123</td><td>0.010</td><td>6</td><td>115</td><td>144</td><td>0</td></tr>\n",
              "\t<tr><td>213149</td><td>0.010</td><td>6</td><td>115</td><td>144</td><td>0</td></tr>\n",
              "\t<tr><td>439891</td><td>0.001</td><td>6</td><td>115</td><td>288</td><td>0</td></tr>\n",
              "\t<tr><td>644123</td><td>0.001</td><td>6</td><td>115</td><td>288</td><td>0</td></tr>\n",
              "\t<tr><td>213149</td><td>0.001</td><td>6</td><td>115</td><td>288</td><td>0</td></tr>\n",
              "\t<tr><td>439891</td><td>0.005</td><td>6</td><td>115</td><td>288</td><td>0</td></tr>\n",
              "\t<tr><td>644123</td><td>0.005</td><td>6</td><td>115</td><td>288</td><td>0</td></tr>\n",
              "\t<tr><td>213149</td><td>0.005</td><td>6</td><td>115</td><td>288</td><td>0</td></tr>\n",
              "\t<tr><td>439891</td><td>0.010</td><td>6</td><td>115</td><td>288</td><td>0</td></tr>\n",
              "\t<tr><td>644123</td><td>0.010</td><td>6</td><td>115</td><td>288</td><td>0</td></tr>\n",
              "\t<tr><td>213149</td><td>0.010</td><td>6</td><td>115</td><td>288</td><td>0</td></tr>\n",
              "\t<tr><td>439891</td><td>0.001</td><td>6</td><td>115</td><td>576</td><td>0</td></tr>\n",
              "\t<tr><td>644123</td><td>0.001</td><td>6</td><td>115</td><td>576</td><td>0</td></tr>\n",
              "\t<tr><td>213149</td><td>0.001</td><td>6</td><td>115</td><td>576</td><td>0</td></tr>\n",
              "\t<tr><td>⋮</td><td>⋮</td><td>⋮</td><td>⋮</td><td>⋮</td><td>⋮</td></tr>\n",
              "\t<tr><td>439891</td><td>0.010</td><td>12</td><td>2304</td><td> 29</td><td>0</td></tr>\n",
              "\t<tr><td>644123</td><td>0.010</td><td>12</td><td>2304</td><td> 29</td><td>0</td></tr>\n",
              "\t<tr><td>213149</td><td>0.010</td><td>12</td><td>2304</td><td> 29</td><td>0</td></tr>\n",
              "\t<tr><td>439891</td><td>0.001</td><td>12</td><td>2304</td><td>144</td><td>0</td></tr>\n",
              "\t<tr><td>644123</td><td>0.001</td><td>12</td><td>2304</td><td>144</td><td>0</td></tr>\n",
              "\t<tr><td>213149</td><td>0.001</td><td>12</td><td>2304</td><td>144</td><td>0</td></tr>\n",
              "\t<tr><td>439891</td><td>0.005</td><td>12</td><td>2304</td><td>144</td><td>0</td></tr>\n",
              "\t<tr><td>644123</td><td>0.005</td><td>12</td><td>2304</td><td>144</td><td>0</td></tr>\n",
              "\t<tr><td>213149</td><td>0.005</td><td>12</td><td>2304</td><td>144</td><td>0</td></tr>\n",
              "\t<tr><td>439891</td><td>0.010</td><td>12</td><td>2304</td><td>144</td><td>0</td></tr>\n",
              "\t<tr><td>644123</td><td>0.010</td><td>12</td><td>2304</td><td>144</td><td>0</td></tr>\n",
              "\t<tr><td>213149</td><td>0.010</td><td>12</td><td>2304</td><td>144</td><td>0</td></tr>\n",
              "\t<tr><td>439891</td><td>0.001</td><td>12</td><td>2304</td><td>288</td><td>0</td></tr>\n",
              "\t<tr><td>644123</td><td>0.001</td><td>12</td><td>2304</td><td>288</td><td>0</td></tr>\n",
              "\t<tr><td>213149</td><td>0.001</td><td>12</td><td>2304</td><td>288</td><td>0</td></tr>\n",
              "\t<tr><td>439891</td><td>0.005</td><td>12</td><td>2304</td><td>288</td><td>0</td></tr>\n",
              "\t<tr><td>644123</td><td>0.005</td><td>12</td><td>2304</td><td>288</td><td>0</td></tr>\n",
              "\t<tr><td>213149</td><td>0.005</td><td>12</td><td>2304</td><td>288</td><td>0</td></tr>\n",
              "\t<tr><td>439891</td><td>0.010</td><td>12</td><td>2304</td><td>288</td><td>0</td></tr>\n",
              "\t<tr><td>644123</td><td>0.010</td><td>12</td><td>2304</td><td>288</td><td>0</td></tr>\n",
              "\t<tr><td>213149</td><td>0.010</td><td>12</td><td>2304</td><td>288</td><td>0</td></tr>\n",
              "\t<tr><td>439891</td><td>0.001</td><td>12</td><td>2304</td><td>576</td><td>0</td></tr>\n",
              "\t<tr><td>644123</td><td>0.001</td><td>12</td><td>2304</td><td>576</td><td>0</td></tr>\n",
              "\t<tr><td>213149</td><td>0.001</td><td>12</td><td>2304</td><td>576</td><td>0</td></tr>\n",
              "\t<tr><td>439891</td><td>0.005</td><td>12</td><td>2304</td><td>576</td><td>0</td></tr>\n",
              "\t<tr><td>644123</td><td>0.005</td><td>12</td><td>2304</td><td>576</td><td>0</td></tr>\n",
              "\t<tr><td>213149</td><td>0.005</td><td>12</td><td>2304</td><td>576</td><td>0</td></tr>\n",
              "\t<tr><td>439891</td><td>0.010</td><td>12</td><td>2304</td><td>576</td><td>0</td></tr>\n",
              "\t<tr><td>644123</td><td>0.010</td><td>12</td><td>2304</td><td>576</td><td>0</td></tr>\n",
              "\t<tr><td>213149</td><td>0.010</td><td>12</td><td>2304</td><td>576</td><td>0</td></tr>\n",
              "</tbody>\n",
              "</table>\n"
            ],
            "text/markdown": "\nA data.table: 576 × 6\n\n| semilla &lt;int&gt; | cp &lt;dbl&gt; | maxdepth &lt;int&gt; | minsplit &lt;int&gt; | minbucket &lt;int&gt; | ganancia_test &lt;int&gt; |\n|---|---|---|---|---|---|\n| 439891 | 0.001 | 6 | 115 |  29 | 0 |\n| 644123 | 0.001 | 6 | 115 |  29 | 0 |\n| 213149 | 0.001 | 6 | 115 |  29 | 0 |\n| 439891 | 0.005 | 6 | 115 |  29 | 0 |\n| 644123 | 0.005 | 6 | 115 |  29 | 0 |\n| 213149 | 0.005 | 6 | 115 |  29 | 0 |\n| 439891 | 0.010 | 6 | 115 |  29 | 0 |\n| 644123 | 0.010 | 6 | 115 |  29 | 0 |\n| 213149 | 0.010 | 6 | 115 |  29 | 0 |\n| 439891 | 0.001 | 6 | 115 | 144 | 0 |\n| 644123 | 0.001 | 6 | 115 | 144 | 0 |\n| 213149 | 0.001 | 6 | 115 | 144 | 0 |\n| 439891 | 0.005 | 6 | 115 | 144 | 0 |\n| 644123 | 0.005 | 6 | 115 | 144 | 0 |\n| 213149 | 0.005 | 6 | 115 | 144 | 0 |\n| 439891 | 0.010 | 6 | 115 | 144 | 0 |\n| 644123 | 0.010 | 6 | 115 | 144 | 0 |\n| 213149 | 0.010 | 6 | 115 | 144 | 0 |\n| 439891 | 0.001 | 6 | 115 | 288 | 0 |\n| 644123 | 0.001 | 6 | 115 | 288 | 0 |\n| 213149 | 0.001 | 6 | 115 | 288 | 0 |\n| 439891 | 0.005 | 6 | 115 | 288 | 0 |\n| 644123 | 0.005 | 6 | 115 | 288 | 0 |\n| 213149 | 0.005 | 6 | 115 | 288 | 0 |\n| 439891 | 0.010 | 6 | 115 | 288 | 0 |\n| 644123 | 0.010 | 6 | 115 | 288 | 0 |\n| 213149 | 0.010 | 6 | 115 | 288 | 0 |\n| 439891 | 0.001 | 6 | 115 | 576 | 0 |\n| 644123 | 0.001 | 6 | 115 | 576 | 0 |\n| 213149 | 0.001 | 6 | 115 | 576 | 0 |\n| ⋮ | ⋮ | ⋮ | ⋮ | ⋮ | ⋮ |\n| 439891 | 0.010 | 12 | 2304 |  29 | 0 |\n| 644123 | 0.010 | 12 | 2304 |  29 | 0 |\n| 213149 | 0.010 | 12 | 2304 |  29 | 0 |\n| 439891 | 0.001 | 12 | 2304 | 144 | 0 |\n| 644123 | 0.001 | 12 | 2304 | 144 | 0 |\n| 213149 | 0.001 | 12 | 2304 | 144 | 0 |\n| 439891 | 0.005 | 12 | 2304 | 144 | 0 |\n| 644123 | 0.005 | 12 | 2304 | 144 | 0 |\n| 213149 | 0.005 | 12 | 2304 | 144 | 0 |\n| 439891 | 0.010 | 12 | 2304 | 144 | 0 |\n| 644123 | 0.010 | 12 | 2304 | 144 | 0 |\n| 213149 | 0.010 | 12 | 2304 | 144 | 0 |\n| 439891 | 0.001 | 12 | 2304 | 288 | 0 |\n| 644123 | 0.001 | 12 | 2304 | 288 | 0 |\n| 213149 | 0.001 | 12 | 2304 | 288 | 0 |\n| 439891 | 0.005 | 12 | 2304 | 288 | 0 |\n| 644123 | 0.005 | 12 | 2304 | 288 | 0 |\n| 213149 | 0.005 | 12 | 2304 | 288 | 0 |\n| 439891 | 0.010 | 12 | 2304 | 288 | 0 |\n| 644123 | 0.010 | 12 | 2304 | 288 | 0 |\n| 213149 | 0.010 | 12 | 2304 | 288 | 0 |\n| 439891 | 0.001 | 12 | 2304 | 576 | 0 |\n| 644123 | 0.001 | 12 | 2304 | 576 | 0 |\n| 213149 | 0.001 | 12 | 2304 | 576 | 0 |\n| 439891 | 0.005 | 12 | 2304 | 576 | 0 |\n| 644123 | 0.005 | 12 | 2304 | 576 | 0 |\n| 213149 | 0.005 | 12 | 2304 | 576 | 0 |\n| 439891 | 0.010 | 12 | 2304 | 576 | 0 |\n| 644123 | 0.010 | 12 | 2304 | 576 | 0 |\n| 213149 | 0.010 | 12 | 2304 | 576 | 0 |\n\n",
            "text/latex": "A data.table: 576 × 6\n\\begin{tabular}{llllll}\n semilla & cp & maxdepth & minsplit & minbucket & ganancia\\_test\\\\\n <int> & <dbl> & <int> & <int> & <int> & <int>\\\\\n\\hline\n\t 439891 & 0.001 & 6 & 115 &  29 & 0\\\\\n\t 644123 & 0.001 & 6 & 115 &  29 & 0\\\\\n\t 213149 & 0.001 & 6 & 115 &  29 & 0\\\\\n\t 439891 & 0.005 & 6 & 115 &  29 & 0\\\\\n\t 644123 & 0.005 & 6 & 115 &  29 & 0\\\\\n\t 213149 & 0.005 & 6 & 115 &  29 & 0\\\\\n\t 439891 & 0.010 & 6 & 115 &  29 & 0\\\\\n\t 644123 & 0.010 & 6 & 115 &  29 & 0\\\\\n\t 213149 & 0.010 & 6 & 115 &  29 & 0\\\\\n\t 439891 & 0.001 & 6 & 115 & 144 & 0\\\\\n\t 644123 & 0.001 & 6 & 115 & 144 & 0\\\\\n\t 213149 & 0.001 & 6 & 115 & 144 & 0\\\\\n\t 439891 & 0.005 & 6 & 115 & 144 & 0\\\\\n\t 644123 & 0.005 & 6 & 115 & 144 & 0\\\\\n\t 213149 & 0.005 & 6 & 115 & 144 & 0\\\\\n\t 439891 & 0.010 & 6 & 115 & 144 & 0\\\\\n\t 644123 & 0.010 & 6 & 115 & 144 & 0\\\\\n\t 213149 & 0.010 & 6 & 115 & 144 & 0\\\\\n\t 439891 & 0.001 & 6 & 115 & 288 & 0\\\\\n\t 644123 & 0.001 & 6 & 115 & 288 & 0\\\\\n\t 213149 & 0.001 & 6 & 115 & 288 & 0\\\\\n\t 439891 & 0.005 & 6 & 115 & 288 & 0\\\\\n\t 644123 & 0.005 & 6 & 115 & 288 & 0\\\\\n\t 213149 & 0.005 & 6 & 115 & 288 & 0\\\\\n\t 439891 & 0.010 & 6 & 115 & 288 & 0\\\\\n\t 644123 & 0.010 & 6 & 115 & 288 & 0\\\\\n\t 213149 & 0.010 & 6 & 115 & 288 & 0\\\\\n\t 439891 & 0.001 & 6 & 115 & 576 & 0\\\\\n\t 644123 & 0.001 & 6 & 115 & 576 & 0\\\\\n\t 213149 & 0.001 & 6 & 115 & 576 & 0\\\\\n\t ⋮ & ⋮ & ⋮ & ⋮ & ⋮ & ⋮\\\\\n\t 439891 & 0.010 & 12 & 2304 &  29 & 0\\\\\n\t 644123 & 0.010 & 12 & 2304 &  29 & 0\\\\\n\t 213149 & 0.010 & 12 & 2304 &  29 & 0\\\\\n\t 439891 & 0.001 & 12 & 2304 & 144 & 0\\\\\n\t 644123 & 0.001 & 12 & 2304 & 144 & 0\\\\\n\t 213149 & 0.001 & 12 & 2304 & 144 & 0\\\\\n\t 439891 & 0.005 & 12 & 2304 & 144 & 0\\\\\n\t 644123 & 0.005 & 12 & 2304 & 144 & 0\\\\\n\t 213149 & 0.005 & 12 & 2304 & 144 & 0\\\\\n\t 439891 & 0.010 & 12 & 2304 & 144 & 0\\\\\n\t 644123 & 0.010 & 12 & 2304 & 144 & 0\\\\\n\t 213149 & 0.010 & 12 & 2304 & 144 & 0\\\\\n\t 439891 & 0.001 & 12 & 2304 & 288 & 0\\\\\n\t 644123 & 0.001 & 12 & 2304 & 288 & 0\\\\\n\t 213149 & 0.001 & 12 & 2304 & 288 & 0\\\\\n\t 439891 & 0.005 & 12 & 2304 & 288 & 0\\\\\n\t 644123 & 0.005 & 12 & 2304 & 288 & 0\\\\\n\t 213149 & 0.005 & 12 & 2304 & 288 & 0\\\\\n\t 439891 & 0.010 & 12 & 2304 & 288 & 0\\\\\n\t 644123 & 0.010 & 12 & 2304 & 288 & 0\\\\\n\t 213149 & 0.010 & 12 & 2304 & 288 & 0\\\\\n\t 439891 & 0.001 & 12 & 2304 & 576 & 0\\\\\n\t 644123 & 0.001 & 12 & 2304 & 576 & 0\\\\\n\t 213149 & 0.001 & 12 & 2304 & 576 & 0\\\\\n\t 439891 & 0.005 & 12 & 2304 & 576 & 0\\\\\n\t 644123 & 0.005 & 12 & 2304 & 576 & 0\\\\\n\t 213149 & 0.005 & 12 & 2304 & 576 & 0\\\\\n\t 439891 & 0.010 & 12 & 2304 & 576 & 0\\\\\n\t 644123 & 0.010 & 12 & 2304 & 576 & 0\\\\\n\t 213149 & 0.010 & 12 & 2304 & 576 & 0\\\\\n\\end{tabular}\n",
            "text/plain": [
              "    semilla cp    maxdepth minsplit minbucket ganancia_test\n",
              "1   439891  0.001 6        115       29       0            \n",
              "2   644123  0.001 6        115       29       0            \n",
              "3   213149  0.001 6        115       29       0            \n",
              "4   439891  0.005 6        115       29       0            \n",
              "5   644123  0.005 6        115       29       0            \n",
              "6   213149  0.005 6        115       29       0            \n",
              "7   439891  0.010 6        115       29       0            \n",
              "8   644123  0.010 6        115       29       0            \n",
              "9   213149  0.010 6        115       29       0            \n",
              "10  439891  0.001 6        115      144       0            \n",
              "11  644123  0.001 6        115      144       0            \n",
              "12  213149  0.001 6        115      144       0            \n",
              "13  439891  0.005 6        115      144       0            \n",
              "14  644123  0.005 6        115      144       0            \n",
              "15  213149  0.005 6        115      144       0            \n",
              "16  439891  0.010 6        115      144       0            \n",
              "17  644123  0.010 6        115      144       0            \n",
              "18  213149  0.010 6        115      144       0            \n",
              "19  439891  0.001 6        115      288       0            \n",
              "20  644123  0.001 6        115      288       0            \n",
              "21  213149  0.001 6        115      288       0            \n",
              "22  439891  0.005 6        115      288       0            \n",
              "23  644123  0.005 6        115      288       0            \n",
              "24  213149  0.005 6        115      288       0            \n",
              "25  439891  0.010 6        115      288       0            \n",
              "26  644123  0.010 6        115      288       0            \n",
              "27  213149  0.010 6        115      288       0            \n",
              "28  439891  0.001 6        115      576       0            \n",
              "29  644123  0.001 6        115      576       0            \n",
              "30  213149  0.001 6        115      576       0            \n",
              "⋮   ⋮       ⋮     ⋮        ⋮        ⋮         ⋮            \n",
              "547 439891  0.010 12       2304      29       0            \n",
              "548 644123  0.010 12       2304      29       0            \n",
              "549 213149  0.010 12       2304      29       0            \n",
              "550 439891  0.001 12       2304     144       0            \n",
              "551 644123  0.001 12       2304     144       0            \n",
              "552 213149  0.001 12       2304     144       0            \n",
              "553 439891  0.005 12       2304     144       0            \n",
              "554 644123  0.005 12       2304     144       0            \n",
              "555 213149  0.005 12       2304     144       0            \n",
              "556 439891  0.010 12       2304     144       0            \n",
              "557 644123  0.010 12       2304     144       0            \n",
              "558 213149  0.010 12       2304     144       0            \n",
              "559 439891  0.001 12       2304     288       0            \n",
              "560 644123  0.001 12       2304     288       0            \n",
              "561 213149  0.001 12       2304     288       0            \n",
              "562 439891  0.005 12       2304     288       0            \n",
              "563 644123  0.005 12       2304     288       0            \n",
              "564 213149  0.005 12       2304     288       0            \n",
              "565 439891  0.010 12       2304     288       0            \n",
              "566 644123  0.010 12       2304     288       0            \n",
              "567 213149  0.010 12       2304     288       0            \n",
              "568 439891  0.001 12       2304     576       0            \n",
              "569 644123  0.001 12       2304     576       0            \n",
              "570 213149  0.001 12       2304     576       0            \n",
              "571 439891  0.005 12       2304     576       0            \n",
              "572 644123  0.005 12       2304     576       0            \n",
              "573 213149  0.005 12       2304     576       0            \n",
              "574 439891  0.010 12       2304     576       0            \n",
              "575 644123  0.010 12       2304     576       0            \n",
              "576 213149  0.010 12       2304     576       0            "
            ]
          },
          "metadata": {}
        }
      ]
    },
    {
      "cell_type": "code",
      "source": [
        "# genero y grabo el resumen\n",
        "tb_grid_search <- tb_grid_search_detalle[,\n",
        "  list( \"ganancia_mean\" = mean(ganancia_test),\n",
        "    \"qty\" = .N ),\n",
        "  list( cp, maxdepth, minsplit, minbucket )\n",
        "]\n"
      ],
      "metadata": {
        "id": "DjCxtx8bIsgl"
      },
      "execution_count": null,
      "outputs": []
    },
    {
      "cell_type": "code",
      "source": [
        "check_combo <- function(cp, md, ms, mb) {\n",
        "  m  <- rpart(clase_ternaria ~ ., data=dataset[fold==1],\n",
        "              method=\"class\",\n",
        "              control=rpart.control(cp=cp, maxdepth=md, minsplit=ms, minbucket=mb, xval=0))\n",
        "  pr <- predict(m, dataset[fold==2], type=\"prob\")[,\"BAJA+2\"]\n",
        "  c(splits = sum(m$frame$var != \"<leaf>\"),\n",
        "    activate = mean(pr > 0.025))\n",
        "}\n",
        "\n",
        "rbind(\n",
        "  `cp=0`      = check_combo(0,      10, 550, 138),\n",
        "  `cp=0.001`  = check_combo(0.001,  10, 550, 138),\n",
        "  `cp=0.005`  = check_combo(0.005,  10, 550, 138),\n",
        "  `cp=0.01`   = check_combo(0.01,   10, 550, 138)\n",
        ")\n"
      ],
      "metadata": {
        "id": "RS1RHVLPajsM",
        "outputId": "333b0d56-b160-400b-ad19-fc1ebe5963de",
        "colab": {
          "base_uri": "https://localhost:8080/",
          "height": 192
        }
      },
      "execution_count": null,
      "outputs": [
        {
          "output_type": "display_data",
          "data": {
            "text/html": [
              "<table class=\"dataframe\">\n",
              "<caption>A matrix: 4 × 2 of type dbl</caption>\n",
              "<thead>\n",
              "\t<tr><th></th><th scope=col>splits</th><th scope=col>activate</th></tr>\n",
              "</thead>\n",
              "<tbody>\n",
              "\t<tr><th scope=row>cp=0</th><td>0</td><td>0</td></tr>\n",
              "\t<tr><th scope=row>cp=0.001</th><td>0</td><td>0</td></tr>\n",
              "\t<tr><th scope=row>cp=0.005</th><td>0</td><td>0</td></tr>\n",
              "\t<tr><th scope=row>cp=0.01</th><td>0</td><td>0</td></tr>\n",
              "</tbody>\n",
              "</table>\n"
            ],
            "text/markdown": "\nA matrix: 4 × 2 of type dbl\n\n| <!--/--> | splits | activate |\n|---|---|---|\n| cp=0 | 0 | 0 |\n| cp=0.001 | 0 | 0 |\n| cp=0.005 | 0 | 0 |\n| cp=0.01 | 0 | 0 |\n\n",
            "text/latex": "A matrix: 4 × 2 of type dbl\n\\begin{tabular}{r|ll}\n  & splits & activate\\\\\n\\hline\n\tcp=0 & 0 & 0\\\\\n\tcp=0.001 & 0 & 0\\\\\n\tcp=0.005 & 0 & 0\\\\\n\tcp=0.01 & 0 & 0\\\\\n\\end{tabular}\n",
            "text/plain": [
              "         splits activate\n",
              "cp=0     0      0       \n",
              "cp=0.001 0      0       \n",
              "cp=0.005 0      0       \n",
              "cp=0.01  0      0       "
            ]
          },
          "metadata": {}
        }
      ]
    },
    {
      "cell_type": "code",
      "source": [
        "# ordeno descendente por ganancia\n",
        "setorder( tb_grid_search, -ganancia_mean )"
      ],
      "metadata": {
        "id": "LU29UhL1Ivg5"
      },
      "execution_count": null,
      "outputs": []
    },
    {
      "cell_type": "code",
      "source": [
        "ctrl <- rpart.control(cp=0, maxdepth=10, minsplit=550, minbucket=138, xval=0)\n",
        "m <- rpart(clase_ternaria ~ ., data=dataset[fold==1], method=\"class\", control=ctrl)\n",
        "pr <- predict(m, dataset[fold==2], type=\"prob\")\n",
        "print(colnames(pr), quote=TRUE); stopifnot(\"BAJA+2\" %in% colnames(pr))\n",
        "cat(\"Activation rate:\", mean(pr[,\"BAJA+2\"] > 0.025), \"\\n\")  # if ~0 ⇒ zero gain\n"
      ],
      "metadata": {
        "id": "nbzV3a8Jc_-D",
        "outputId": "89aa8873-6c9e-4f61-dd93-342868b46c87",
        "colab": {
          "base_uri": "https://localhost:8080/"
        }
      },
      "execution_count": null,
      "outputs": [
        {
          "output_type": "stream",
          "name": "stdout",
          "text": [
            "[1] \"BAJA+1\"   \"BAJA+2\"   \"CONTINUA\"\n",
            "Activation rate: 0 \n"
          ]
        }
      ]
    },
    {
      "cell_type": "code",
      "source": [
        "# veo los 10 mejores hiperparámetros\n",
        "tb_grid_search[1:10]"
      ],
      "metadata": {
        "id": "g-EjGY7aIyWL",
        "outputId": "4e23f181-be74-4418-a153-4324f8a480fc",
        "colab": {
          "base_uri": "https://localhost:8080/",
          "height": 411
        }
      },
      "execution_count": null,
      "outputs": [
        {
          "output_type": "display_data",
          "data": {
            "text/html": [
              "<table class=\"dataframe\">\n",
              "<caption>A data.table: 10 × 6</caption>\n",
              "<thead>\n",
              "\t<tr><th scope=col>cp</th><th scope=col>maxdepth</th><th scope=col>minsplit</th><th scope=col>minbucket</th><th scope=col>ganancia_mean</th><th scope=col>qty</th></tr>\n",
              "\t<tr><th scope=col>&lt;dbl&gt;</th><th scope=col>&lt;int&gt;</th><th scope=col>&lt;dbl&gt;</th><th scope=col>&lt;dbl&gt;</th><th scope=col>&lt;dbl&gt;</th><th scope=col>&lt;int&gt;</th></tr>\n",
              "</thead>\n",
              "<tbody>\n",
              "\t<tr><td>0.001</td><td>6</td><td>115</td><td> 29</td><td>0</td><td>3</td></tr>\n",
              "\t<tr><td>0.005</td><td>6</td><td>115</td><td> 29</td><td>0</td><td>3</td></tr>\n",
              "\t<tr><td>0.010</td><td>6</td><td>115</td><td> 29</td><td>0</td><td>3</td></tr>\n",
              "\t<tr><td>0.001</td><td>6</td><td>115</td><td>144</td><td>0</td><td>3</td></tr>\n",
              "\t<tr><td>0.005</td><td>6</td><td>115</td><td>144</td><td>0</td><td>3</td></tr>\n",
              "\t<tr><td>0.010</td><td>6</td><td>115</td><td>144</td><td>0</td><td>3</td></tr>\n",
              "\t<tr><td>0.001</td><td>6</td><td>115</td><td>288</td><td>0</td><td>3</td></tr>\n",
              "\t<tr><td>0.005</td><td>6</td><td>115</td><td>288</td><td>0</td><td>3</td></tr>\n",
              "\t<tr><td>0.010</td><td>6</td><td>115</td><td>288</td><td>0</td><td>3</td></tr>\n",
              "\t<tr><td>0.001</td><td>6</td><td>115</td><td>576</td><td>0</td><td>3</td></tr>\n",
              "</tbody>\n",
              "</table>\n"
            ],
            "text/markdown": "\nA data.table: 10 × 6\n\n| cp &lt;dbl&gt; | maxdepth &lt;int&gt; | minsplit &lt;dbl&gt; | minbucket &lt;dbl&gt; | ganancia_mean &lt;dbl&gt; | qty &lt;int&gt; |\n|---|---|---|---|---|---|\n| 0.001 | 6 | 115 |  29 | 0 | 3 |\n| 0.005 | 6 | 115 |  29 | 0 | 3 |\n| 0.010 | 6 | 115 |  29 | 0 | 3 |\n| 0.001 | 6 | 115 | 144 | 0 | 3 |\n| 0.005 | 6 | 115 | 144 | 0 | 3 |\n| 0.010 | 6 | 115 | 144 | 0 | 3 |\n| 0.001 | 6 | 115 | 288 | 0 | 3 |\n| 0.005 | 6 | 115 | 288 | 0 | 3 |\n| 0.010 | 6 | 115 | 288 | 0 | 3 |\n| 0.001 | 6 | 115 | 576 | 0 | 3 |\n\n",
            "text/latex": "A data.table: 10 × 6\n\\begin{tabular}{llllll}\n cp & maxdepth & minsplit & minbucket & ganancia\\_mean & qty\\\\\n <dbl> & <int> & <dbl> & <dbl> & <dbl> & <int>\\\\\n\\hline\n\t 0.001 & 6 & 115 &  29 & 0 & 3\\\\\n\t 0.005 & 6 & 115 &  29 & 0 & 3\\\\\n\t 0.010 & 6 & 115 &  29 & 0 & 3\\\\\n\t 0.001 & 6 & 115 & 144 & 0 & 3\\\\\n\t 0.005 & 6 & 115 & 144 & 0 & 3\\\\\n\t 0.010 & 6 & 115 & 144 & 0 & 3\\\\\n\t 0.001 & 6 & 115 & 288 & 0 & 3\\\\\n\t 0.005 & 6 & 115 & 288 & 0 & 3\\\\\n\t 0.010 & 6 & 115 & 288 & 0 & 3\\\\\n\t 0.001 & 6 & 115 & 576 & 0 & 3\\\\\n\\end{tabular}\n",
            "text/plain": [
              "   cp    maxdepth minsplit minbucket ganancia_mean qty\n",
              "1  0.001 6        115       29       0             3  \n",
              "2  0.005 6        115       29       0             3  \n",
              "3  0.010 6        115       29       0             3  \n",
              "4  0.001 6        115      144       0             3  \n",
              "5  0.005 6        115      144       0             3  \n",
              "6  0.010 6        115      144       0             3  \n",
              "7  0.001 6        115      288       0             3  \n",
              "8  0.005 6        115      288       0             3  \n",
              "9  0.010 6        115      288       0             3  \n",
              "10 0.001 6        115      576       0             3  "
            ]
          },
          "metadata": {}
        }
      ]
    },
    {
      "cell_type": "code",
      "source": [
        "# genero un id a la tabla\n",
        "tb_grid_search[, id := .I ]\n",
        "\n",
        "fwrite( tb_grid_search,\n",
        "  file = \"autogridsearch.txt\",\n",
        "  sep = \"\\t\"\n",
        ")\n"
      ],
      "metadata": {
        "id": "K3S-I2PTI5ZE"
      },
      "execution_count": null,
      "outputs": []
    },
    {
      "cell_type": "markdown",
      "source": [
        "# 4.  Análisis de resultados de Grid Search"
      ],
      "metadata": {
        "id": "1rYHk1YkI_9k"
      }
    },
    {
      "cell_type": "markdown",
      "source": [
        "La salida de la corrida anterior queda en ~/buckets/b1/exp/HT2900  que corresponde a su Google Drive\n",
        "<br>HT significa Hyperparameter Tuning\n",
        "<br>El Grid Search es un método de fuerza bruta de un altísimo costo computacional.\n",
        "<br>Queremos ver si es posible crear un algoritmo de optimización de hiperparámetros que se ahorre recorrer ciertas porciones muy malas del espacio de búsqueda. Algo del estilo “cada vez que pruebo una combinación de hiperparámetros donde  cp > 1 , la ganancia es muy mala, con lo cual ni vale la pena perder el tiempo explorando en esa region”\n"
      ],
      "metadata": {
        "id": "ZTJgPhMWJHTk"
      }
    },
    {
      "cell_type": "markdown",
      "source": [
        "<br>Levante el archivo de salida gridsearch.txt  a una planilla tipo Excel y analícelo detenidamente\n",
        "<br>Ordene por ganancia_mean descendente\n",
        "<br>\n",
        "<br>El de mayor ganancia_mean  decimos que es el primero del ranking\n",
        "En Zulip, correspondiente channel  #Tarea Hogar 02 , topic Analisis Grid Search   intente contestar estas preguntas:\n",
        "\n",
        "* ¿Qué combinaciones de hiperparámetros poseen una ganancia muy buena?\n",
        "* ¿Hay algun hiperparámetro que para cierto valor siempre genera una ganancia muy mala, a independientemente de lo que valgan los otros hiperparámetros ?\n",
        "* ¿Que combinaciones de hiperparámetros es pésima y hubiera sido bueno ahorrarse esas corridas ?\n",
        "\n",
        "( tiempo estimado 30 minutos, dificultad media )"
      ],
      "metadata": {
        "id": "IaVgMu4tPwyB"
      }
    },
    {
      "cell_type": "markdown",
      "metadata": {
        "id": "23c20e40"
      },
      "source": [
        "## Track the best hyperparameters and gain\n",
        "\n",
        "### Subtask:\n",
        "Modify the code to keep track of the best hyperparameters found during the optimization process and their corresponding gain."
      ]
    },
    {
      "cell_type": "code",
      "metadata": {
        "id": "40b6bdcc"
      },
      "source": [
        "# Install and load the rBayesianOptimization package if not already available\n",
        "if (!require(\"rBayesianOptimization\")) install.packages(\"rBayesianOptimization\")\n",
        "require(\"rBayesianOptimization\")"
      ],
      "execution_count": 5,
      "outputs": []
    },
    {
      "cell_type": "code",
      "metadata": {
        "id": "5e5078ec"
      },
      "source": [
        "# Define the objective function to maximize\n",
        "EstimarGananciaHiperparametros <- function(cp, maxdepth, minsplit, minbucket) {\n",
        "  # Ensure integer hyperparameters are treated as integers\n",
        "  maxdepth <- as.integer(maxdepth)\n",
        "  minsplit <- as.integer(minsplit)\n",
        "  minbucket <- as.integer(minbucket)\n",
        "\n",
        "  # Set the hyperparameters for rpart control\n",
        "  param_basicos <- list(\n",
        "    cp = cp,\n",
        "    maxdepth = maxdepth,\n",
        "    minsplit = minsplit,\n",
        "    minbucket = minbucket\n",
        "  )\n",
        "\n",
        "  # Run Monte Carlo simulation with the given hyperparameters\n",
        "  ganancias <- ArbolesMontecarlo(PARAM$semillas, param_basicos)\n",
        "\n",
        "  # Calculate the mean gain\n",
        "  ganancia_promedio <- mean(sapply(ganancias, \"[[\", \"ganancia_test\"))\n",
        "\n",
        "  # Return the mean gain (the objective function value)\n",
        "  return(list(Score = ganancia_promedio, Pred = 0)) # BayesianOptimization expects a list with Score and Pred\n",
        "}"
      ],
      "execution_count": 6,
      "outputs": []
    },
    {
      "cell_type": "code",
      "metadata": {
        "colab": {
          "base_uri": "https://localhost:8080/",
          "height": 238
        },
        "id": "3aecd6ac",
        "outputId": "b56feb49-bbd2-4018-f0cc-be0571f46ed0"
      },
      "source": [
        "# Define the bounds for each hyperparameter, including negative values for cp\n",
        "bounds <- list(\n",
        "  cp = c(-0.01, 0.01), # cp can be between -0.01 and 0.01\n",
        "  maxdepth = c(3L, 15L), # maxdepth can be between 3 and 15 (integer)\n",
        "  minsplit = c(2L, 2000L), # minsplit can be between 2 and 2000 (integer)\n",
        "  minbucket = c(1L, 1000L) # minbucket can be between 1 and 1000 (integer)\n",
        ")\n",
        "\n",
        "# Perform Bayesian Optimization\n",
        "set.seed(PARAM$semilla_primigenia) # Set seed for reproducibility\n",
        "bayes_opt_result <- BayesianOptimization(\n",
        "  FUN = EstimarGananciaHiperparametros, # The objective function to maximize\n",
        "  bounds = bounds, # The hyperparameter bounds\n",
        "  init_points = 10, # Number of initial random points\n",
        "  n_iter = 20, # Number of iterations for optimization\n",
        "  acq = \"ucb\", # Acquisition function (Upper Confidence Bound)\n",
        "  kappa = 2.576, # Kappa value for UCB (exploratory vs exploitative trade-off)\n",
        "  eps = 0.0, # Epsilon for epsilon-greedy acquisition function\n",
        "  verbose = TRUE # Print optimization progress\n",
        ")\n",
        "\n",
        "# Print the best parameters found\n",
        "print(bayes_opt_result$Best_Par)\n",
        "print(bayes_opt_result$Best_Value)"
      ],
      "execution_count": 7,
      "outputs": [
        {
          "output_type": "error",
          "ename": "ERROR",
          "evalue": "Error: object 'PARAM' not found\n",
          "traceback": [
            "Error: object 'PARAM' not found\nTraceback:\n",
            "1. .handleSimpleError(function (cnd) \n . {\n .     watcher$capture_plot_and_output()\n .     cnd <- sanitize_call(cnd)\n .     watcher$push(cnd)\n .     switch(on_error, continue = invokeRestart(\"eval_continue\"), \n .         stop = invokeRestart(\"eval_stop\"), error = NULL)\n . }, \"object 'PARAM' not found\", base::quote(eval(expr, envir)))"
          ]
        }
      ]
    }
  ]
}