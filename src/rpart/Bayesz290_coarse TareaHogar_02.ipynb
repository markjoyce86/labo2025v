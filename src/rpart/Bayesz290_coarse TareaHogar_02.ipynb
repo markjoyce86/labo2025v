{
  "nbformat": 4,
  "nbformat_minor": 0,
  "metadata": {
    "colab": {
      "provenance": [],
      "machine_shape": "hm"
    },
    "kernelspec": {
      "name": "ir",
      "display_name": "R"
    },
    "language_info": {
      "name": "R"
    }
  },
  "cells": [
    {
      "cell_type": "markdown",
      "source": [
        "# Tarea para el Hogar 02"
      ],
      "metadata": {
        "id": "F3r8aa3pBigj"
      }
    },
    {
      "cell_type": "markdown",
      "source": [
        "Esta Tarea para el Hogar 02 se entrega el final de la segunda clase\n",
        "<br> se espera de usted que intente avanzar con los desafios propuestos y que los traiga terminados para la Clase 03, ya que se analizarán los resultados"
      ],
      "metadata": {
        "id": "nBm4ktHUBmZt"
      }
    },
    {
      "cell_type": "markdown",
      "source": [
        "##  1. Ensembles de Modelos"
      ],
      "metadata": {
        "id": "TK-M04ElCESC"
      }
    },
    {
      "cell_type": "markdown",
      "source": [
        "Vea el siguiente video [BBC - The Code - The Wisdom of the Crowd](https://www.youtube.com/watch?v=iOucwX7Z1HU)    ( 5 min)\n"
      ],
      "metadata": {
        "id": "biPYxgobCOSS"
      }
    },
    {
      "cell_type": "markdown",
      "source": [
        "Lea los siguientes artículos\n",
        "\n",
        "\n",
        "*   [The Wisdom of Crowds (Vox Populi) by Francis Galton](https://www.all-about-psychology.com/the-wisdom-of-crowds.html)  (10 min)\n",
        "*   [A Gentle Introduction to Ensemble Learning](https://machinelearningmastery.com/what-is-ensemble-learning/)  (10 min)\n",
        "\n"
      ],
      "metadata": {
        "id": "FBszBRyNCcjp"
      }
    },
    {
      "cell_type": "markdown",
      "source": [
        "\n",
        "\n",
        "---\n",
        "\n"
      ],
      "metadata": {
        "id": "x7SebtV2lpHQ"
      }
    },
    {
      "cell_type": "markdown",
      "source": [
        "##  2.  Zero2Hero   primera parte\n",
        "Se han lanzado los primeros fascículos coleccionables llamados \"from Zero to Hero\" que muy detalladamente, paso a paso enseñan todo lo necesario de R para entender los scripts oficiales de la asignatura.\n",
        "Están en el repositorio oficial de la asignatura, carpeta  **src/zero2hero**"
      ],
      "metadata": {
        "id": "NQcY8u2MDSLT"
      }
    },
    {
      "cell_type": "markdown",
      "source": [
        "\n",
        "\n",
        "---\n",
        "\n"
      ],
      "metadata": {
        "id": "GcO0OSiIEAGy"
      }
    },
    {
      "cell_type": "markdown",
      "source": [
        "## 3.  Grid Search"
      ],
      "metadata": {
        "id": "6MStcyn0EBdT"
      }
    },
    {
      "cell_type": "markdown",
      "source": [
        "Busque en internet el precido significado de los hiperparámetros de la librería **rpart**  que está implementando el algoritmo **CART**  Classification and Regression Trees  propuesto en el año 1984 por Leo Brieman:\n",
        "\n",
        "*   cp\n",
        "*   maxdepth\n",
        "*   minsplit\n",
        "*   minbucket\n",
        "\n",
        "Entienda que valores es razonable tome cada hiperparámetro,  en particular profundice en el hiperparámetro  **cp**  y la posibilidad que tome valores negativos.  Es válido consultar a su amigo de *capacidades especiales*  ChatGPT\n"
      ],
      "metadata": {
        "id": "gM8RKXDgEIY0"
      }
    },
    {
      "cell_type": "markdown",
      "source": [
        "En las siguientes celdas a un notebook incompleto, un esqueleto de codigo brindado a modo de facilitarle la tarea de codeo y permitir que su valiosa cognición se concentre temas conceptuales de Ciencia de Datos\n",
        "\n",
        "Modifiquelo agregando loops para que recorra TODOS los hiperparámetros de rpart  < cp, maxdepth, minsplit, minbucket >, y luego póngalo a correr. Recuerde cambiar por SU semilla\n",
        "Tenga muy presente la granularidad que eligirá para cada hiperparámetro."
      ],
      "metadata": {
        "id": "_k7eT3HIFy9y"
      }
    },
    {
      "cell_type": "markdown",
      "source": [
        "### Seteo del ambiente en Google Colab"
      ],
      "metadata": {
        "id": "kmLygy1TYPfg"
      }
    },
    {
      "cell_type": "markdown",
      "source": [
        "Esta parte se debe correr con el runtime en Python3\n",
        "<br>Ir al menu, Runtime -> Change Runtime Tipe -> Runtime type ->  **Python 3**"
      ],
      "metadata": {
        "id": "OikOm5K2YU3X"
      }
    },
    {
      "cell_type": "markdown",
      "source": [
        "Conectar la virtual machine donde esta corriendo Google Colab con el  Google Drive, para poder tener persistencia de archivos"
      ],
      "metadata": {
        "id": "4fmV5LyZdFyI"
      }
    },
    {
      "cell_type": "code",
      "source": [
        "# primero establecer el Runtime de Python 3\n",
        "from google.colab import drive\n",
        "drive.mount('/content/.drive')"
      ],
      "metadata": {
        "id": "ilEZ-bE2VybW",
        "colab": {
          "base_uri": "https://localhost:8080/"
        },
        "outputId": "da826698-a427-4365-dbc0-7822bb498f28"
      },
      "execution_count": 1,
      "outputs": [
        {
          "output_type": "stream",
          "name": "stdout",
          "text": [
            "Drive already mounted at /content/.drive; to attempt to forcibly remount, call drive.mount(\"/content/.drive\", force_remount=True).\n"
          ]
        }
      ]
    },
    {
      "cell_type": "markdown",
      "source": [
        "Para correr la siguiente celda es fundamental en Arranque en Frio haber copiado el archivo kaggle.json al Google Drive, en la carpeta indicada en el instructivo\n",
        "\n",
        "<br>los siguientes comando estan en shell script de Linux\n",
        "*   Crear las carpetas en el Google Drive\n",
        "*   \"instalar\" el archivo kaggle.json desde el Google Drive a la virtual machine para que pueda ser utilizado por la libreria  kaggle de Python\n",
        "*   Bajar el  **dataset_pequeno**  al  Google Drive  y tambien al disco local de la virtual machine que esta corriendo Google Colab\n",
        "\n"
      ],
      "metadata": {
        "id": "ilaKtqWldeWg"
      }
    },
    {
      "cell_type": "code",
      "source": [
        "%%shell\n",
        "\n",
        "mkdir -p \"/content/.drive/My Drive/labo1\"\n",
        "mkdir -p \"/content/buckets\"\n",
        "ln -s \"/content/.drive/My Drive/labo1\" /content/buckets/b1\n",
        "\n",
        "mkdir -p ~/.kaggle\n",
        "cp /content/buckets/b1/kaggle/kaggle.json  ~/.kaggle\n",
        "chmod 600 ~/.kaggle/kaggle.json\n",
        "\n",
        "\n",
        "mkdir -p /content/buckets/b1/exp\n",
        "mkdir -p /content/buckets/b1/datasets\n",
        "mkdir -p /content/datasets\n",
        "\n",
        "\n",
        "\n",
        "archivo_origen=\"https://storage.googleapis.com/open-courses/austral2025-af91/dataset_pequeno.csv\"\n",
        "archivo_destino=\"/content/datasets/dataset_pequeno.csv\"\n",
        "archivo_destino_bucket=\"/content/buckets/b1/datasets/dataset_pequeno.csv\"\n",
        "\n",
        "if ! test -f $archivo_destino_bucket; then\n",
        "  wget  $archivo_origen  -O $archivo_destino_bucket\n",
        "fi\n",
        "\n",
        "\n",
        "if ! test -f $archivo_destino; then\n",
        "  cp  $archivo_destino_bucket  $archivo_destino\n",
        "fi\n",
        "\n"
      ],
      "metadata": {
        "id": "W8dQFI5QYCFa",
        "outputId": "e8b58c8e-9796-4654-a44e-404b71a43bf9",
        "colab": {
          "base_uri": "https://localhost:8080/"
        }
      },
      "execution_count": 2,
      "outputs": [
        {
          "output_type": "stream",
          "name": "stdout",
          "text": [
            "ln: failed to create symbolic link '/content/buckets/b1/labo1': File exists\n"
          ]
        },
        {
          "output_type": "execute_result",
          "data": {
            "text/plain": []
          },
          "metadata": {},
          "execution_count": 2
        }
      ]
    },
    {
      "cell_type": "markdown",
      "source": [
        "limpio el ambiente de R"
      ],
      "metadata": {
        "id": "SE94XRhWsxkX"
      }
    },
    {
      "cell_type": "code",
      "source": [
        "# limpio la memoria\n",
        "rm(list=ls(all.names=TRUE)) # remove all objects\n",
        "gc(full=TRUE, verbose=FALSE) # garbage collection"
      ],
      "metadata": {
        "id": "oZG_4br6szlT",
        "outputId": "dcb5c20a-0ca3-447a-8aa0-016aa2c22209",
        "colab": {
          "base_uri": "https://localhost:8080/",
          "height": 129
        }
      },
      "execution_count": 1,
      "outputs": [
        {
          "output_type": "display_data",
          "data": {
            "text/html": [
              "<table class=\"dataframe\">\n",
              "<caption>A matrix: 2 × 6 of type dbl</caption>\n",
              "<thead>\n",
              "\t<tr><th></th><th scope=col>used</th><th scope=col>(Mb)</th><th scope=col>gc trigger</th><th scope=col>(Mb)</th><th scope=col>max used</th><th scope=col>(Mb)</th></tr>\n",
              "</thead>\n",
              "<tbody>\n",
              "\t<tr><th scope=row>Ncells</th><td> 657177</td><td>35.1</td><td>1467094</td><td>78.4</td><td>1467094</td><td>78.4</td></tr>\n",
              "\t<tr><th scope=row>Vcells</th><td>1220152</td><td> 9.4</td><td>8388608</td><td>64.0</td><td>1975128</td><td>15.1</td></tr>\n",
              "</tbody>\n",
              "</table>\n"
            ],
            "text/markdown": "\nA matrix: 2 × 6 of type dbl\n\n| <!--/--> | used | (Mb) | gc trigger | (Mb) | max used | (Mb) |\n|---|---|---|---|---|---|---|\n| Ncells |  657177 | 35.1 | 1467094 | 78.4 | 1467094 | 78.4 |\n| Vcells | 1220152 |  9.4 | 8388608 | 64.0 | 1975128 | 15.1 |\n\n",
            "text/latex": "A matrix: 2 × 6 of type dbl\n\\begin{tabular}{r|llllll}\n  & used & (Mb) & gc trigger & (Mb) & max used & (Mb)\\\\\n\\hline\n\tNcells &  657177 & 35.1 & 1467094 & 78.4 & 1467094 & 78.4\\\\\n\tVcells & 1220152 &  9.4 & 8388608 & 64.0 & 1975128 & 15.1\\\\\n\\end{tabular}\n",
            "text/plain": [
              "       used    (Mb) gc trigger (Mb) max used (Mb)\n",
              "Ncells  657177 35.1 1467094    78.4 1467094  78.4\n",
              "Vcells 1220152  9.4 8388608    64.0 1975128  15.1"
            ]
          },
          "metadata": {}
        }
      ]
    },
    {
      "cell_type": "code",
      "source": [
        "# cargo las librerias que necesito\n",
        "require(\"data.table\")\n",
        "require(\"rpart\")\n",
        "require(\"parallel\")\n",
        "if (!require(\"primes\")) install.packages(\"primes\")\n",
        "require(\"primes\")"
      ],
      "metadata": {
        "id": "JO-12d7YHkWy",
        "colab": {
          "base_uri": "https://localhost:8080/"
        },
        "outputId": "98bf0cc1-d4a3-4345-a8b8-0f2cf86f936f"
      },
      "execution_count": 2,
      "outputs": [
        {
          "output_type": "stream",
          "name": "stderr",
          "text": [
            "Loading required package: data.table\n",
            "\n",
            "Loading required package: rpart\n",
            "\n",
            "Loading required package: parallel\n",
            "\n",
            "Loading required package: primes\n",
            "\n"
          ]
        }
      ]
    },
    {
      "cell_type": "markdown",
      "source": [
        "Aqui debe poner SU semiila primigenia"
      ],
      "metadata": {
        "id": "0MclPEJ6Q8Bp"
      }
    },
    {
      "cell_type": "code",
      "source": [
        "PARAM <- list()\n",
        "# reemplazar por su primer semilla\n",
        "PARAM$semilla_primigenia <- 765179\n",
        "PARAM$qsemillas <- 10\n",
        "\n",
        "PARAM$training_pct <- 70L  # entre  1L y 99L\n",
        "\n",
        "# elegir SU dataset comentando/ descomentando\n",
        "PARAM$dataset_nom <- \"~/datasets/dataset_pequeno.csv\""
      ],
      "metadata": {
        "id": "Vt5fC6bWHu5r"
      },
      "execution_count": 3,
      "outputs": []
    },
    {
      "cell_type": "code",
      "source": [
        "# particionar agrega una columna llamada fold a un dataset\n",
        "#  que consiste en una particion estratificada segun agrupa\n",
        "# particionar( data=dataset, division=c(70,30), agrupa=clase_ternaria, seed=semilla)\n",
        "#   crea una particion 70, 30\n",
        "\n",
        "particionar <- function(data, division, agrupa = \"\", campo = \"fold\", start = 1, seed = NA) {\n",
        "  if (!is.na(seed)) set.seed(seed)\n",
        "\n",
        "  bloque <- unlist(mapply(function(x, y) {\n",
        "    rep(y, x)\n",
        "  }, division, seq(from = start, length.out = length(division))))\n",
        "\n",
        "  data[, (campo) := sample(rep(bloque, ceiling(.N / length(bloque))))[1:.N],\n",
        "    by = agrupa\n",
        "  ]\n",
        "}"
      ],
      "metadata": {
        "id": "Z1dchsrWH4MD"
      },
      "execution_count": 4,
      "outputs": []
    },
    {
      "cell_type": "code",
      "source": [
        "ArbolEstimarGanancia <- function(semilla, training_pct, param_basicos) {\n",
        "  # particiono estratificadamente el dataset\n",
        "  particionar(dataset,\n",
        "    division = c(training_pct, 100L -training_pct),\n",
        "    agrupa = \"clase_ternaria\",\n",
        "    seed = semilla # aqui se usa SU semilla\n",
        "  )\n",
        "\n",
        "  # genero el modelo\n",
        "  # predecir clase_ternaria a partir del resto\n",
        "  modelo <- rpart(\"clase_ternaria ~ .\",\n",
        "    data = dataset[fold == 1], # fold==1  es training,  el 70% de los datos\n",
        "    xval = 0,\n",
        "    control = param_basicos\n",
        "  ) # aqui van los parametros del arbol\n",
        "\n",
        "  # aplico el modelo a los datos de testing\n",
        "  prediccion <- predict(modelo, # el modelo que genere recien\n",
        "    dataset[fold == 2], # fold==2  es testing, el 30% de los datos\n",
        "    type = \"prob\"\n",
        "  ) # type= \"prob\"  es que devuelva la probabilidad\n",
        "\n",
        "  # prediccion es una matriz con TRES columnas,\n",
        "  #  llamadas \"BAJA+1\", \"BAJA+2\"  y \"CONTINUA\"\n",
        "  # cada columna es el vector de probabilidades\n",
        "\n",
        "\n",
        "  # calculo la ganancia en testing  qu es fold==2\n",
        "  ganancia_test <- dataset[\n",
        "    fold == 2,\n",
        "    sum(ifelse(prediccion[, \"BAJA+2\"] > 0.025,\n",
        "      ifelse(clase_ternaria == \"BAJA+2\", 117000, -3000),\n",
        "      0\n",
        "    ))\n",
        "  ]\n",
        "\n",
        "  # escalo la ganancia como si fuera todo el dataset\n",
        "  ganancia_test_normalizada <- ganancia_test / (( 100 - PARAM$training_pct ) / 100 )\n",
        "\n",
        "  return(\n",
        "    c( list(\"semilla\" = semilla),\n",
        "      param_basicos,\n",
        "      list( \"ganancia_test\" = ganancia_test_normalizada )\n",
        "     )\n",
        "  )\n",
        "}"
      ],
      "metadata": {
        "id": "xsHwS1CzIA70"
      },
      "execution_count": 5,
      "outputs": []
    },
    {
      "cell_type": "code",
      "source": [
        "ArbolesMontecarlo <- function(semillas, param_basicos) {\n",
        "\n",
        "  # la funcion mcmapply  llama a la funcion ArbolEstimarGanancia\n",
        "  #  tantas veces como valores tenga el vector  PARAM$semillas\n",
        "  salida <- mcmapply(ArbolEstimarGanancia,\n",
        "    semillas, # paso el vector de semillas\n",
        "    MoreArgs = list(PARAM$training_pct, param_basicos), # aqui paso el segundo parametro\n",
        "    SIMPLIFY = FALSE,\n",
        "    mc.cores = detectCores()\n",
        "  )\n",
        "\n",
        "  return(salida)\n",
        "}"
      ],
      "metadata": {
        "id": "BvBVOuhqIEjD"
      },
      "execution_count": 6,
      "outputs": []
    },
    {
      "cell_type": "code",
      "source": [
        "# carpeta de trabajo\n",
        "# por fabor cambiar numero de experimento si se cambia el loop principal\n",
        "setwd(\"/content/buckets/b1/exp\")\n",
        "experimento <- \"HT2900\"\n",
        "dir.create(experimento, showWarnings=FALSE)\n",
        "setwd( paste0(\"/content/buckets/b1/exp/\", experimento ))"
      ],
      "metadata": {
        "id": "L-DOGHOjIG7G"
      },
      "execution_count": 7,
      "outputs": []
    },
    {
      "cell_type": "code",
      "source": [
        "# lectura del dataset\n",
        "dataset <- fread(\"/content/datasets/dataset_pequeno.csv\")\n",
        "\n",
        "# trabajo solo con los datos con clase, es decir 202107\n",
        "dataset <- dataset[clase_ternaria != \"\"]"
      ],
      "metadata": {
        "id": "NM-mrLWcIPo6"
      },
      "execution_count": 8,
      "outputs": []
    },
    {
      "cell_type": "code",
      "source": [
        "# genero numeros primos\n",
        "primos <- generate_primes(min = 100000, max = 1000000)\n",
        "set.seed(PARAM$semilla_primigenia) # inicializo\n",
        "# me quedo con PARAM$qsemillas   semillas\n",
        "PARAM$semillas <- sample(primos, PARAM$qsemillas )"
      ],
      "metadata": {
        "id": "tSlY0EcgIWdi"
      },
      "execution_count": 9,
      "outputs": []
    },
    {
      "cell_type": "code",
      "source": [
        "# genero la data.table donde van los resultados detallados del Grid Search\n",
        "# un registro para cada combinacion de < semilla, parametros >\n",
        "\n",
        "if(file.exists(\"autogridsearch_detalle.txt\")){\n",
        "  tb_grid_search_detalle <- fread(\"autogridsearch_detalle.txt\")\n",
        "}else{\n",
        "  tb_grid_search_detalle <- data.table(\n",
        "    semilla = integer(),\n",
        "    cp = numeric(),\n",
        "    maxdepth = integer(),\n",
        "   minsplit = integer(),\n",
        "    minbucket = integer(),\n",
        "    ganancia_test = numeric()\n",
        "  )\n",
        "}\n",
        "\n",
        "nrow( tb_grid_search_detalle )"
      ],
      "metadata": {
        "id": "xxCAwIKyIaTl",
        "outputId": "4613c0f6-a0b6-49ce-f554-f76709a556f4",
        "colab": {
          "base_uri": "https://localhost:8080/",
          "height": 34
        }
      },
      "execution_count": 10,
      "outputs": [
        {
          "output_type": "display_data",
          "data": {
            "text/html": [
              "0"
            ],
            "text/markdown": "0",
            "text/latex": "0",
            "text/plain": [
              "[1] 0"
            ]
          },
          "metadata": {}
        }
      ]
    },
    {
      "cell_type": "code",
      "source": [
        "# data.table threads (0 = auto use all)\n",
        "data.table::setDTthreads(0)\n",
        "data.table::getDTthreads()"
      ],
      "metadata": {
        "colab": {
          "base_uri": "https://localhost:8080/",
          "height": 34
        },
        "id": "1kEF1wvkozIh",
        "outputId": "1263b2a3-a678-485f-d052-fba74b9768d7"
      },
      "execution_count": 11,
      "outputs": [
        {
          "output_type": "display_data",
          "data": {
            "text/html": [
              "8"
            ],
            "text/markdown": "8",
            "text/latex": "8",
            "text/plain": [
              "[1] 8"
            ]
          },
          "metadata": {}
        }
      ]
    },
    {
      "cell_type": "markdown",
      "source": [
        "Esta es la parte del código que usted debe expandir a TODOS los hiperparámetros de rpart,\n",
        "<br>ya que actualmente apenas recorre  maxdepth y  minsplit  dejando fijos  cp=-0.5  y minbucket=5"
      ],
      "metadata": {
        "id": "eAuGBNL8IkOD"
      }
    },
    {
      "cell_type": "markdown",
      "metadata": {
        "id": "3d107a9b"
      },
      "source": [
        "Now that you have the top 100 parameter combinations, you can analyze the ranges of `cp`, `maxdepth`, `minsplit`, and `minbucket` that appear most frequently among these high-performing combinations. This analysis will help you determine the best ranges for manual reproduction or further investigation."
      ]
    },
    {
      "cell_type": "markdown",
      "source": [
        "# 4.  Análisis de resultados de Grid Search"
      ],
      "metadata": {
        "id": "1rYHk1YkI_9k"
      }
    },
    {
      "cell_type": "markdown",
      "source": [
        "La salida de la corrida anterior queda en ~/buckets/b1/exp/HT2900  que corresponde a su Google Drive\n",
        "<br>HT significa Hyperparameter Tuning\n",
        "<br>El Grid Search es un método de fuerza bruta de un altísimo costo computacional.\n",
        "<br>Queremos ver si es posible crear un algoritmo de optimización de hiperparámetros que se ahorre recorrer ciertas porciones muy malas del espacio de búsqueda. Algo del estilo “cada vez que pruebo una combinación de hiperparámetros donde  cp > 1 , la ganancia es muy mala, con lo cual ni vale la pena perder el tiempo explorando en esa region”\n"
      ],
      "metadata": {
        "id": "ZTJgPhMWJHTk"
      }
    },
    {
      "cell_type": "markdown",
      "source": [
        "<br>Levante el archivo de salida gridsearch.txt  a una planilla tipo Excel y analícelo detenidamente\n",
        "<br>Ordene por ganancia_mean descendente\n",
        "<br>\n",
        "<br>El de mayor ganancia_mean  decimos que es el primero del ranking\n",
        "En Zulip, correspondiente channel  #Tarea Hogar 02 , topic Analisis Grid Search   intente contestar estas preguntas:\n",
        "\n",
        "* ¿Qué combinaciones de hiperparámetros poseen una ganancia muy buena?\n",
        "* ¿Hay algun hiperparámetro que para cierto valor siempre genera una ganancia muy mala, a independientemente de lo que valgan los otros hiperparámetros ?\n",
        "* ¿Que combinaciones de hiperparámetros es pésima y hubiera sido bueno ahorrarse esas corridas ?\n",
        "\n",
        "( tiempo estimado 30 minutos, dificultad media )"
      ],
      "metadata": {
        "id": "IaVgMu4tPwyB"
      }
    },
    {
      "cell_type": "markdown",
      "metadata": {
        "id": "23c20e40"
      },
      "source": [
        "## Track the best hyperparameters and gain\n",
        "\n",
        "### Subtask:\n",
        "Modify the code to keep track of the best hyperparameters found during the optimization process and their corresponding gain."
      ]
    },
    {
      "cell_type": "code",
      "metadata": {
        "id": "40b6bdcc",
        "colab": {
          "base_uri": "https://localhost:8080/"
        },
        "outputId": "b6a0dd93-f2a2-409b-ef8f-1b875e81ee43"
      },
      "source": [
        "# Install and load the rBayesianOptimization package if not already available\n",
        "if (!require(\"rBayesianOptimization\")) install.packages(\"rBayesianOptimization\")\n",
        "require(\"rBayesianOptimization\")"
      ],
      "execution_count": 12,
      "outputs": [
        {
          "output_type": "stream",
          "name": "stderr",
          "text": [
            "Loading required package: rBayesianOptimization\n",
            "\n"
          ]
        }
      ]
    },
    {
      "cell_type": "code",
      "metadata": {
        "id": "5e5078ec"
      },
      "source": [
        "# Define the objective function to maximize\n",
        "EstimarGananciaHiperparametros <- function(cp, maxdepth, minsplit, minbucket) {\n",
        "  # Ensure integer hyperparameters are treated as integers\n",
        "  maxdepth <- as.integer(maxdepth)\n",
        "  minsplit <- as.integer(minsplit)\n",
        "  minbucket <- as.integer(minbucket)\n",
        "\n",
        "  # Round cp to the nearest 0.1\n",
        "  cp_rounded <- round(cp * 10) / 10\n",
        "\n",
        "  # Set the hyperparameters for rpart control\n",
        "  param_basicos <- list(\n",
        "    cp = cp_rounded,\n",
        "    maxdepth = maxdepth,\n",
        "    minsplit = minsplit,\n",
        "    minbucket = minbucket\n",
        "  )\n",
        "\n",
        "  # Run Monte Carlo simulation with the given hyperparameters\n",
        "  ganancias <- ArbolesMontecarlo(PARAM$semillas, param_basicos)\n",
        "\n",
        "  # Calculate the mean gain\n",
        "  ganancia_promedio <- mean(sapply(ganancias, \"[[\", \"ganancia_test\"))\n",
        "\n",
        "  # Return the mean gain (the objective function value)\n",
        "  return(list(Score = ganancia_promedio, Pred = 0)) # BayesianOptimization expects a list with Score and Pred\n",
        "}"
      ],
      "execution_count": 13,
      "outputs": []
    },
    {
      "cell_type": "code",
      "metadata": {
        "id": "3aecd6ac"
      },
      "source": [
        "# Define the bounds for each hyperparameter, including negative values for cp\n",
        "bounds <- list(\n",
        "  cp = c(-1, 0.1), # cp can be between -0.01 and 0.01\n",
        "  maxdepth = c(3L, 15L), # maxdepth can be between 3 and 15 (integer)\n",
        "  minsplit = c(2L, 3000L), # minsplit can be between 2 and 2000 (integer)\n",
        "  minbucket = c(1L, 1000L) # minbucket can be between 1 and 1000 (integer)\n",
        ")\n",
        "\n",
        "# Perform Bayesian Optimization\n",
        "set.seed(PARAM$semilla_primigenia) # Set seed for reproducibility\n",
        "bayes_opt_result <- BayesianOptimization(\n",
        "  FUN = EstimarGananciaHiperparametros, # The objective function to maximize\n",
        "  bounds = bounds, # The hyperparameter bounds\n",
        "  init_points = 20L, # Number of initial random points\n",
        "  n_iter = 80, # Number of iterations for optimization, increased from 30 to 90\n",
        "  acq = \"ei\", # Acquisition function (Upper Confidence Bound)\n",
        "  #kappa = 2.576, # Kappa value for UCB (exploratory vs exploitative trade-off)\n",
        "  eps = 0.01, # Epsilon for epsilon-greedy acquisition function\n",
        "  verbose = TRUE # Print optimization progress\n",
        ")\n",
        "\n",
        "# Print the best parameters found\n",
        "print(bayes_opt_result$Best_Par)\n",
        "print(bayes_opt_result$Best_Value)"
      ],
      "execution_count": null,
      "outputs": []
    },
    {
      "cell_type": "code",
      "metadata": {
        "id": "98f24158"
      },
      "source": [
        "# Get the results from the Bayesian optimization\n",
        "optimization_results <- bayes_opt_result$History\n",
        "\n",
        "# Display column names to identify the gain column\n",
        "print(colnames(optimization_results))\n",
        "\n",
        "# Convert the results to a data.table\n",
        "tb_optimization_results <- as.data.table(optimization_results)\n",
        "\n",
        "# Order the results by the gain (Value) in descending order\n",
        "setorder(tb_optimization_results, -Value)\n",
        "\n",
        "# Display the top 100 parameter combinations and their gain\n",
        "print(tb_optimization_results[1:100])\n"
      ],
      "execution_count": null,
      "outputs": []
    },
    {
      "cell_type": "code",
      "source": [
        "# genero un id a la tabla\n",
        "tb_optimization_results[, id := .I ]\n",
        "\n",
        "fwrite( tb_optimization_results,\n",
        "  file = \"BayesGridSearch.txt\",\n",
        "  sep = \"\\t\"\n",
        ")"
      ],
      "metadata": {
        "id": "9OtcPda0RFIA"
      },
      "execution_count": null,
      "outputs": []
    },
    {
      "cell_type": "markdown",
      "metadata": {
        "id": "b530b096"
      },
      "source": [
        "# Task\n",
        "Improve the Bayesian Optimization process to find better hyperparameters for the decision tree model, aiming for higher average gains, by increasing the number of iterations, refining hyperparameter bounds, experimenting with different acquisition functions, increasing the number of initial points, considering cross-validation, increasing the number of seeds for Monte Carlo simulation, and ensuring effective parallel processing."
      ]
    },
    {
      "cell_type": "markdown",
      "metadata": {
        "id": "c9a26a72"
      },
      "source": [
        "## Analyze current results\n",
        "\n",
        "### Subtask:\n",
        "Review the current Bayesian Optimization results (`bayes_opt_result`) to understand the range of hyperparameters explored and the resulting gains. This can help identify if the optimization is converging or if it's still exploring promising regions.\n"
      ]
    },
    {
      "cell_type": "markdown",
      "metadata": {
        "id": "6ae611a9"
      },
      "source": [
        "**Reasoning**:\n",
        "Display the best parameters and value from the Bayesian optimization results and show the history of the optimization to understand the explored hyperparameter space and resulting gains.\n",
        "\n"
      ]
    },
    {
      "cell_type": "code",
      "metadata": {
        "id": "23a4b377"
      },
      "source": [
        "print(\"Best Parameters Found:\")\n",
        "print(bayes_opt_result$Best_Par)\n",
        "print(\"\\nBest Value (Mean Gain):\")\n",
        "print(bayes_opt_result$Best_Value)\n",
        "\n",
        "print(\"\\nOptimization History (showing the first 10 rows):\")\n",
        "print(tb_optimization_results[1:10])"
      ],
      "execution_count": null,
      "outputs": []
    },
    {
      "cell_type": "markdown",
      "metadata": {
        "id": "aa232efc"
      },
      "source": [
        "**Reasoning**:\n",
        "Analyze the range of explored hyperparameters and their relationship with the gain from the optimization history to understand the effectiveness of the current optimization process.\n",
        "\n"
      ]
    },
    {
      "cell_type": "code",
      "metadata": {
        "id": "e8221dd1"
      },
      "source": [
        "# Analyze the distribution of hyperparameters in the top performing combinations\n",
        "print(\"\\nSummary statistics for hyperparameters in the top 100 combinations:\")\n",
        "print(summary(tb_optimization_results[1:100]))\n",
        "\n",
        "# Look for trends in hyperparameter values as gain increases\n",
        "# This is a basic visual inspection, more detailed analysis might involve plotting\n",
        "print(\"\\nHyperparameter values and gain for the top 20 combinations:\")\n",
        "print(tb_optimization_results[1:100, c(\"cp\", \"maxdepth\", \"minsplit\", \"minbucket\", \"Value\")])"
      ],
      "execution_count": null,
      "outputs": []
    },
    {
      "cell_type": "markdown",
      "metadata": {
        "id": "a79cb5c1"
      },
      "source": [
        "## Increase the number of iterations\n",
        "\n",
        "### Subtask:\n",
        "Increase the number of iterations (`n_iter`) in the `BayesianOptimization` function to allow for a more extensive exploration of the hyperparameter space.\n"
      ]
    },
    {
      "cell_type": "markdown",
      "metadata": {
        "id": "59a3e025"
      },
      "source": [
        "**Reasoning**:\n",
        "Increase the number of iterations in the BayesianOptimization function to explore the hyperparameter space more extensively.\n",
        "\n"
      ]
    },
    {
      "cell_type": "code",
      "metadata": {
        "id": "e63d32de"
      },
      "source": [
        "# Define the objective function to maximize\n",
        "EstimarGananciaHiperparametros <- function(cp, maxdepth, minsplit, minbucket) {\n",
        "  # Ensure integer hyperparameters are treated as integers\n",
        "  maxdepth <- as.integer(maxdepth)\n",
        "  minsplit <- as.integer(minsplit)\n",
        "  minbucket <- as.integer(minbucket)\n",
        "\n",
        "  # Set the hyperparameters for rpart control\n",
        "  param_basicos <- list(\n",
        "    cp = cp,\n",
        "    maxdepth = maxdepth,\n",
        "    minsplit = minsplit,\n",
        "    minbucket = minbucket\n",
        "  )\n",
        "\n",
        "  # Run Monte Carlo simulation with the given hyperparameters\n",
        "  ganancias <- ArbolesMontecarlo(PARAM$semillas, param_basicos)\n",
        "\n",
        "  # Calculate the mean gain\n",
        "  ganancia_promedio <- mean(sapply(ganancias, \"[[\", \"ganancia_test\"))\n",
        "\n",
        "  # Return the mean gain (the objective function value)\n",
        "  return(list(Score = ganancia_promedio, Pred = 0)) # BayesianOptimization expects a list with Score and Pred\n",
        "}\n",
        "\n",
        "\n",
        "# Define the bounds for each hyperparameter, including negative values for cp\n",
        "bounds <- list(\n",
        "  cp = c(-1, 0.1), # cp can be between -0.01 and 0.01\n",
        "  maxdepth = c(3L, 15L), # maxdepth can be between 3 and 15 (integer)\n",
        "  minsplit = c(2L, 3000L), # minsplit can be between 2 and 2000 (integer)\n",
        "  minbucket = c(1L, 1000L) # minbucket can be between 1 and 1000 (integer)\n",
        ")\n",
        "\n",
        "# Perform Bayesian Optimization\n",
        "set.seed(PARAM$semilla_primigenia) # Set seed for reproducibility\n",
        "bayes_opt_result <- BayesianOptimization(\n",
        "  FUN = EstimarGananciaHiperparametros, # The objective function to maximize\n",
        "  bounds = bounds, # The hyperparameter bounds\n",
        "  init_points = 20L, # Number of initial random points\n",
        "  n_iter = 80, # Number of iterations for optimization, increased from 30 to 90\n",
        "  acq = \"ei\", # Acquisition function (Upper Confidence Bound)\n",
        "  #kappa = 2.576, # Kappa value for UCB (exploratory vs exploitative trade-off)\n",
        "  eps = 0.01, # Epsilon for epsilon-greedy acquisition function\n",
        "  verbose = TRUE # Print optimization progress\n",
        ")\n",
        "\n",
        "# Print the best parameters found\n",
        "print(bayes_opt_result$Best_Par)\n",
        "print(bayes_opt_result$Best_Value)"
      ],
      "execution_count": null,
      "outputs": []
    },
    {
      "cell_type": "code",
      "source": [
        "# 1) Pull BO history\n",
        "hist <- as.data.table(bayes_opt_result$History)\n",
        "\n",
        "# 2) Normalize columns present in history\n",
        "has_ratio <- \"minbucket_ratio\" %in% names(hist)\n",
        "\n",
        "# Cast integer-like params\n",
        "int_cols <- intersect(c(\"maxdepth\",\"minsplit\",\"minbucket\"), names(hist))\n",
        "if (length(int_cols)) hist[, (int_cols) := lapply(.SD, as.integer), .SDcols = int_cols]\n",
        "\n",
        "# Optional: derive minbucket from ratio if BO used minbucket_ratio\n",
        "if (has_ratio && !(\"minbucket\" %in% names(hist))) {\n",
        "  # Clamp to [1, floor(minsplit/2)]\n",
        "  hist[, minbucket := pmax(1L, as.integer(round(minsplit * minbucket_ratio)))]\n",
        "  hist[, minbucket := pmin(minbucket, as.integer(floor(minsplit / 2L)))]\n",
        "}\n",
        "\n",
        "# 3) For grouping, round cp a bit to merge near-duplicates produced by GP jitter\n",
        "hist[, cp_round := round(cp, 6)]\n",
        "\n",
        "# 4) Aggregate by unique combo -> mean and best observed Value\n",
        "group_cols <- intersect(c(\"cp_round\",\"maxdepth\",\"minsplit\",\"minbucket\"), names(hist))\n",
        "stopifnot(all(c(\"Value\", group_cols) %in% names(hist)))\n",
        "\n",
        "agg <- hist[, .(\n",
        "  mean_ganancia = mean(Value, na.rm = TRUE),\n",
        "  best_ganancia = max(Value, na.rm = TRUE),\n",
        "  n_evals       = .N\n",
        "), by = group_cols]\n",
        "\n",
        "# 5) Recover original cp (unrounded) by taking the average of cp per group (optional)\n",
        "if (\"cp\" %in% names(hist)) {\n",
        "  cp_map <- hist[, .(cp = mean(cp, na.rm = TRUE)), by = .(cp_round)]\n",
        "  agg <- cp_map[agg, on = \"cp_round\"]\n",
        "  setcolorder(agg, c(\"cp\",\"maxdepth\",\"minsplit\",\"minbucket\",\"mean_ganancia\",\"best_ganancia\",\"n_evals\",\"cp_round\"))\n",
        "  agg[, cp_round := NULL]\n",
        "} else {\n",
        "  setnames(agg, \"cp_round\", \"cp\")\n",
        "}\n",
        "\n",
        "# 6) Order and take top 100\n",
        "setorder(agg, -mean_ganancia, -best_ganancia, n_evals)\n",
        "top100 <- head(agg, 100)\n",
        "\n",
        "# 7) Show and (optionally) write to disk\n",
        "print(top100, nrows = 100)\n",
        "data.table::fwrite(top100, \"bo_top100_params.tsv\", sep = \"\\t\")\n"
      ],
      "metadata": {
        "id": "ZXHdvylhmKQX"
      },
      "execution_count": null,
      "outputs": []
    }
  ]
}