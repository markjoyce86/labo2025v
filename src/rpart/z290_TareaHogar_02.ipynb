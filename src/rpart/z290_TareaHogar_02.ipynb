{
  "nbformat": 4,
  "nbformat_minor": 0,
  "metadata": {
    "colab": {
      "provenance": []
    },
    "kernelspec": {
      "name": "ir",
      "display_name": "R"
    },
    "language_info": {
      "name": "R"
    }
  },
  "cells": [
    {
      "cell_type": "markdown",
      "source": [
        "# Tarea para el Hogar 02"
      ],
      "metadata": {
        "id": "F3r8aa3pBigj"
      }
    },
    {
      "cell_type": "markdown",
      "source": [
        "Esta Tarea para el Hogar 02 se entrega el final de la segunda clase\n",
        "<br> se espera de usted que intente avanzar con los desafios propuestos y que los traiga terminados para la Clase 03, ya que se analizarán los resultados"
      ],
      "metadata": {
        "id": "nBm4ktHUBmZt"
      }
    },
    {
      "cell_type": "markdown",
      "source": [
        "##  1. Ensembles de Modelos"
      ],
      "metadata": {
        "id": "TK-M04ElCESC"
      }
    },
    {
      "cell_type": "markdown",
      "source": [
        "Vea el siguiente video [BBC - The Code - The Wisdom of the Crowd](https://www.youtube.com/watch?v=iOucwX7Z1HU)    ( 5 min)\n"
      ],
      "metadata": {
        "id": "biPYxgobCOSS"
      }
    },
    {
      "cell_type": "markdown",
      "source": [
        "Lea los siguientes artículos\n",
        "\n",
        "\n",
        "*   [The Wisdom of Crowds (Vox Populi) by Francis Galton](https://www.all-about-psychology.com/the-wisdom-of-crowds.html)  (10 min)\n",
        "*   [A Gentle Introduction to Ensemble Learning](https://machinelearningmastery.com/what-is-ensemble-learning/)  (10 min)\n",
        "\n"
      ],
      "metadata": {
        "id": "FBszBRyNCcjp"
      }
    },
    {
      "cell_type": "markdown",
      "source": [
        "\n",
        "\n",
        "---\n",
        "\n"
      ],
      "metadata": {
        "id": "x7SebtV2lpHQ"
      }
    },
    {
      "cell_type": "markdown",
      "source": [
        "##  2.  Zero2Hero   primera parte\n",
        "Se han lanzado los primeros fascículos coleccionables llamados \"from Zero to Hero\" que muy detalladamente, paso a paso enseñan todo lo necesario de R para entender los scripts oficiales de la asignatura.\n",
        "Están en el repositorio oficial de la asignatura, carpeta  **src/zero2hero**"
      ],
      "metadata": {
        "id": "NQcY8u2MDSLT"
      }
    },
    {
      "cell_type": "markdown",
      "source": [
        "\n",
        "\n",
        "---\n",
        "\n"
      ],
      "metadata": {
        "id": "GcO0OSiIEAGy"
      }
    },
    {
      "cell_type": "markdown",
      "source": [
        "## 3.  Grid Search"
      ],
      "metadata": {
        "id": "6MStcyn0EBdT"
      }
    },
    {
      "cell_type": "markdown",
      "source": [
        "Busque en internet el precido significado de los hiperparámetros de la librería **rpart**  que está implementando el algoritmo **CART**  Classification and Regression Trees  propuesto en el año 1984 por Leo Brieman:\n",
        "\n",
        "*   cp\n",
        "*   maxdepth\n",
        "*   minsplit\n",
        "*   minbucket\n",
        "\n",
        "Entienda que valores es razonable tome cada hiperparámetro,  en particular profundice en el hiperparámetro  **cp**  y la posibilidad que tome valores negativos.  Es válido consultar a su amigo de *capacidades especiales*  ChatGPT\n"
      ],
      "metadata": {
        "id": "gM8RKXDgEIY0"
      }
    },
    {
      "cell_type": "markdown",
      "source": [
        "En las siguientes celdas a un notebook incompleto, un esqueleto de codigo brindado a modo de facilitarle la tarea de codeo y permitir que su valiosa cognición se concentre temas conceptuales de Ciencia de Datos\n",
        "\n",
        "Modifiquelo agregando loops para que recorra TODOS los hiperparámetros de rpart  < cp, maxdepth, minsplit, minbucket >, y luego póngalo a correr. Recuerde cambiar por SU semilla\n",
        "Tenga muy presente la granularidad que eligirá para cada hiperparámetro."
      ],
      "metadata": {
        "id": "_k7eT3HIFy9y"
      }
    },
    {
      "cell_type": "markdown",
      "source": [
        "### Seteo del ambiente en Google Colab"
      ],
      "metadata": {
        "id": "kmLygy1TYPfg"
      }
    },
    {
      "cell_type": "markdown",
      "source": [
        "Esta parte se debe correr con el runtime en Python3\n",
        "<br>Ir al menu, Runtime -> Change Runtime Tipe -> Runtime type ->  **Python 3**"
      ],
      "metadata": {
        "id": "OikOm5K2YU3X"
      }
    },
    {
      "cell_type": "markdown",
      "source": [
        "Conectar la virtual machine donde esta corriendo Google Colab con el  Google Drive, para poder tener persistencia de archivos"
      ],
      "metadata": {
        "id": "4fmV5LyZdFyI"
      }
    },
    {
      "cell_type": "code",
      "source": [
        "# primero establecer el Runtime de Python 3\n",
        "from google.colab import drive\n",
        "drive.mount('/content/.drive')"
      ],
      "metadata": {
        "id": "ilEZ-bE2VybW",
        "outputId": "ab1fe234-85dc-4f22-fad4-7fcd5ec8d819",
        "colab": {
          "base_uri": "https://localhost:8080/"
        }
      },
      "execution_count": 1,
      "outputs": [
        {
          "output_type": "stream",
          "name": "stdout",
          "text": [
            "Mounted at /content/.drive\n"
          ]
        }
      ]
    },
    {
      "cell_type": "markdown",
      "source": [
        "Para correr la siguiente celda es fundamental en Arranque en Frio haber copiado el archivo kaggle.json al Google Drive, en la carpeta indicada en el instructivo\n",
        "\n",
        "<br>los siguientes comando estan en shell script de Linux\n",
        "*   Crear las carpetas en el Google Drive\n",
        "*   \"instalar\" el archivo kaggle.json desde el Google Drive a la virtual machine para que pueda ser utilizado por la libreria  kaggle de Python\n",
        "*   Bajar el  **dataset_pequeno**  al  Google Drive  y tambien al disco local de la virtual machine que esta corriendo Google Colab\n",
        "\n"
      ],
      "metadata": {
        "id": "ilaKtqWldeWg"
      }
    },
    {
      "cell_type": "code",
      "source": [
        "%%shell\n",
        "\n",
        "mkdir -p \"/content/.drive/My Drive/labo1\"\n",
        "mkdir -p \"/content/buckets\"\n",
        "ln -s \"/content/.drive/My Drive/labo1\" /content/buckets/b1\n",
        "\n",
        "mkdir -p ~/.kaggle\n",
        "cp /content/buckets/b1/kaggle/kaggle.json  ~/.kaggle\n",
        "chmod 600 ~/.kaggle/kaggle.json\n",
        "\n",
        "\n",
        "mkdir -p /content/buckets/b1/exp\n",
        "mkdir -p /content/buckets/b1/datasets\n",
        "mkdir -p /content/datasets\n",
        "\n",
        "\n",
        "\n",
        "archivo_origen=\"https://storage.googleapis.com/open-courses/austral2025-af91/dataset_pequeno.csv\"\n",
        "archivo_destino=\"/content/datasets/dataset_pequeno.csv\"\n",
        "archivo_destino_bucket=\"/content/buckets/b1/datasets/dataset_pequeno.csv\"\n",
        "\n",
        "if ! test -f $archivo_destino_bucket; then\n",
        "  wget  $archivo_origen  -O $archivo_destino_bucket\n",
        "fi\n",
        "\n",
        "\n",
        "if ! test -f $archivo_destino; then\n",
        "  cp  $archivo_destino_bucket  $archivo_destino\n",
        "fi\n",
        "\n"
      ],
      "metadata": {
        "id": "W8dQFI5QYCFa",
        "outputId": "5c5adcce-60d1-431c-f343-9b1c94c1e6b8",
        "colab": {
          "base_uri": "https://localhost:8080/"
        }
      },
      "execution_count": 2,
      "outputs": [
        {
          "output_type": "execute_result",
          "data": {
            "text/plain": []
          },
          "metadata": {},
          "execution_count": 2
        }
      ]
    },
    {
      "cell_type": "markdown",
      "source": [
        "limpio el ambiente de R"
      ],
      "metadata": {
        "id": "SE94XRhWsxkX"
      }
    },
    {
      "cell_type": "code",
      "source": [
        "# limpio la memoria\n",
        "rm(list=ls(all.names=TRUE)) # remove all objects\n",
        "gc(full=TRUE, verbose=FALSE) # garbage collection"
      ],
      "metadata": {
        "id": "oZG_4br6szlT",
        "outputId": "b9e2cfc9-9d11-4131-a831-cf53cb8bc63c",
        "colab": {
          "base_uri": "https://localhost:8080/",
          "height": 129
        }
      },
      "execution_count": 51,
      "outputs": [
        {
          "output_type": "display_data",
          "data": {
            "text/html": [
              "<table class=\"dataframe\">\n",
              "<caption>A matrix: 2 × 6 of type dbl</caption>\n",
              "<thead>\n",
              "\t<tr><th></th><th scope=col>used</th><th scope=col>(Mb)</th><th scope=col>gc trigger</th><th scope=col>(Mb)</th><th scope=col>max used</th><th scope=col>(Mb)</th></tr>\n",
              "</thead>\n",
              "<tbody>\n",
              "\t<tr><th scope=row>Ncells</th><td> 830907</td><td>44.4</td><td> 1454474</td><td> 77.7</td><td> 1454474</td><td> 77.7</td></tr>\n",
              "\t<tr><th scope=row>Vcells</th><td>1571304</td><td>12.0</td><td>80706268</td><td>615.8</td><td>83900886</td><td>640.2</td></tr>\n",
              "</tbody>\n",
              "</table>\n"
            ],
            "text/markdown": "\nA matrix: 2 × 6 of type dbl\n\n| <!--/--> | used | (Mb) | gc trigger | (Mb) | max used | (Mb) |\n|---|---|---|---|---|---|---|\n| Ncells |  830907 | 44.4 |  1454474 |  77.7 |  1454474 |  77.7 |\n| Vcells | 1571304 | 12.0 | 80706268 | 615.8 | 83900886 | 640.2 |\n\n",
            "text/latex": "A matrix: 2 × 6 of type dbl\n\\begin{tabular}{r|llllll}\n  & used & (Mb) & gc trigger & (Mb) & max used & (Mb)\\\\\n\\hline\n\tNcells &  830907 & 44.4 &  1454474 &  77.7 &  1454474 &  77.7\\\\\n\tVcells & 1571304 & 12.0 & 80706268 & 615.8 & 83900886 & 640.2\\\\\n\\end{tabular}\n",
            "text/plain": [
              "       used    (Mb) gc trigger (Mb)  max used (Mb) \n",
              "Ncells  830907 44.4  1454474    77.7  1454474  77.7\n",
              "Vcells 1571304 12.0 80706268   615.8 83900886 640.2"
            ]
          },
          "metadata": {}
        }
      ]
    },
    {
      "cell_type": "code",
      "source": [
        "# cargo las librerias que necesito\n",
        "require(\"data.table\")\n",
        "require(\"rpart\")\n",
        "require(\"parallel\")\n",
        "if (!require(\"primes\")) install.packages(\"primes\")\n",
        "require(\"primes\")"
      ],
      "metadata": {
        "id": "JO-12d7YHkWy"
      },
      "execution_count": 52,
      "outputs": []
    },
    {
      "cell_type": "markdown",
      "source": [
        "Aqui debe poner SU semiila primigenia"
      ],
      "metadata": {
        "id": "0MclPEJ6Q8Bp"
      }
    },
    {
      "cell_type": "code",
      "source": [
        "PARAM <- list()\n",
        "# reemplazar por su primer semilla\n",
        "PARAM$semilla_primigenia <- 765179\n",
        "PARAM$qsemillas <- 5\n",
        "\n",
        "PARAM$training_pct <- 70L  # entre  1L y 99L\n",
        "\n",
        "# elegir SU dataset comentando/ descomentando\n",
        "PARAM$dataset_nom <- \"~/datasets/dataset_pequeno.csv\""
      ],
      "metadata": {
        "id": "Vt5fC6bWHu5r"
      },
      "execution_count": 53,
      "outputs": []
    },
    {
      "cell_type": "code",
      "source": [
        "# particionar agrega una columna llamada fold a un dataset\n",
        "#  que consiste en una particion estratificada segun agrupa\n",
        "# particionar( data=dataset, division=c(70,30), agrupa=clase_ternaria, seed=semilla)\n",
        "#   crea una particion 70, 30\n",
        "\n",
        "particionar <- function(data, division, agrupa = \"\", campo = \"fold\", start = 1, seed = NA) {\n",
        "  if (!is.na(seed)) set.seed(seed)\n",
        "\n",
        "  bloque <- unlist(mapply(function(x, y) {\n",
        "    rep(y, x)\n",
        "  }, division, seq(from = start, length.out = length(division))))\n",
        "\n",
        "  data[, (campo) := sample(rep(bloque, ceiling(.N / length(bloque))))[1:.N],\n",
        "    by = agrupa\n",
        "  ]\n",
        "}\n"
      ],
      "metadata": {
        "id": "Z1dchsrWH4MD"
      },
      "execution_count": 54,
      "outputs": []
    },
    {
      "cell_type": "code",
      "source": [
        "ArbolEstimarGanancia <- function(semilla, training_pct, param_basicos) {\n",
        "  # particiono estratificadamente el dataset\n",
        "  particionar(dataset,\n",
        "    division = c(training_pct, 100L -training_pct),\n",
        "    agrupa = \"clase_ternaria\",\n",
        "    seed = semilla # aqui se usa SU semilla\n",
        "  )\n",
        "\n",
        "  # genero el modelo\n",
        "  # predecir clase_ternaria a partir del resto\n",
        "  modelo <- rpart(\"clase_ternaria ~ .\",\n",
        "    data = dataset[fold == 1], # fold==1  es training,  el 70% de los datos\n",
        "    xval = 0,\n",
        "    control = param_basicos\n",
        "  ) # aqui van los parametros del arbol\n",
        "\n",
        "  # aplico el modelo a los datos de testing\n",
        "  prediccion <- predict(modelo, # el modelo que genere recien\n",
        "    dataset[fold == 2], # fold==2  es testing, el 30% de los datos\n",
        "    type = \"prob\"\n",
        "  ) # type= \"prob\"  es que devuelva la probabilidad\n",
        "\n",
        "  # prediccion es una matriz con TRES columnas,\n",
        "  #  llamadas \"BAJA+1\", \"BAJA+2\"  y \"CONTINUA\"\n",
        "  # cada columna es el vector de probabilidades\n",
        "\n",
        "\n",
        "  # calculo la ganancia en testing  qu es fold==2\n",
        "  ganancia_test <- dataset[\n",
        "    fold == 2,\n",
        "    sum(ifelse(prediccion[, \"BAJA+2\"] > 0.025,\n",
        "      ifelse(clase_ternaria == \"BAJA+2\", 117000, -3000),\n",
        "      0\n",
        "    ))\n",
        "  ]\n",
        "\n",
        "  # escalo la ganancia como si fuera todo el dataset\n",
        "  ganancia_test_normalizada <- ganancia_test / (( 100 - PARAM$training_pct ) / 100 )\n",
        "\n",
        "  return(\n",
        "    c( list(\"semilla\" = semilla),\n",
        "      param_basicos,\n",
        "      list( \"ganancia_test\" = ganancia_test_normalizada )\n",
        "     )\n",
        "  )\n",
        "}\n"
      ],
      "metadata": {
        "id": "xsHwS1CzIA70"
      },
      "execution_count": 55,
      "outputs": []
    },
    {
      "cell_type": "code",
      "source": [
        "ArbolesMontecarlo <- function(semillas, param_basicos) {\n",
        "\n",
        "  # la funcion mcmapply  llama a la funcion ArbolEstimarGanancia\n",
        "  #  tantas veces como valores tenga el vector  PARAM$semillas\n",
        "  salida <- mcmapply(ArbolEstimarGanancia,\n",
        "    semillas, # paso el vector de semillas\n",
        "    MoreArgs = list(PARAM$training_pct, param_basicos), # aqui paso el segundo parametro\n",
        "    SIMPLIFY = FALSE,\n",
        "    mc.cores = detectCores()\n",
        "  )\n",
        "\n",
        "  return(salida)\n",
        "}\n"
      ],
      "metadata": {
        "id": "BvBVOuhqIEjD"
      },
      "execution_count": 32,
      "outputs": []
    },
    {
      "cell_type": "code",
      "source": [
        "# carpeta de trabajo\n",
        "# por fabor cambiar numero de experimento si se cambia el loop principal\n",
        "setwd(\"/content/buckets/b1/exp\")\n",
        "experimento <- \"HT2900\"\n",
        "dir.create(experimento, showWarnings=FALSE)\n",
        "setwd( paste0(\"/content/buckets/b1/exp/\", experimento ))"
      ],
      "metadata": {
        "id": "L-DOGHOjIG7G"
      },
      "execution_count": 33,
      "outputs": []
    },
    {
      "cell_type": "code",
      "source": [
        "# lectura del dataset\n",
        "dataset <- fread(\"/content/datasets/dataset_pequeno.csv\")\n",
        "\n",
        "# trabajo solo con los datos con clase, es decir 202107\n",
        "dataset <- dataset[clase_ternaria != \"\"]"
      ],
      "metadata": {
        "id": "NM-mrLWcIPo6"
      },
      "execution_count": 34,
      "outputs": []
    },
    {
      "cell_type": "code",
      "source": [
        "\n",
        "# genero numeros primos\n",
        "primos <- generate_primes(min = 100000, max = 1000000)\n",
        "set.seed(PARAM$semilla_primigenia) # inicializo\n",
        "# me quedo con PARAM$qsemillas   semillas\n",
        "PARAM$semillas <- sample(primos, PARAM$qsemillas )\n"
      ],
      "metadata": {
        "id": "tSlY0EcgIWdi"
      },
      "execution_count": 50,
      "outputs": []
    },
    {
      "cell_type": "code",
      "source": [
        "# genero la data.table donde van los resultados detallados del Grid Search\n",
        "# un registro para cada combinacion de < semilla, parametros >\n",
        "\n",
        "if(file.exists(\"gridsearch_detalle.txt\")){\n",
        "  tb_grid_search_detalle <- fread(\"gridsearch_detalle.txt\")\n",
        "}else{\n",
        "  tb_grid_search_detalle <- data.table(\n",
        "    semilla = integer(),\n",
        "    cp = numeric(),\n",
        "    maxdepth = integer(),\n",
        "   minsplit = integer(),\n",
        "    minbucket = integer(),\n",
        "    ganancia_test = numeric()\n",
        "  )\n",
        "}\n",
        "\n",
        "nrow( tb_grid_search_detalle )"
      ],
      "metadata": {
        "id": "xxCAwIKyIaTl",
        "outputId": "6b4f922f-aeef-4b18-803f-4c463ca4fbdc",
        "colab": {
          "base_uri": "https://localhost:8080/",
          "height": 34
        }
      },
      "execution_count": 49,
      "outputs": [
        {
          "output_type": "display_data",
          "data": {
            "text/html": [
              "60"
            ],
            "text/markdown": "60",
            "text/latex": "60",
            "text/plain": [
              "[1] 60"
            ]
          },
          "metadata": {}
        }
      ]
    },
    {
      "cell_type": "markdown",
      "source": [
        "Esta es la parte del código que usted debe expandir a TODOS los hiperparámetros de rpart,\n",
        "<br>ya que actualmente apenas recorre  maxdepth y  minsplit  dejando fijos  cp=-0.5  y minbucket=5"
      ],
      "metadata": {
        "id": "eAuGBNL8IkOD"
      }
    },
    {
      "cell_type": "code",
      "source": [
        "\n",
        "# itero por los loops anidados para cada hiperparametro\n",
        "iter <- 0\n",
        "\n",
        "for (vmax_depth in c(4, 6, 8, 10, 12, 14)) {\n",
        "  for (vmin_split in c(1000, 800, 600, 400, 200, 100, 50, 20, 10)) {\n",
        "    # notar como se agrega\n",
        "\n",
        "    iter <- iter + 1\n",
        "    cat( iter, \" \" )\n",
        "    flush.console()\n",
        "    if( iter*PARAM$qsemillas < nrow(tb_grid_search_detalle)+1 ) next\n",
        "\n",
        "    # vminsplit  minima cantidad de registros en un nodo para hacer el split\n",
        "    param_basicos <- list(\n",
        "      \"cp\" = -0.5, # complejidad minima\n",
        "      \"maxdepth\" = vmax_depth, # profundidad máxima del arbol\n",
        "      \"minsplit\" = vmin_split, # tamaño minimo de nodo para hacer split\n",
        "      \"minbucket\" = 5 # minima cantidad de registros en una hoja\n",
        "    )\n",
        "\n",
        "    # Un solo llamado, con la semilla 17\n",
        "    ganancias <- ArbolesMontecarlo(PARAM$semillas, param_basicos)\n",
        "\n",
        "    # agrego a la tabla\n",
        "    tb_grid_search_detalle <- rbindlist(\n",
        "      list( tb_grid_search_detalle,\n",
        "            rbindlist(ganancias) )\n",
        "    )\n",
        "\n",
        "  }\n",
        "\n",
        "  # grabo cada vez TODA la tabla en el loop mas externo\n",
        "  fwrite( tb_grid_search_detalle,\n",
        "          file = \"gridsearch_detalle.txt\",\n",
        "          sep = \"\\t\" )\n",
        "}\n"
      ],
      "metadata": {
        "id": "ipLHm3STIfmb",
        "outputId": "fdb995a2-9517-4176-c3b1-2d2279d79538",
        "colab": {
          "base_uri": "https://localhost:8080/"
        }
      },
      "execution_count": 23,
      "outputs": [
        {
          "output_type": "stream",
          "name": "stdout",
          "text": [
            "1  2  3  4  5  6  7  8  9  10  11  12  13  14  15  16  17  18  19  20  21  22  23  24  25  26  27  28  29  30  31  32  33  34  35  36  37  38  39  40  41  42  43  44  45  46  47  48  49  50  51  52  53  54  "
          ]
        }
      ]
    },
    {
      "cell_type": "code",
      "source": [
        "# itero por los loops anidados para cada hiperparametro (rango nuevo)\n",
        "iter <- 0\n",
        "\n",
        "cp_set        <- c(-0.5)                  # fijo según tus mejores\n",
        "maxdepth_set  <- c(9, 10, 11)                # zona pico (podés ampliar a 9:12 si querés)\n",
        "minsplit_set  <- seq(650, 900, by = 25)   # incluye 700, 750, 875, etc.\n",
        "minbucket_set <- 35:45                    # cubre 20..45 (incluye 34..44)\n",
        "\n",
        "for (vmax_depth in maxdepth_set) {\n",
        "  for (vmin_split in minsplit_set) {\n",
        "    for (vmin_bucket in minbucket_set) {\n",
        "      for (vcp in cp_set) {\n",
        "\n",
        "        iter <- iter + 1\n",
        "        cat(iter, \" \")\n",
        "        flush.console()\n",
        "        if (iter * PARAM$qsemillas < nrow(tb_grid_search_detalle) + 1) next\n",
        "\n",
        "        # parámetros del árbol\n",
        "        param_basicos <- list(\n",
        "          \"cp\"        = vcp,          # -0.5\n",
        "          \"maxdepth\"  = vmax_depth,   # 10 o 11\n",
        "          \"minsplit\"  = vmin_split,   # 650..900 (paso 25)\n",
        "          \"minbucket\" = vmin_bucket   # 20..45\n",
        "        )\n",
        "\n",
        "        # Montecarlo sobre el set de semillas definido en PARAM$semillas\n",
        "        ganancias <- ArbolesMontecarlo(PARAM$semillas, param_basicos)\n",
        "\n",
        "        # agrego a la tabla\n",
        "        tb_grid_search_detalle <- rbindlist(\n",
        "          list(tb_grid_search_detalle, rbindlist(ganancias)),\n",
        "          use.names = TRUE, fill = TRUE\n",
        "        )\n",
        "      }\n",
        "    }\n",
        "  }\n",
        "\n",
        "  # grabo cada vez TODA la tabla en el loop más externo (por maxdepth)\n",
        "  fwrite(tb_grid_search_detalle,\n",
        "         file = \"gridsearch_detalle.txt\",\n",
        "         sep = \"\\t\")\n",
        "}"
      ],
      "metadata": {
        "id": "TiNwJEjzEfBX",
        "outputId": "60204053-37b1-424a-d7ae-4da474951ff4",
        "colab": {
          "base_uri": "https://localhost:8080/"
        }
      },
      "execution_count": 37,
      "outputs": [
        {
          "output_type": "stream",
          "name": "stdout",
          "text": [
            "1  2  3  4  5  6  7  "
          ]
        }
      ]
    },
    {
      "cell_type": "code",
      "source": [
        "library(httr)\n",
        "\n",
        "# choose any topic name (use something unique)\n",
        "topic <- \"mark_labo2025\"\n",
        "\n",
        "# message to send\n",
        "msg <- \"✅ Grid Search finished successfully!\"\n",
        "\n",
        "httr::POST(\n",
        "  url = paste0(\"https://ntfy.sh/\", topic),\n",
        "  body = msg,\n",
        "  encode = \"raw\"\n",
        ")"
      ],
      "metadata": {
        "id": "za4kOLXTI5OK",
        "outputId": "713c8025-213a-4bac-cda8-c7121b5db3ae",
        "colab": {
          "base_uri": "https://localhost:8080/",
          "height": 127
        }
      },
      "execution_count": 39,
      "outputs": [
        {
          "output_type": "display_data",
          "data": {
            "text/plain": [
              "Response [https://ntfy.sh/mark_labo2025]\n",
              "  Date: 2025-10-10 18:26\n",
              "  Status: 200\n",
              "  Content-Type: application/json\n",
              "  Size: 154 B\n",
              "{\"id\":\"QEk5F0TSbc8f\",\"time\":1760120784,\"expires\":1760163984,\"event\":\"message\"..."
            ]
          },
          "metadata": {}
        }
      ]
    },
    {
      "cell_type": "code",
      "source": [
        "fwrite( tb_grid_search_detalle,\n",
        "   file = \"gridsearch_detalle.txt\",\n",
        "   sep = \"\\t\"\n",
        ")"
      ],
      "metadata": {
        "id": "WZaSqYBxiDFu"
      },
      "execution_count": 38,
      "outputs": []
    },
    {
      "cell_type": "code",
      "source": [
        "# cantidad de registros de la tabla\n",
        "nrow(tb_grid_search_detalle)"
      ],
      "metadata": {
        "id": "STp0duM-RYVJ",
        "outputId": "8614e1fa-326b-4855-8252-cd1d46c8d775",
        "colab": {
          "base_uri": "https://localhost:8080/",
          "height": 34
        }
      },
      "execution_count": 40,
      "outputs": [
        {
          "output_type": "display_data",
          "data": {
            "text/html": [
              "60"
            ],
            "text/markdown": "60",
            "text/latex": "60",
            "text/plain": [
              "[1] 60"
            ]
          },
          "metadata": {}
        }
      ]
    },
    {
      "cell_type": "code",
      "source": [
        "# muestro la tabla\n",
        "tb_grid_search_detalle"
      ],
      "metadata": {
        "id": "k7fhk_H0iNez",
        "outputId": "0dadf839-aa95-45e4-aa59-ce56af7f61d5",
        "colab": {
          "base_uri": "https://localhost:8080/",
          "height": 1000
        }
      },
      "execution_count": 41,
      "outputs": [
        {
          "output_type": "display_data",
          "data": {
            "text/html": [
              "<table class=\"dataframe\">\n",
              "<caption>A data.table: 60 × 6</caption>\n",
              "<thead>\n",
              "\t<tr><th scope=col>semilla</th><th scope=col>cp</th><th scope=col>maxdepth</th><th scope=col>minsplit</th><th scope=col>minbucket</th><th scope=col>ganancia_test</th></tr>\n",
              "\t<tr><th scope=col>&lt;int&gt;</th><th scope=col>&lt;dbl&gt;</th><th scope=col>&lt;dbl&gt;</th><th scope=col>&lt;dbl&gt;</th><th scope=col>&lt;int&gt;</th><th scope=col>&lt;dbl&gt;</th></tr>\n",
              "</thead>\n",
              "<tbody>\n",
              "\t<tr><td>439891</td><td>-0.5</td><td>9</td><td>650</td><td>20</td><td>46720000</td></tr>\n",
              "\t<tr><td>644123</td><td>-0.5</td><td>9</td><td>650</td><td>20</td><td>49140000</td></tr>\n",
              "\t<tr><td>213149</td><td>-0.5</td><td>9</td><td>650</td><td>20</td><td>43450000</td></tr>\n",
              "\t<tr><td>366193</td><td>-0.5</td><td>9</td><td>650</td><td>20</td><td>48860000</td></tr>\n",
              "\t<tr><td>303731</td><td>-0.5</td><td>9</td><td>650</td><td>20</td><td>48520000</td></tr>\n",
              "\t<tr><td>648133</td><td>-0.5</td><td>9</td><td>650</td><td>20</td><td>50620000</td></tr>\n",
              "\t<tr><td>580763</td><td>-0.5</td><td>9</td><td>650</td><td>20</td><td>47140000</td></tr>\n",
              "\t<tr><td>640259</td><td>-0.5</td><td>9</td><td>650</td><td>20</td><td>49400000</td></tr>\n",
              "\t<tr><td>502451</td><td>-0.5</td><td>9</td><td>650</td><td>20</td><td>45420000</td></tr>\n",
              "\t<tr><td>841333</td><td>-0.5</td><td>9</td><td>650</td><td>20</td><td>32610000</td></tr>\n",
              "\t<tr><td>439891</td><td>-0.5</td><td>9</td><td>650</td><td>21</td><td>46520000</td></tr>\n",
              "\t<tr><td>644123</td><td>-0.5</td><td>9</td><td>650</td><td>21</td><td>46870000</td></tr>\n",
              "\t<tr><td>213149</td><td>-0.5</td><td>9</td><td>650</td><td>21</td><td>42140000</td></tr>\n",
              "\t<tr><td>366193</td><td>-0.5</td><td>9</td><td>650</td><td>21</td><td>52840000</td></tr>\n",
              "\t<tr><td>303731</td><td>-0.5</td><td>9</td><td>650</td><td>21</td><td>46970000</td></tr>\n",
              "\t<tr><td>648133</td><td>-0.5</td><td>9</td><td>650</td><td>21</td><td>50620000</td></tr>\n",
              "\t<tr><td>580763</td><td>-0.5</td><td>9</td><td>650</td><td>21</td><td>47190000</td></tr>\n",
              "\t<tr><td>640259</td><td>-0.5</td><td>9</td><td>650</td><td>21</td><td>50010000</td></tr>\n",
              "\t<tr><td>502451</td><td>-0.5</td><td>9</td><td>650</td><td>21</td><td>45230000</td></tr>\n",
              "\t<tr><td>841333</td><td>-0.5</td><td>9</td><td>650</td><td>21</td><td>32460000</td></tr>\n",
              "\t<tr><td>439891</td><td>-0.5</td><td>9</td><td>650</td><td>22</td><td>46770000</td></tr>\n",
              "\t<tr><td>644123</td><td>-0.5</td><td>9</td><td>650</td><td>22</td><td>46590000</td></tr>\n",
              "\t<tr><td>213149</td><td>-0.5</td><td>9</td><td>650</td><td>22</td><td>42460000</td></tr>\n",
              "\t<tr><td>366193</td><td>-0.5</td><td>9</td><td>650</td><td>22</td><td>52590000</td></tr>\n",
              "\t<tr><td>303731</td><td>-0.5</td><td>9</td><td>650</td><td>22</td><td>49730000</td></tr>\n",
              "\t<tr><td>648133</td><td>-0.5</td><td>9</td><td>650</td><td>22</td><td>50530000</td></tr>\n",
              "\t<tr><td>580763</td><td>-0.5</td><td>9</td><td>650</td><td>22</td><td>46120000</td></tr>\n",
              "\t<tr><td>640259</td><td>-0.5</td><td>9</td><td>650</td><td>22</td><td>50000000</td></tr>\n",
              "\t<tr><td>502451</td><td>-0.5</td><td>9</td><td>650</td><td>22</td><td>45080000</td></tr>\n",
              "\t<tr><td>841333</td><td>-0.5</td><td>9</td><td>650</td><td>22</td><td>31060000</td></tr>\n",
              "\t<tr><td>439891</td><td>-0.5</td><td>9</td><td>650</td><td>23</td><td>44600000</td></tr>\n",
              "\t<tr><td>644123</td><td>-0.5</td><td>9</td><td>650</td><td>23</td><td>49650000</td></tr>\n",
              "\t<tr><td>213149</td><td>-0.5</td><td>9</td><td>650</td><td>23</td><td>41800000</td></tr>\n",
              "\t<tr><td>366193</td><td>-0.5</td><td>9</td><td>650</td><td>23</td><td>52260000</td></tr>\n",
              "\t<tr><td>303731</td><td>-0.5</td><td>9</td><td>650</td><td>23</td><td>49860000</td></tr>\n",
              "\t<tr><td>648133</td><td>-0.5</td><td>9</td><td>650</td><td>23</td><td>50490000</td></tr>\n",
              "\t<tr><td>580763</td><td>-0.5</td><td>9</td><td>650</td><td>23</td><td>46740000</td></tr>\n",
              "\t<tr><td>640259</td><td>-0.5</td><td>9</td><td>650</td><td>23</td><td>49980000</td></tr>\n",
              "\t<tr><td>502451</td><td>-0.5</td><td>9</td><td>650</td><td>23</td><td>44900000</td></tr>\n",
              "\t<tr><td>841333</td><td>-0.5</td><td>9</td><td>650</td><td>23</td><td>31380000</td></tr>\n",
              "\t<tr><td>439891</td><td>-0.5</td><td>9</td><td>650</td><td>24</td><td>44620000</td></tr>\n",
              "\t<tr><td>644123</td><td>-0.5</td><td>9</td><td>650</td><td>24</td><td>49740000</td></tr>\n",
              "\t<tr><td>213149</td><td>-0.5</td><td>9</td><td>650</td><td>24</td><td>42870000</td></tr>\n",
              "\t<tr><td>366193</td><td>-0.5</td><td>9</td><td>650</td><td>24</td><td>52260000</td></tr>\n",
              "\t<tr><td>303731</td><td>-0.5</td><td>9</td><td>650</td><td>24</td><td>50210000</td></tr>\n",
              "\t<tr><td>648133</td><td>-0.5</td><td>9</td><td>650</td><td>24</td><td>49930000</td></tr>\n",
              "\t<tr><td>580763</td><td>-0.5</td><td>9</td><td>650</td><td>24</td><td>47000000</td></tr>\n",
              "\t<tr><td>640259</td><td>-0.5</td><td>9</td><td>650</td><td>24</td><td>48180000</td></tr>\n",
              "\t<tr><td>502451</td><td>-0.5</td><td>9</td><td>650</td><td>24</td><td>44880000</td></tr>\n",
              "\t<tr><td>841333</td><td>-0.5</td><td>9</td><td>650</td><td>24</td><td>31390000</td></tr>\n",
              "\t<tr><td>439891</td><td>-0.5</td><td>9</td><td>650</td><td>25</td><td>44630000</td></tr>\n",
              "\t<tr><td>644123</td><td>-0.5</td><td>9</td><td>650</td><td>25</td><td>49810000</td></tr>\n",
              "\t<tr><td>213149</td><td>-0.5</td><td>9</td><td>650</td><td>25</td><td>42920000</td></tr>\n",
              "\t<tr><td>366193</td><td>-0.5</td><td>9</td><td>650</td><td>25</td><td>52450000</td></tr>\n",
              "\t<tr><td>303731</td><td>-0.5</td><td>9</td><td>650</td><td>25</td><td>50030000</td></tr>\n",
              "\t<tr><td>648133</td><td>-0.5</td><td>9</td><td>650</td><td>25</td><td>49930000</td></tr>\n",
              "\t<tr><td>580763</td><td>-0.5</td><td>9</td><td>650</td><td>25</td><td>46840000</td></tr>\n",
              "\t<tr><td>640259</td><td>-0.5</td><td>9</td><td>650</td><td>25</td><td>48130000</td></tr>\n",
              "\t<tr><td>502451</td><td>-0.5</td><td>9</td><td>650</td><td>25</td><td>43490000</td></tr>\n",
              "\t<tr><td>841333</td><td>-0.5</td><td>9</td><td>650</td><td>25</td><td>31370000</td></tr>\n",
              "</tbody>\n",
              "</table>\n"
            ],
            "text/markdown": "\nA data.table: 60 × 6\n\n| semilla &lt;int&gt; | cp &lt;dbl&gt; | maxdepth &lt;dbl&gt; | minsplit &lt;dbl&gt; | minbucket &lt;int&gt; | ganancia_test &lt;dbl&gt; |\n|---|---|---|---|---|---|\n| 439891 | -0.5 | 9 | 650 | 20 | 46720000 |\n| 644123 | -0.5 | 9 | 650 | 20 | 49140000 |\n| 213149 | -0.5 | 9 | 650 | 20 | 43450000 |\n| 366193 | -0.5 | 9 | 650 | 20 | 48860000 |\n| 303731 | -0.5 | 9 | 650 | 20 | 48520000 |\n| 648133 | -0.5 | 9 | 650 | 20 | 50620000 |\n| 580763 | -0.5 | 9 | 650 | 20 | 47140000 |\n| 640259 | -0.5 | 9 | 650 | 20 | 49400000 |\n| 502451 | -0.5 | 9 | 650 | 20 | 45420000 |\n| 841333 | -0.5 | 9 | 650 | 20 | 32610000 |\n| 439891 | -0.5 | 9 | 650 | 21 | 46520000 |\n| 644123 | -0.5 | 9 | 650 | 21 | 46870000 |\n| 213149 | -0.5 | 9 | 650 | 21 | 42140000 |\n| 366193 | -0.5 | 9 | 650 | 21 | 52840000 |\n| 303731 | -0.5 | 9 | 650 | 21 | 46970000 |\n| 648133 | -0.5 | 9 | 650 | 21 | 50620000 |\n| 580763 | -0.5 | 9 | 650 | 21 | 47190000 |\n| 640259 | -0.5 | 9 | 650 | 21 | 50010000 |\n| 502451 | -0.5 | 9 | 650 | 21 | 45230000 |\n| 841333 | -0.5 | 9 | 650 | 21 | 32460000 |\n| 439891 | -0.5 | 9 | 650 | 22 | 46770000 |\n| 644123 | -0.5 | 9 | 650 | 22 | 46590000 |\n| 213149 | -0.5 | 9 | 650 | 22 | 42460000 |\n| 366193 | -0.5 | 9 | 650 | 22 | 52590000 |\n| 303731 | -0.5 | 9 | 650 | 22 | 49730000 |\n| 648133 | -0.5 | 9 | 650 | 22 | 50530000 |\n| 580763 | -0.5 | 9 | 650 | 22 | 46120000 |\n| 640259 | -0.5 | 9 | 650 | 22 | 50000000 |\n| 502451 | -0.5 | 9 | 650 | 22 | 45080000 |\n| 841333 | -0.5 | 9 | 650 | 22 | 31060000 |\n| 439891 | -0.5 | 9 | 650 | 23 | 44600000 |\n| 644123 | -0.5 | 9 | 650 | 23 | 49650000 |\n| 213149 | -0.5 | 9 | 650 | 23 | 41800000 |\n| 366193 | -0.5 | 9 | 650 | 23 | 52260000 |\n| 303731 | -0.5 | 9 | 650 | 23 | 49860000 |\n| 648133 | -0.5 | 9 | 650 | 23 | 50490000 |\n| 580763 | -0.5 | 9 | 650 | 23 | 46740000 |\n| 640259 | -0.5 | 9 | 650 | 23 | 49980000 |\n| 502451 | -0.5 | 9 | 650 | 23 | 44900000 |\n| 841333 | -0.5 | 9 | 650 | 23 | 31380000 |\n| 439891 | -0.5 | 9 | 650 | 24 | 44620000 |\n| 644123 | -0.5 | 9 | 650 | 24 | 49740000 |\n| 213149 | -0.5 | 9 | 650 | 24 | 42870000 |\n| 366193 | -0.5 | 9 | 650 | 24 | 52260000 |\n| 303731 | -0.5 | 9 | 650 | 24 | 50210000 |\n| 648133 | -0.5 | 9 | 650 | 24 | 49930000 |\n| 580763 | -0.5 | 9 | 650 | 24 | 47000000 |\n| 640259 | -0.5 | 9 | 650 | 24 | 48180000 |\n| 502451 | -0.5 | 9 | 650 | 24 | 44880000 |\n| 841333 | -0.5 | 9 | 650 | 24 | 31390000 |\n| 439891 | -0.5 | 9 | 650 | 25 | 44630000 |\n| 644123 | -0.5 | 9 | 650 | 25 | 49810000 |\n| 213149 | -0.5 | 9 | 650 | 25 | 42920000 |\n| 366193 | -0.5 | 9 | 650 | 25 | 52450000 |\n| 303731 | -0.5 | 9 | 650 | 25 | 50030000 |\n| 648133 | -0.5 | 9 | 650 | 25 | 49930000 |\n| 580763 | -0.5 | 9 | 650 | 25 | 46840000 |\n| 640259 | -0.5 | 9 | 650 | 25 | 48130000 |\n| 502451 | -0.5 | 9 | 650 | 25 | 43490000 |\n| 841333 | -0.5 | 9 | 650 | 25 | 31370000 |\n\n",
            "text/latex": "A data.table: 60 × 6\n\\begin{tabular}{llllll}\n semilla & cp & maxdepth & minsplit & minbucket & ganancia\\_test\\\\\n <int> & <dbl> & <dbl> & <dbl> & <int> & <dbl>\\\\\n\\hline\n\t 439891 & -0.5 & 9 & 650 & 20 & 46720000\\\\\n\t 644123 & -0.5 & 9 & 650 & 20 & 49140000\\\\\n\t 213149 & -0.5 & 9 & 650 & 20 & 43450000\\\\\n\t 366193 & -0.5 & 9 & 650 & 20 & 48860000\\\\\n\t 303731 & -0.5 & 9 & 650 & 20 & 48520000\\\\\n\t 648133 & -0.5 & 9 & 650 & 20 & 50620000\\\\\n\t 580763 & -0.5 & 9 & 650 & 20 & 47140000\\\\\n\t 640259 & -0.5 & 9 & 650 & 20 & 49400000\\\\\n\t 502451 & -0.5 & 9 & 650 & 20 & 45420000\\\\\n\t 841333 & -0.5 & 9 & 650 & 20 & 32610000\\\\\n\t 439891 & -0.5 & 9 & 650 & 21 & 46520000\\\\\n\t 644123 & -0.5 & 9 & 650 & 21 & 46870000\\\\\n\t 213149 & -0.5 & 9 & 650 & 21 & 42140000\\\\\n\t 366193 & -0.5 & 9 & 650 & 21 & 52840000\\\\\n\t 303731 & -0.5 & 9 & 650 & 21 & 46970000\\\\\n\t 648133 & -0.5 & 9 & 650 & 21 & 50620000\\\\\n\t 580763 & -0.5 & 9 & 650 & 21 & 47190000\\\\\n\t 640259 & -0.5 & 9 & 650 & 21 & 50010000\\\\\n\t 502451 & -0.5 & 9 & 650 & 21 & 45230000\\\\\n\t 841333 & -0.5 & 9 & 650 & 21 & 32460000\\\\\n\t 439891 & -0.5 & 9 & 650 & 22 & 46770000\\\\\n\t 644123 & -0.5 & 9 & 650 & 22 & 46590000\\\\\n\t 213149 & -0.5 & 9 & 650 & 22 & 42460000\\\\\n\t 366193 & -0.5 & 9 & 650 & 22 & 52590000\\\\\n\t 303731 & -0.5 & 9 & 650 & 22 & 49730000\\\\\n\t 648133 & -0.5 & 9 & 650 & 22 & 50530000\\\\\n\t 580763 & -0.5 & 9 & 650 & 22 & 46120000\\\\\n\t 640259 & -0.5 & 9 & 650 & 22 & 50000000\\\\\n\t 502451 & -0.5 & 9 & 650 & 22 & 45080000\\\\\n\t 841333 & -0.5 & 9 & 650 & 22 & 31060000\\\\\n\t 439891 & -0.5 & 9 & 650 & 23 & 44600000\\\\\n\t 644123 & -0.5 & 9 & 650 & 23 & 49650000\\\\\n\t 213149 & -0.5 & 9 & 650 & 23 & 41800000\\\\\n\t 366193 & -0.5 & 9 & 650 & 23 & 52260000\\\\\n\t 303731 & -0.5 & 9 & 650 & 23 & 49860000\\\\\n\t 648133 & -0.5 & 9 & 650 & 23 & 50490000\\\\\n\t 580763 & -0.5 & 9 & 650 & 23 & 46740000\\\\\n\t 640259 & -0.5 & 9 & 650 & 23 & 49980000\\\\\n\t 502451 & -0.5 & 9 & 650 & 23 & 44900000\\\\\n\t 841333 & -0.5 & 9 & 650 & 23 & 31380000\\\\\n\t 439891 & -0.5 & 9 & 650 & 24 & 44620000\\\\\n\t 644123 & -0.5 & 9 & 650 & 24 & 49740000\\\\\n\t 213149 & -0.5 & 9 & 650 & 24 & 42870000\\\\\n\t 366193 & -0.5 & 9 & 650 & 24 & 52260000\\\\\n\t 303731 & -0.5 & 9 & 650 & 24 & 50210000\\\\\n\t 648133 & -0.5 & 9 & 650 & 24 & 49930000\\\\\n\t 580763 & -0.5 & 9 & 650 & 24 & 47000000\\\\\n\t 640259 & -0.5 & 9 & 650 & 24 & 48180000\\\\\n\t 502451 & -0.5 & 9 & 650 & 24 & 44880000\\\\\n\t 841333 & -0.5 & 9 & 650 & 24 & 31390000\\\\\n\t 439891 & -0.5 & 9 & 650 & 25 & 44630000\\\\\n\t 644123 & -0.5 & 9 & 650 & 25 & 49810000\\\\\n\t 213149 & -0.5 & 9 & 650 & 25 & 42920000\\\\\n\t 366193 & -0.5 & 9 & 650 & 25 & 52450000\\\\\n\t 303731 & -0.5 & 9 & 650 & 25 & 50030000\\\\\n\t 648133 & -0.5 & 9 & 650 & 25 & 49930000\\\\\n\t 580763 & -0.5 & 9 & 650 & 25 & 46840000\\\\\n\t 640259 & -0.5 & 9 & 650 & 25 & 48130000\\\\\n\t 502451 & -0.5 & 9 & 650 & 25 & 43490000\\\\\n\t 841333 & -0.5 & 9 & 650 & 25 & 31370000\\\\\n\\end{tabular}\n",
            "text/plain": [
              "   semilla cp   maxdepth minsplit minbucket ganancia_test\n",
              "1  439891  -0.5 9        650      20        46720000     \n",
              "2  644123  -0.5 9        650      20        49140000     \n",
              "3  213149  -0.5 9        650      20        43450000     \n",
              "4  366193  -0.5 9        650      20        48860000     \n",
              "5  303731  -0.5 9        650      20        48520000     \n",
              "6  648133  -0.5 9        650      20        50620000     \n",
              "7  580763  -0.5 9        650      20        47140000     \n",
              "8  640259  -0.5 9        650      20        49400000     \n",
              "9  502451  -0.5 9        650      20        45420000     \n",
              "10 841333  -0.5 9        650      20        32610000     \n",
              "11 439891  -0.5 9        650      21        46520000     \n",
              "12 644123  -0.5 9        650      21        46870000     \n",
              "13 213149  -0.5 9        650      21        42140000     \n",
              "14 366193  -0.5 9        650      21        52840000     \n",
              "15 303731  -0.5 9        650      21        46970000     \n",
              "16 648133  -0.5 9        650      21        50620000     \n",
              "17 580763  -0.5 9        650      21        47190000     \n",
              "18 640259  -0.5 9        650      21        50010000     \n",
              "19 502451  -0.5 9        650      21        45230000     \n",
              "20 841333  -0.5 9        650      21        32460000     \n",
              "21 439891  -0.5 9        650      22        46770000     \n",
              "22 644123  -0.5 9        650      22        46590000     \n",
              "23 213149  -0.5 9        650      22        42460000     \n",
              "24 366193  -0.5 9        650      22        52590000     \n",
              "25 303731  -0.5 9        650      22        49730000     \n",
              "26 648133  -0.5 9        650      22        50530000     \n",
              "27 580763  -0.5 9        650      22        46120000     \n",
              "28 640259  -0.5 9        650      22        50000000     \n",
              "29 502451  -0.5 9        650      22        45080000     \n",
              "30 841333  -0.5 9        650      22        31060000     \n",
              "31 439891  -0.5 9        650      23        44600000     \n",
              "32 644123  -0.5 9        650      23        49650000     \n",
              "33 213149  -0.5 9        650      23        41800000     \n",
              "34 366193  -0.5 9        650      23        52260000     \n",
              "35 303731  -0.5 9        650      23        49860000     \n",
              "36 648133  -0.5 9        650      23        50490000     \n",
              "37 580763  -0.5 9        650      23        46740000     \n",
              "38 640259  -0.5 9        650      23        49980000     \n",
              "39 502451  -0.5 9        650      23        44900000     \n",
              "40 841333  -0.5 9        650      23        31380000     \n",
              "41 439891  -0.5 9        650      24        44620000     \n",
              "42 644123  -0.5 9        650      24        49740000     \n",
              "43 213149  -0.5 9        650      24        42870000     \n",
              "44 366193  -0.5 9        650      24        52260000     \n",
              "45 303731  -0.5 9        650      24        50210000     \n",
              "46 648133  -0.5 9        650      24        49930000     \n",
              "47 580763  -0.5 9        650      24        47000000     \n",
              "48 640259  -0.5 9        650      24        48180000     \n",
              "49 502451  -0.5 9        650      24        44880000     \n",
              "50 841333  -0.5 9        650      24        31390000     \n",
              "51 439891  -0.5 9        650      25        44630000     \n",
              "52 644123  -0.5 9        650      25        49810000     \n",
              "53 213149  -0.5 9        650      25        42920000     \n",
              "54 366193  -0.5 9        650      25        52450000     \n",
              "55 303731  -0.5 9        650      25        50030000     \n",
              "56 648133  -0.5 9        650      25        49930000     \n",
              "57 580763  -0.5 9        650      25        46840000     \n",
              "58 640259  -0.5 9        650      25        48130000     \n",
              "59 502451  -0.5 9        650      25        43490000     \n",
              "60 841333  -0.5 9        650      25        31370000     "
            ]
          },
          "metadata": {}
        }
      ]
    },
    {
      "cell_type": "code",
      "source": [
        "# genero y grabo el resumen\n",
        "tb_grid_search <- tb_grid_search_detalle[,\n",
        "  list( \"ganancia_mean\" = mean(ganancia_test),\n",
        "    \"qty\" = .N ),\n",
        "  list( cp, maxdepth, minsplit, minbucket )\n",
        "]\n"
      ],
      "metadata": {
        "id": "DjCxtx8bIsgl"
      },
      "execution_count": 42,
      "outputs": []
    },
    {
      "cell_type": "code",
      "source": [
        "# ordeno descendente por ganancia\n",
        "setorder( tb_grid_search, -ganancia_mean )\n"
      ],
      "metadata": {
        "id": "LU29UhL1Ivg5"
      },
      "execution_count": 43,
      "outputs": []
    },
    {
      "cell_type": "code",
      "source": [
        "# veo los 10 mejores hiperparámetros\n",
        "tb_grid_search[1:10]"
      ],
      "metadata": {
        "id": "g-EjGY7aIyWL",
        "outputId": "07ae6221-68e8-4778-9dd8-96e2d7ce94b1",
        "colab": {
          "base_uri": "https://localhost:8080/",
          "height": 411
        }
      },
      "execution_count": 44,
      "outputs": [
        {
          "output_type": "display_data",
          "data": {
            "text/html": [
              "<table class=\"dataframe\">\n",
              "<caption>A data.table: 10 × 6</caption>\n",
              "<thead>\n",
              "\t<tr><th scope=col>cp</th><th scope=col>maxdepth</th><th scope=col>minsplit</th><th scope=col>minbucket</th><th scope=col>ganancia_mean</th><th scope=col>qty</th></tr>\n",
              "\t<tr><th scope=col>&lt;dbl&gt;</th><th scope=col>&lt;dbl&gt;</th><th scope=col>&lt;dbl&gt;</th><th scope=col>&lt;int&gt;</th><th scope=col>&lt;dbl&gt;</th><th scope=col>&lt;int&gt;</th></tr>\n",
              "</thead>\n",
              "<tbody>\n",
              "\t<tr><td>-0.5</td><td> 9</td><td>650</td><td>20</td><td>46188000</td><td>10</td></tr>\n",
              "\t<tr><td>-0.5</td><td> 9</td><td>650</td><td>23</td><td>46166000</td><td>10</td></tr>\n",
              "\t<tr><td>-0.5</td><td> 9</td><td>650</td><td>24</td><td>46108000</td><td>10</td></tr>\n",
              "\t<tr><td>-0.5</td><td> 9</td><td>650</td><td>22</td><td>46093000</td><td>10</td></tr>\n",
              "\t<tr><td>-0.5</td><td> 9</td><td>650</td><td>21</td><td>46085000</td><td>10</td></tr>\n",
              "\t<tr><td>-0.5</td><td> 9</td><td>650</td><td>25</td><td>45960000</td><td>10</td></tr>\n",
              "\t<tr><td>  NA</td><td>NA</td><td> NA</td><td>NA</td><td>      NA</td><td>NA</td></tr>\n",
              "\t<tr><td>  NA</td><td>NA</td><td> NA</td><td>NA</td><td>      NA</td><td>NA</td></tr>\n",
              "\t<tr><td>  NA</td><td>NA</td><td> NA</td><td>NA</td><td>      NA</td><td>NA</td></tr>\n",
              "\t<tr><td>  NA</td><td>NA</td><td> NA</td><td>NA</td><td>      NA</td><td>NA</td></tr>\n",
              "</tbody>\n",
              "</table>\n"
            ],
            "text/markdown": "\nA data.table: 10 × 6\n\n| cp &lt;dbl&gt; | maxdepth &lt;dbl&gt; | minsplit &lt;dbl&gt; | minbucket &lt;int&gt; | ganancia_mean &lt;dbl&gt; | qty &lt;int&gt; |\n|---|---|---|---|---|---|\n| -0.5 |  9 | 650 | 20 | 46188000 | 10 |\n| -0.5 |  9 | 650 | 23 | 46166000 | 10 |\n| -0.5 |  9 | 650 | 24 | 46108000 | 10 |\n| -0.5 |  9 | 650 | 22 | 46093000 | 10 |\n| -0.5 |  9 | 650 | 21 | 46085000 | 10 |\n| -0.5 |  9 | 650 | 25 | 45960000 | 10 |\n|   NA | NA |  NA | NA |       NA | NA |\n|   NA | NA |  NA | NA |       NA | NA |\n|   NA | NA |  NA | NA |       NA | NA |\n|   NA | NA |  NA | NA |       NA | NA |\n\n",
            "text/latex": "A data.table: 10 × 6\n\\begin{tabular}{llllll}\n cp & maxdepth & minsplit & minbucket & ganancia\\_mean & qty\\\\\n <dbl> & <dbl> & <dbl> & <int> & <dbl> & <int>\\\\\n\\hline\n\t -0.5 &  9 & 650 & 20 & 46188000 & 10\\\\\n\t -0.5 &  9 & 650 & 23 & 46166000 & 10\\\\\n\t -0.5 &  9 & 650 & 24 & 46108000 & 10\\\\\n\t -0.5 &  9 & 650 & 22 & 46093000 & 10\\\\\n\t -0.5 &  9 & 650 & 21 & 46085000 & 10\\\\\n\t -0.5 &  9 & 650 & 25 & 45960000 & 10\\\\\n\t   NA & NA &  NA & NA &       NA & NA\\\\\n\t   NA & NA &  NA & NA &       NA & NA\\\\\n\t   NA & NA &  NA & NA &       NA & NA\\\\\n\t   NA & NA &  NA & NA &       NA & NA\\\\\n\\end{tabular}\n",
            "text/plain": [
              "   cp   maxdepth minsplit minbucket ganancia_mean qty\n",
              "1  -0.5  9       650      20        46188000      10 \n",
              "2  -0.5  9       650      23        46166000      10 \n",
              "3  -0.5  9       650      24        46108000      10 \n",
              "4  -0.5  9       650      22        46093000      10 \n",
              "5  -0.5  9       650      21        46085000      10 \n",
              "6  -0.5  9       650      25        45960000      10 \n",
              "7    NA NA        NA      NA              NA      NA \n",
              "8    NA NA        NA      NA              NA      NA \n",
              "9    NA NA        NA      NA              NA      NA \n",
              "10   NA NA        NA      NA              NA      NA "
            ]
          },
          "metadata": {}
        }
      ]
    },
    {
      "cell_type": "code",
      "source": [
        "# genero un id a la tabla\n",
        "tb_grid_search[, id := .I ]\n",
        "\n",
        "fwrite( tb_grid_search,\n",
        "  file = \"gridsearch.txt\",\n",
        "  sep = \"\\t\"\n",
        ")\n"
      ],
      "metadata": {
        "id": "K3S-I2PTI5ZE"
      },
      "execution_count": null,
      "outputs": []
    },
    {
      "cell_type": "markdown",
      "source": [
        "# 4.  Análisis de resultados de Grid Search"
      ],
      "metadata": {
        "id": "1rYHk1YkI_9k"
      }
    },
    {
      "cell_type": "markdown",
      "source": [
        "La salida de la corrida anterior queda en ~/buckets/b1/exp/HT2900  que corresponde a su Google Drive\n",
        "<br>HT significa Hyperparameter Tuning\n",
        "<br>El Grid Search es un método de fuerza bruta de un altísimo costo computacional.\n",
        "<br>Queremos ver si es posible crear un algoritmo de optimización de hiperparámetros que se ahorre recorrer ciertas porciones muy malas del espacio de búsqueda. Algo del estilo “cada vez que pruebo una combinación de hiperparámetros donde  cp > 1 , la ganancia es muy mala, con lo cual ni vale la pena perder el tiempo explorando en esa region”\n"
      ],
      "metadata": {
        "id": "ZTJgPhMWJHTk"
      }
    },
    {
      "cell_type": "markdown",
      "source": [
        "<br>Levante el archivo de salida gridsearch.txt  a una planilla tipo Excel y analícelo detenidamente\n",
        "<br>Ordene por ganancia_mean descendente\n",
        "<br>\n",
        "<br>El de mayor ganancia_mean  decimos que es el primero del ranking\n",
        "En Zulip, correspondiente channel  #Tarea Hogar 02 , topic Analisis Grid Search   intente contestar estas preguntas:\n",
        "\n",
        "* ¿Qué combinaciones de hiperparámetros poseen una ganancia muy buena?\n",
        "* ¿Hay algun hiperparámetro que para cierto valor siempre genera una ganancia muy mala, a independientemente de lo que valgan los otros hiperparámetros ?\n",
        "* ¿Que combinaciones de hiperparámetros es pésima y hubiera sido bueno ahorrarse esas corridas ?\n",
        "\n",
        "( tiempo estimado 30 minutos, dificultad media )"
      ],
      "metadata": {
        "id": "IaVgMu4tPwyB"
      }
    }
  ]
}