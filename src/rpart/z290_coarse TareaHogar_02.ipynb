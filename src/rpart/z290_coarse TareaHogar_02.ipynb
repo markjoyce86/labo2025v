{
  "nbformat": 4,
  "nbformat_minor": 0,
  "metadata": {
    "colab": {
      "provenance": [],
      "machine_shape": "hm"
    },
    "kernelspec": {
      "name": "ir",
      "display_name": "R"
    },
    "language_info": {
      "name": "R"
    }
  },
  "cells": [
    {
      "cell_type": "markdown",
      "source": [
        "# Tarea para el Hogar 02"
      ],
      "metadata": {
        "id": "F3r8aa3pBigj"
      }
    },
    {
      "cell_type": "markdown",
      "source": [
        "Esta Tarea para el Hogar 02 se entrega el final de la segunda clase\n",
        "<br> se espera de usted que intente avanzar con los desafios propuestos y que los traiga terminados para la Clase 03, ya que se analizarán los resultados"
      ],
      "metadata": {
        "id": "nBm4ktHUBmZt"
      }
    },
    {
      "cell_type": "markdown",
      "source": [
        "##  1. Ensembles de Modelos"
      ],
      "metadata": {
        "id": "TK-M04ElCESC"
      }
    },
    {
      "cell_type": "markdown",
      "source": [
        "Vea el siguiente video [BBC - The Code - The Wisdom of the Crowd](https://www.youtube.com/watch?v=iOucwX7Z1HU)    ( 5 min)\n"
      ],
      "metadata": {
        "id": "biPYxgobCOSS"
      }
    },
    {
      "cell_type": "markdown",
      "source": [
        "Lea los siguientes artículos\n",
        "\n",
        "\n",
        "*   [The Wisdom of Crowds (Vox Populi) by Francis Galton](https://www.all-about-psychology.com/the-wisdom-of-crowds.html)  (10 min)\n",
        "*   [A Gentle Introduction to Ensemble Learning](https://machinelearningmastery.com/what-is-ensemble-learning/)  (10 min)\n",
        "\n"
      ],
      "metadata": {
        "id": "FBszBRyNCcjp"
      }
    },
    {
      "cell_type": "markdown",
      "source": [
        "\n",
        "\n",
        "---\n",
        "\n"
      ],
      "metadata": {
        "id": "x7SebtV2lpHQ"
      }
    },
    {
      "cell_type": "markdown",
      "source": [
        "##  2.  Zero2Hero   primera parte\n",
        "Se han lanzado los primeros fascículos coleccionables llamados \"from Zero to Hero\" que muy detalladamente, paso a paso enseñan todo lo necesario de R para entender los scripts oficiales de la asignatura.\n",
        "Están en el repositorio oficial de la asignatura, carpeta  **src/zero2hero**"
      ],
      "metadata": {
        "id": "NQcY8u2MDSLT"
      }
    },
    {
      "cell_type": "markdown",
      "source": [
        "\n",
        "\n",
        "---\n",
        "\n"
      ],
      "metadata": {
        "id": "GcO0OSiIEAGy"
      }
    },
    {
      "cell_type": "markdown",
      "source": [
        "## 3.  Grid Search"
      ],
      "metadata": {
        "id": "6MStcyn0EBdT"
      }
    },
    {
      "cell_type": "markdown",
      "source": [
        "Busque en internet el precido significado de los hiperparámetros de la librería **rpart**  que está implementando el algoritmo **CART**  Classification and Regression Trees  propuesto en el año 1984 por Leo Brieman:\n",
        "\n",
        "*   cp\n",
        "*   maxdepth\n",
        "*   minsplit\n",
        "*   minbucket\n",
        "\n",
        "Entienda que valores es razonable tome cada hiperparámetro,  en particular profundice en el hiperparámetro  **cp**  y la posibilidad que tome valores negativos.  Es válido consultar a su amigo de *capacidades especiales*  ChatGPT\n"
      ],
      "metadata": {
        "id": "gM8RKXDgEIY0"
      }
    },
    {
      "cell_type": "markdown",
      "source": [
        "En las siguientes celdas a un notebook incompleto, un esqueleto de codigo brindado a modo de facilitarle la tarea de codeo y permitir que su valiosa cognición se concentre temas conceptuales de Ciencia de Datos\n",
        "\n",
        "Modifiquelo agregando loops para que recorra TODOS los hiperparámetros de rpart  < cp, maxdepth, minsplit, minbucket >, y luego póngalo a correr. Recuerde cambiar por SU semilla\n",
        "Tenga muy presente la granularidad que eligirá para cada hiperparámetro."
      ],
      "metadata": {
        "id": "_k7eT3HIFy9y"
      }
    },
    {
      "cell_type": "markdown",
      "source": [
        "### Seteo del ambiente en Google Colab"
      ],
      "metadata": {
        "id": "kmLygy1TYPfg"
      }
    },
    {
      "cell_type": "markdown",
      "source": [
        "Esta parte se debe correr con el runtime en Python3\n",
        "<br>Ir al menu, Runtime -> Change Runtime Tipe -> Runtime type ->  **Python 3**"
      ],
      "metadata": {
        "id": "OikOm5K2YU3X"
      }
    },
    {
      "cell_type": "markdown",
      "source": [
        "Conectar la virtual machine donde esta corriendo Google Colab con el  Google Drive, para poder tener persistencia de archivos"
      ],
      "metadata": {
        "id": "4fmV5LyZdFyI"
      }
    },
    {
      "cell_type": "code",
      "source": [
        "# primero establecer el Runtime de Python 3\n",
        "from google.colab import drive\n",
        "drive.mount('/content/.drive')"
      ],
      "metadata": {
        "id": "ilEZ-bE2VybW",
        "outputId": "d5d8102b-b9d3-42c5-f40a-a75382b39754",
        "colab": {
          "base_uri": "https://localhost:8080/"
        }
      },
      "execution_count": 1,
      "outputs": [
        {
          "output_type": "stream",
          "name": "stdout",
          "text": [
            "Mounted at /content/.drive\n"
          ]
        }
      ]
    },
    {
      "cell_type": "markdown",
      "source": [
        "Para correr la siguiente celda es fundamental en Arranque en Frio haber copiado el archivo kaggle.json al Google Drive, en la carpeta indicada en el instructivo\n",
        "\n",
        "<br>los siguientes comando estan en shell script de Linux\n",
        "*   Crear las carpetas en el Google Drive\n",
        "*   \"instalar\" el archivo kaggle.json desde el Google Drive a la virtual machine para que pueda ser utilizado por la libreria  kaggle de Python\n",
        "*   Bajar el  **dataset_pequeno**  al  Google Drive  y tambien al disco local de la virtual machine que esta corriendo Google Colab\n",
        "\n"
      ],
      "metadata": {
        "id": "ilaKtqWldeWg"
      }
    },
    {
      "cell_type": "code",
      "source": [
        "%%shell\n",
        "\n",
        "mkdir -p \"/content/.drive/My Drive/labo1\"\n",
        "mkdir -p \"/content/buckets\"\n",
        "ln -s \"/content/.drive/My Drive/labo1\" /content/buckets/b1\n",
        "\n",
        "mkdir -p ~/.kaggle\n",
        "cp /content/buckets/b1/kaggle/kaggle.json  ~/.kaggle\n",
        "chmod 600 ~/.kaggle/kaggle.json\n",
        "\n",
        "\n",
        "mkdir -p /content/buckets/b1/exp\n",
        "mkdir -p /content/buckets/b1/datasets\n",
        "mkdir -p /content/datasets\n",
        "\n",
        "\n",
        "\n",
        "archivo_origen=\"https://storage.googleapis.com/open-courses/austral2025-af91/dataset_pequeno.csv\"\n",
        "archivo_destino=\"/content/datasets/dataset_pequeno.csv\"\n",
        "archivo_destino_bucket=\"/content/buckets/b1/datasets/dataset_pequeno.csv\"\n",
        "\n",
        "if ! test -f $archivo_destino_bucket; then\n",
        "  wget  $archivo_origen  -O $archivo_destino_bucket\n",
        "fi\n",
        "\n",
        "\n",
        "if ! test -f $archivo_destino; then\n",
        "  cp  $archivo_destino_bucket  $archivo_destino\n",
        "fi\n",
        "\n"
      ],
      "metadata": {
        "id": "W8dQFI5QYCFa",
        "outputId": "3da82dfb-2013-4519-e014-c09dfcd728b6",
        "colab": {
          "base_uri": "https://localhost:8080/"
        }
      },
      "execution_count": 2,
      "outputs": [
        {
          "output_type": "execute_result",
          "data": {
            "text/plain": []
          },
          "metadata": {},
          "execution_count": 2
        }
      ]
    },
    {
      "cell_type": "markdown",
      "source": [
        "limpio el ambiente de R"
      ],
      "metadata": {
        "id": "SE94XRhWsxkX"
      }
    },
    {
      "cell_type": "code",
      "source": [
        "# limpio la memoria\n",
        "rm(list=ls(all.names=TRUE)) # remove all objects\n",
        "gc(full=TRUE, verbose=FALSE) # garbage collection"
      ],
      "metadata": {
        "id": "oZG_4br6szlT",
        "outputId": "f71d8df0-768f-4e96-ad8a-720fabbd3c3e",
        "colab": {
          "base_uri": "https://localhost:8080/",
          "height": 129
        }
      },
      "execution_count": 1,
      "outputs": [
        {
          "output_type": "display_data",
          "data": {
            "text/html": [
              "<table class=\"dataframe\">\n",
              "<caption>A matrix: 2 × 6 of type dbl</caption>\n",
              "<thead>\n",
              "\t<tr><th></th><th scope=col>used</th><th scope=col>(Mb)</th><th scope=col>gc trigger</th><th scope=col>(Mb)</th><th scope=col>max used</th><th scope=col>(Mb)</th></tr>\n",
              "</thead>\n",
              "<tbody>\n",
              "\t<tr><th scope=row>Ncells</th><td> 657245</td><td>35.2</td><td>1454468</td><td>77.7</td><td>1326124</td><td>70.9</td></tr>\n",
              "\t<tr><th scope=row>Vcells</th><td>1220272</td><td> 9.4</td><td>8388608</td><td>64.0</td><td>1975127</td><td>15.1</td></tr>\n",
              "</tbody>\n",
              "</table>\n"
            ],
            "text/markdown": "\nA matrix: 2 × 6 of type dbl\n\n| <!--/--> | used | (Mb) | gc trigger | (Mb) | max used | (Mb) |\n|---|---|---|---|---|---|---|\n| Ncells |  657245 | 35.2 | 1454468 | 77.7 | 1326124 | 70.9 |\n| Vcells | 1220272 |  9.4 | 8388608 | 64.0 | 1975127 | 15.1 |\n\n",
            "text/latex": "A matrix: 2 × 6 of type dbl\n\\begin{tabular}{r|llllll}\n  & used & (Mb) & gc trigger & (Mb) & max used & (Mb)\\\\\n\\hline\n\tNcells &  657245 & 35.2 & 1454468 & 77.7 & 1326124 & 70.9\\\\\n\tVcells & 1220272 &  9.4 & 8388608 & 64.0 & 1975127 & 15.1\\\\\n\\end{tabular}\n",
            "text/plain": [
              "       used    (Mb) gc trigger (Mb) max used (Mb)\n",
              "Ncells  657245 35.2 1454468    77.7 1326124  70.9\n",
              "Vcells 1220272  9.4 8388608    64.0 1975127  15.1"
            ]
          },
          "metadata": {}
        }
      ]
    },
    {
      "cell_type": "code",
      "source": [
        "# cargo las librerias que necesito\n",
        "require(\"data.table\")\n",
        "require(\"rpart\")\n",
        "require(\"parallel\")\n",
        "if (!require(\"primes\")) install.packages(\"primes\")\n",
        "require(\"primes\")"
      ],
      "metadata": {
        "id": "JO-12d7YHkWy",
        "colab": {
          "base_uri": "https://localhost:8080/"
        },
        "outputId": "563deab0-d6ac-4a04-d98b-73223becb76f"
      },
      "execution_count": 2,
      "outputs": [
        {
          "output_type": "stream",
          "name": "stderr",
          "text": [
            "Loading required package: data.table\n",
            "\n",
            "Loading required package: rpart\n",
            "\n",
            "Loading required package: parallel\n",
            "\n",
            "Loading required package: primes\n",
            "\n",
            "Warning message in library(package, lib.loc = lib.loc, character.only = TRUE, logical.return = TRUE, :\n",
            "“there is no package called ‘primes’”\n",
            "Installing package into ‘/usr/local/lib/R/site-library’\n",
            "(as ‘lib’ is unspecified)\n",
            "\n",
            "Loading required package: primes\n",
            "\n"
          ]
        }
      ]
    },
    {
      "cell_type": "markdown",
      "source": [
        "Aqui debe poner SU semiila primigenia"
      ],
      "metadata": {
        "id": "0MclPEJ6Q8Bp"
      }
    },
    {
      "cell_type": "code",
      "source": [
        "PARAM <- list()\n",
        "# reemplazar por su primer semilla\n",
        "PARAM$semilla_primigenia <- 765179\n",
        "PARAM$qsemillas <- 5\n",
        "\n",
        "PARAM$training_pct <- 70L  # entre  1L y 99L\n",
        "\n",
        "# elegir SU dataset comentando/ descomentando\n",
        "PARAM$dataset_nom <- \"~/datasets/dataset_pequeno.csv\""
      ],
      "metadata": {
        "id": "Vt5fC6bWHu5r"
      },
      "execution_count": 14,
      "outputs": []
    },
    {
      "cell_type": "code",
      "source": [
        "# particionar agrega una columna llamada fold a un dataset\n",
        "#  que consiste en una particion estratificada segun agrupa\n",
        "# particionar( data=dataset, division=c(70,30), agrupa=clase_ternaria, seed=semilla)\n",
        "#   crea una particion 70, 30\n",
        "\n",
        "particionar <- function(data, division, agrupa = \"\", campo = \"fold\", start = 1, seed = NA) {\n",
        "  if (!is.na(seed)) set.seed(seed)\n",
        "\n",
        "  bloque <- unlist(mapply(function(x, y) {\n",
        "    rep(y, x)\n",
        "  }, division, seq(from = start, length.out = length(division))))\n",
        "\n",
        "  data[, (campo) := sample(rep(bloque, ceiling(.N / length(bloque))))[1:.N],\n",
        "    by = agrupa\n",
        "  ]\n",
        "}\n"
      ],
      "metadata": {
        "id": "Z1dchsrWH4MD"
      },
      "execution_count": 15,
      "outputs": []
    },
    {
      "cell_type": "code",
      "source": [
        "ArbolEstimarGanancia <- function(semilla, training_pct, param_basicos) {\n",
        "  # particiono estratificadamente el dataset\n",
        "  particionar(dataset,\n",
        "    division = c(training_pct, 100L -training_pct),\n",
        "    agrupa = \"clase_ternaria\",\n",
        "    seed = semilla # aqui se usa SU semilla\n",
        "  )\n",
        "\n",
        "  # genero el modelo\n",
        "  # predecir clase_ternaria a partir del resto\n",
        "  modelo <- rpart(\"clase_ternaria ~ .\",\n",
        "    data = dataset[fold == 1], # fold==1  es training,  el 70% de los datos\n",
        "    xval = 0,\n",
        "    control = param_basicos\n",
        "  ) # aqui van los parametros del arbol\n",
        "\n",
        "  # aplico el modelo a los datos de testing\n",
        "  prediccion <- predict(modelo, # el modelo que genere recien\n",
        "    dataset[fold == 2], # fold==2  es testing, el 30% de los datos\n",
        "    type = \"prob\"\n",
        "  ) # type= \"prob\"  es que devuelva la probabilidad\n",
        "\n",
        "  # prediccion es una matriz con TRES columnas,\n",
        "  #  llamadas \"BAJA+1\", \"BAJA+2\"  y \"CONTINUA\"\n",
        "  # cada columna es el vector de probabilidades\n",
        "\n",
        "\n",
        "  # calculo la ganancia en testing  qu es fold==2\n",
        "  ganancia_test <- dataset[\n",
        "    fold == 2,\n",
        "    sum(ifelse(prediccion[, \"BAJA+2\"] > 0.025,\n",
        "      ifelse(clase_ternaria == \"BAJA+2\", 117000, -3000),\n",
        "      0\n",
        "    ))\n",
        "  ]\n",
        "\n",
        "  # escalo la ganancia como si fuera todo el dataset\n",
        "  ganancia_test_normalizada <- ganancia_test / (( 100 - PARAM$training_pct ) / 100 )\n",
        "\n",
        "  return(\n",
        "    c( list(\"semilla\" = semilla),\n",
        "      param_basicos,\n",
        "      list( \"ganancia_test\" = ganancia_test_normalizada )\n",
        "     )\n",
        "  )\n",
        "}\n"
      ],
      "metadata": {
        "id": "xsHwS1CzIA70"
      },
      "execution_count": 16,
      "outputs": []
    },
    {
      "cell_type": "code",
      "source": [
        "ArbolesMontecarlo <- function(semillas, param_basicos) {\n",
        "\n",
        "  # la funcion mcmapply  llama a la funcion ArbolEstimarGanancia\n",
        "  #  tantas veces como valores tenga el vector  PARAM$semillas\n",
        "  salida <- mcmapply(ArbolEstimarGanancia,\n",
        "    semillas, # paso el vector de semillas\n",
        "    MoreArgs = list(PARAM$training_pct, param_basicos), # aqui paso el segundo parametro\n",
        "    SIMPLIFY = FALSE,\n",
        "    mc.cores = detectCores()\n",
        "  )\n",
        "\n",
        "  return(salida)\n",
        "}\n"
      ],
      "metadata": {
        "id": "BvBVOuhqIEjD"
      },
      "execution_count": 17,
      "outputs": []
    },
    {
      "cell_type": "code",
      "source": [
        "# carpeta de trabajo\n",
        "# por fabor cambiar numero de experimento si se cambia el loop principal\n",
        "setwd(\"/content/buckets/b1/exp\")\n",
        "experimento <- \"HT2900\"\n",
        "dir.create(experimento, showWarnings=FALSE)\n",
        "setwd( paste0(\"/content/buckets/b1/exp/\", experimento ))"
      ],
      "metadata": {
        "id": "L-DOGHOjIG7G"
      },
      "execution_count": 18,
      "outputs": []
    },
    {
      "cell_type": "code",
      "source": [
        "# lectura del dataset\n",
        "dataset <- fread(\"/content/datasets/dataset_pequeno.csv\")\n",
        "\n",
        "# trabajo solo con los datos con clase, es decir 202107\n",
        "dataset <- dataset[clase_ternaria != \"\"]"
      ],
      "metadata": {
        "id": "NM-mrLWcIPo6"
      },
      "execution_count": 19,
      "outputs": []
    },
    {
      "cell_type": "code",
      "source": [
        "\n",
        "# genero numeros primos\n",
        "primos <- generate_primes(min = 100000, max = 1000000)\n",
        "set.seed(PARAM$semilla_primigenia) # inicializo\n",
        "# me quedo con PARAM$qsemillas   semillas\n",
        "PARAM$semillas <- sample(primos, PARAM$qsemillas )\n"
      ],
      "metadata": {
        "id": "tSlY0EcgIWdi"
      },
      "execution_count": 20,
      "outputs": []
    },
    {
      "cell_type": "code",
      "source": [
        "# genero la data.table donde van los resultados detallados del Grid Search\n",
        "# un registro para cada combinacion de < semilla, parametros >\n",
        "\n",
        "if(file.exists(\"gridsearch_detalle.txt\")){\n",
        "  tb_grid_search_detalle <- fread(\"gridsearch_detalle.txt\")\n",
        "}else{\n",
        "  tb_grid_search_detalle <- data.table(\n",
        "    semilla = integer(),\n",
        "    cp = numeric(),\n",
        "    maxdepth = integer(),\n",
        "   minsplit = integer(),\n",
        "    minbucket = integer(),\n",
        "    ganancia_test = numeric()\n",
        "  )\n",
        "}\n",
        "\n",
        "nrow( tb_grid_search_detalle )"
      ],
      "metadata": {
        "id": "xxCAwIKyIaTl",
        "outputId": "d4c58618-424f-41e7-ada7-052ae9b11427",
        "colab": {
          "base_uri": "https://localhost:8080/",
          "height": 34
        }
      },
      "execution_count": 28,
      "outputs": [
        {
          "output_type": "display_data",
          "data": {
            "text/html": [
              "1225"
            ],
            "text/markdown": "1225",
            "text/latex": "1225",
            "text/plain": [
              "[1] 1225"
            ]
          },
          "metadata": {}
        }
      ]
    },
    {
      "cell_type": "code",
      "source": [
        "# data.table threads (0 = auto use all)\n",
        "data.table::setDTthreads(0)\n",
        "data.table::getDTthreads()"
      ],
      "metadata": {
        "colab": {
          "base_uri": "https://localhost:8080/",
          "height": 34
        },
        "id": "1kEF1wvkozIh",
        "outputId": "2818c74f-ec80-4ead-8e3b-9f515c66d3da"
      },
      "execution_count": 29,
      "outputs": [
        {
          "output_type": "display_data",
          "data": {
            "text/html": [
              "8"
            ],
            "text/markdown": "8",
            "text/latex": "8",
            "text/plain": [
              "[1] 8"
            ]
          },
          "metadata": {}
        }
      ]
    },
    {
      "cell_type": "markdown",
      "source": [
        "Esta es la parte del código que usted debe expandir a TODOS los hiperparámetros de rpart,\n",
        "<br>ya que actualmente apenas recorre  maxdepth y  minsplit  dejando fijos  cp=-0.5  y minbucket=5"
      ],
      "metadata": {
        "id": "eAuGBNL8IkOD"
      }
    },
    {
      "cell_type": "code",
      "source": [
        "# itero por los loops anidados para cada hiperparametro (rango nuevo)\n",
        "iter <- 0\n",
        "\n",
        "# Check if PARAM is defined\n",
        "if (!exists(\"PARAM\")) {\n",
        "  cat(\"Error: PARAM variable not found. Please run the cell defining PARAM (cell Vt5fC6bWHu5r) first.\\n\")\n",
        "} else {\n",
        "  cp_set        <- c(-0.5)                  # fijo según tus mejores\n",
        "  maxdepth_set  <- c(9, 10, 11)                # zona pico (podés ampliar a 9:12 si querés)\n",
        "  minsplit_set  <- seq(650, 900, by = 25)   # incluye 700, 750, 875, etc.\n",
        "  minbucket_set <- 35:45                    # cubre 20..45 (incluye 34..44)\n",
        "\n",
        "  for (vmax_depth in maxdepth_set) {\n",
        "    for (vmin_split in minsplit_set) {\n",
        "      for (vmin_bucket in minbucket_set) {\n",
        "        for (vcp in cp_set) {\n",
        "\n",
        "          iter <- iter + 1\n",
        "          cat(iter, \" \")\n",
        "          flush.console()\n",
        "          if (iter * PARAM$qsemillas < nrow(tb_grid_search_detalle) + 1) next\n",
        "\n",
        "          # parámetros del árbol\n",
        "          param_basicos <- list(\n",
        "            \"cp\"        = vcp,          # -0.5\n",
        "            \"maxdepth\"  = vmax_depth,   # 10 o 11\n",
        "            \"minsplit\"  = vmin_split,   # 650..900 (paso 25)\n",
        "            \"minbucket\" = vmin_bucket   # 20..45\n",
        "          )\n",
        "\n",
        "          # Montecarlo sobre el set de semillas definido en PARAM$semillas\n",
        "          ganancias <- ArbolesMontecarlo(PARAM$semillas, param_basicos)\n",
        "\n",
        "          # agrego a la tabla\n",
        "          tb_grid_search_detalle <- rbindlist(\n",
        "            list(tb_grid_search_detalle, rbindlist(ganancias)),\n",
        "            use.names = TRUE, fill = TRUE\n",
        "          )\n",
        "        }\n",
        "      }\n",
        "    }\n",
        "  }\n",
        "\n",
        "  fwrite(tb_grid_search_detalle, \"gridsearch_detalle.txt\", sep = \"\\t\")\n",
        "  # write to /content during the run; copy to Drive at the end\n",
        "}"
      ],
      "metadata": {
        "id": "TiNwJEjzEfBX",
        "outputId": "c77ebacd-5f3c-415d-c467-a1c084112ccf",
        "colab": {
          "base_uri": "https://localhost:8080/"
        }
      },
      "execution_count": 30,
      "outputs": [
        {
          "metadata": {
            "tags": null
          },
          "name": "stdout",
          "output_type": "stream",
          "text": [
            "1  2  3  4  5  6  7  8  9  10  11  12  13  14  15  16  17  18  19  20  21  22  23  24  25  26  27  28  29  30  31  32  33  34  35  36  37  38  39  40  41  42  43  44  45  46  47  48  49  50  51  52  53  54  55  56  57  58  59  60  61  62  63  64  65  66  67  68  69  70  71  72  73  74  75  76  77  78  79  80  81  82  83  84  85  86  87  88  89  90  91  92  93  94  95  96  97  98  99  100  101  102  103  104  105  106  107  108  109  110  111  112  113  114  115  116  117  118  119  120  121  122  123  124  125  126  127  128  129  130  131  132  133  134  135  136  137  138  139  140  141  142  143  144  145  146  147  148  149  150  151  152  153  154  155  156  157  158  159  160  161  162  163  164  165  166  167  168  169  170  171  172  173  174  175  176  177  178  179  180  181  182  183  184  185  186  187  188  189  190  191  192  193  194  195  196  197  198  199  200  201  202  203  204  205  206  207  208  209  210  211  212  213  214  215  216  217  218  219  220  221  222  223  224  225  226  227  228  229  230  231  232  233  234  235  236  237  238  239  240  241  242  243  244  245  246  247  248  249  250  251  252  253  254  255  256  257  258  259  260  261  262  263  264  265  266  267  268  269  270  271  272  273  274  275  276  277  278  279  280  281  282  283  284  285  286  287  288  289  290  291  292  293  294  295  296  297  298  299  300  301  302  303  304  305  306  307  308  309  310  311  312  313  314  315  316  317  318  319  320  321  322  323  324  325  326  327  328  329  330  331  332  333  334  335  336  337  338  339  340  341  342  343  344  345  346  347  348  349  350  351  352  353  354  355  356  357  358  359  360  361  362  363  "
          ]
        }
      ]
    },
    {
      "cell_type": "code",
      "source": [
        "library(httr)\n",
        "\n",
        "# choose any topic name (use something unique)\n",
        "topic <- \"mark_labo2025\"\n",
        "\n",
        "# message to send\n",
        "msg <- \"✅ Grid Search finished successfully!\"\n",
        "\n",
        "httr::POST(\n",
        "  url = paste0(\"https://ntfy.sh/\", topic),\n",
        "  body = msg,\n",
        "  encode = \"raw\"\n",
        ")"
      ],
      "metadata": {
        "id": "za4kOLXTI5OK",
        "outputId": "62daa193-d445-4e0c-b7c6-ff347795d176",
        "colab": {
          "base_uri": "https://localhost:8080/",
          "height": 127
        }
      },
      "execution_count": 31,
      "outputs": [
        {
          "data": {
            "text/plain": [
              "Response [https://ntfy.sh/mark_labo2025]\n",
              "  Date: 2025-10-12 01:12\n",
              "  Status: 200\n",
              "  Content-Type: application/json\n",
              "  Size: 154 B\n",
              "{\"id\":\"v8FgNCNNqNM9\",\"time\":1760231568,\"expires\":1760274768,\"event\":\"message\"..."
            ]
          },
          "metadata": {},
          "output_type": "display_data"
        }
      ]
    },
    {
      "cell_type": "code",
      "source": [
        "fwrite( tb_grid_search_detalle,\n",
        "   file = \"gridsearch_detalle.txt\",\n",
        "   sep = \"\\t\"\n",
        ")"
      ],
      "metadata": {
        "id": "WZaSqYBxiDFu"
      },
      "execution_count": 33,
      "outputs": []
    },
    {
      "cell_type": "code",
      "source": [
        "# cantidad de registros de la tabla\n",
        "nrow(tb_grid_search_detalle)"
      ],
      "metadata": {
        "id": "STp0duM-RYVJ",
        "outputId": "65c940ac-fa14-4eed-ea07-b2c800edf493",
        "colab": {
          "base_uri": "https://localhost:8080/",
          "height": 34
        }
      },
      "execution_count": 34,
      "outputs": [
        {
          "output_type": "display_data",
          "data": {
            "text/html": [
              "1815"
            ],
            "text/markdown": "1815",
            "text/latex": "1815",
            "text/plain": [
              "[1] 1815"
            ]
          },
          "metadata": {}
        }
      ]
    },
    {
      "cell_type": "code",
      "source": [
        "# muestro la tabla\n",
        "tb_grid_search_detalle"
      ],
      "metadata": {
        "id": "k7fhk_H0iNez",
        "outputId": "a015916a-8078-462a-db67-862c1985a574",
        "colab": {
          "base_uri": "https://localhost:8080/",
          "height": 1000
        }
      },
      "execution_count": 35,
      "outputs": [
        {
          "output_type": "display_data",
          "data": {
            "text/html": [
              "<table class=\"dataframe\">\n",
              "<caption>A data.table: 1815 × 6</caption>\n",
              "<thead>\n",
              "\t<tr><th scope=col>semilla</th><th scope=col>cp</th><th scope=col>maxdepth</th><th scope=col>minsplit</th><th scope=col>minbucket</th><th scope=col>ganancia_test</th></tr>\n",
              "\t<tr><th scope=col>&lt;int&gt;</th><th scope=col>&lt;dbl&gt;</th><th scope=col>&lt;dbl&gt;</th><th scope=col>&lt;dbl&gt;</th><th scope=col>&lt;int&gt;</th><th scope=col>&lt;dbl&gt;</th></tr>\n",
              "</thead>\n",
              "<tbody>\n",
              "\t<tr><td>439891</td><td>-0.5</td><td>9</td><td>675</td><td>35</td><td>41930000</td></tr>\n",
              "\t<tr><td>644123</td><td>-0.5</td><td>9</td><td>675</td><td>35</td><td>52860000</td></tr>\n",
              "\t<tr><td>213149</td><td>-0.5</td><td>9</td><td>675</td><td>35</td><td>46240000</td></tr>\n",
              "\t<tr><td>366193</td><td>-0.5</td><td>9</td><td>675</td><td>35</td><td>50980000</td></tr>\n",
              "\t<tr><td>303731</td><td>-0.5</td><td>9</td><td>675</td><td>35</td><td>49960000</td></tr>\n",
              "\t<tr><td>439891</td><td>-0.5</td><td>9</td><td>675</td><td>36</td><td>41860000</td></tr>\n",
              "\t<tr><td>644123</td><td>-0.5</td><td>9</td><td>675</td><td>36</td><td>52520000</td></tr>\n",
              "\t<tr><td>213149</td><td>-0.5</td><td>9</td><td>675</td><td>36</td><td>46230000</td></tr>\n",
              "\t<tr><td>366193</td><td>-0.5</td><td>9</td><td>675</td><td>36</td><td>50810000</td></tr>\n",
              "\t<tr><td>303731</td><td>-0.5</td><td>9</td><td>675</td><td>36</td><td>49960000</td></tr>\n",
              "\t<tr><td>439891</td><td>-0.5</td><td>9</td><td>675</td><td>37</td><td>41840000</td></tr>\n",
              "\t<tr><td>644123</td><td>-0.5</td><td>9</td><td>675</td><td>37</td><td>52630000</td></tr>\n",
              "\t<tr><td>213149</td><td>-0.5</td><td>9</td><td>675</td><td>37</td><td>46210000</td></tr>\n",
              "\t<tr><td>366193</td><td>-0.5</td><td>9</td><td>675</td><td>37</td><td>51580000</td></tr>\n",
              "\t<tr><td>303731</td><td>-0.5</td><td>9</td><td>675</td><td>37</td><td>49960000</td></tr>\n",
              "\t<tr><td>439891</td><td>-0.5</td><td>9</td><td>675</td><td>38</td><td>41950000</td></tr>\n",
              "\t<tr><td>644123</td><td>-0.5</td><td>9</td><td>675</td><td>38</td><td>51830000</td></tr>\n",
              "\t<tr><td>213149</td><td>-0.5</td><td>9</td><td>675</td><td>38</td><td>46200000</td></tr>\n",
              "\t<tr><td>366193</td><td>-0.5</td><td>9</td><td>675</td><td>38</td><td>51580000</td></tr>\n",
              "\t<tr><td>303731</td><td>-0.5</td><td>9</td><td>675</td><td>38</td><td>49960000</td></tr>\n",
              "\t<tr><td>439891</td><td>-0.5</td><td>9</td><td>675</td><td>39</td><td>41630000</td></tr>\n",
              "\t<tr><td>644123</td><td>-0.5</td><td>9</td><td>675</td><td>39</td><td>51740000</td></tr>\n",
              "\t<tr><td>213149</td><td>-0.5</td><td>9</td><td>675</td><td>39</td><td>46930000</td></tr>\n",
              "\t<tr><td>366193</td><td>-0.5</td><td>9</td><td>675</td><td>39</td><td>51840000</td></tr>\n",
              "\t<tr><td>303731</td><td>-0.5</td><td>9</td><td>675</td><td>39</td><td>50160000</td></tr>\n",
              "\t<tr><td>439891</td><td>-0.5</td><td>9</td><td>675</td><td>40</td><td>42060000</td></tr>\n",
              "\t<tr><td>644123</td><td>-0.5</td><td>9</td><td>675</td><td>40</td><td>51730000</td></tr>\n",
              "\t<tr><td>213149</td><td>-0.5</td><td>9</td><td>675</td><td>40</td><td>47060000</td></tr>\n",
              "\t<tr><td>366193</td><td>-0.5</td><td>9</td><td>675</td><td>40</td><td>51910000</td></tr>\n",
              "\t<tr><td>303731</td><td>-0.5</td><td>9</td><td>675</td><td>40</td><td>49750000</td></tr>\n",
              "\t<tr><td>⋮</td><td>⋮</td><td>⋮</td><td>⋮</td><td>⋮</td><td>⋮</td></tr>\n",
              "\t<tr><td>439891</td><td>-0.5</td><td>11</td><td>900</td><td>40</td><td>45140000</td></tr>\n",
              "\t<tr><td>644123</td><td>-0.5</td><td>11</td><td>900</td><td>40</td><td>47290000</td></tr>\n",
              "\t<tr><td>213149</td><td>-0.5</td><td>11</td><td>900</td><td>40</td><td>42970000</td></tr>\n",
              "\t<tr><td>366193</td><td>-0.5</td><td>11</td><td>900</td><td>40</td><td>49550000</td></tr>\n",
              "\t<tr><td>303731</td><td>-0.5</td><td>11</td><td>900</td><td>40</td><td>46340000</td></tr>\n",
              "\t<tr><td>439891</td><td>-0.5</td><td>11</td><td>900</td><td>41</td><td>44110000</td></tr>\n",
              "\t<tr><td>644123</td><td>-0.5</td><td>11</td><td>900</td><td>41</td><td>47420000</td></tr>\n",
              "\t<tr><td>213149</td><td>-0.5</td><td>11</td><td>900</td><td>41</td><td>43290000</td></tr>\n",
              "\t<tr><td>366193</td><td>-0.5</td><td>11</td><td>900</td><td>41</td><td>50100000</td></tr>\n",
              "\t<tr><td>303731</td><td>-0.5</td><td>11</td><td>900</td><td>41</td><td>46710000</td></tr>\n",
              "\t<tr><td>439891</td><td>-0.5</td><td>11</td><td>900</td><td>42</td><td>42320000</td></tr>\n",
              "\t<tr><td>644123</td><td>-0.5</td><td>11</td><td>900</td><td>42</td><td>47630000</td></tr>\n",
              "\t<tr><td>213149</td><td>-0.5</td><td>11</td><td>900</td><td>42</td><td>42270000</td></tr>\n",
              "\t<tr><td>366193</td><td>-0.5</td><td>11</td><td>900</td><td>42</td><td>48970000</td></tr>\n",
              "\t<tr><td>303731</td><td>-0.5</td><td>11</td><td>900</td><td>42</td><td>46680000</td></tr>\n",
              "\t<tr><td>439891</td><td>-0.5</td><td>11</td><td>900</td><td>43</td><td>42650000</td></tr>\n",
              "\t<tr><td>644123</td><td>-0.5</td><td>11</td><td>900</td><td>43</td><td>47560000</td></tr>\n",
              "\t<tr><td>213149</td><td>-0.5</td><td>11</td><td>900</td><td>43</td><td>41950000</td></tr>\n",
              "\t<tr><td>366193</td><td>-0.5</td><td>11</td><td>900</td><td>43</td><td>51390000</td></tr>\n",
              "\t<tr><td>303731</td><td>-0.5</td><td>11</td><td>900</td><td>43</td><td>46650000</td></tr>\n",
              "\t<tr><td>439891</td><td>-0.5</td><td>11</td><td>900</td><td>44</td><td>44390000</td></tr>\n",
              "\t<tr><td>644123</td><td>-0.5</td><td>11</td><td>900</td><td>44</td><td>47540000</td></tr>\n",
              "\t<tr><td>213149</td><td>-0.5</td><td>11</td><td>900</td><td>44</td><td>41670000</td></tr>\n",
              "\t<tr><td>366193</td><td>-0.5</td><td>11</td><td>900</td><td>44</td><td>48960000</td></tr>\n",
              "\t<tr><td>303731</td><td>-0.5</td><td>11</td><td>900</td><td>44</td><td>46400000</td></tr>\n",
              "\t<tr><td>439891</td><td>-0.5</td><td>11</td><td>900</td><td>45</td><td>44410000</td></tr>\n",
              "\t<tr><td>644123</td><td>-0.5</td><td>11</td><td>900</td><td>45</td><td>47130000</td></tr>\n",
              "\t<tr><td>213149</td><td>-0.5</td><td>11</td><td>900</td><td>45</td><td>41650000</td></tr>\n",
              "\t<tr><td>366193</td><td>-0.5</td><td>11</td><td>900</td><td>45</td><td>48910000</td></tr>\n",
              "\t<tr><td>303731</td><td>-0.5</td><td>11</td><td>900</td><td>45</td><td>45520000</td></tr>\n",
              "</tbody>\n",
              "</table>\n"
            ],
            "text/markdown": "\nA data.table: 1815 × 6\n\n| semilla &lt;int&gt; | cp &lt;dbl&gt; | maxdepth &lt;dbl&gt; | minsplit &lt;dbl&gt; | minbucket &lt;int&gt; | ganancia_test &lt;dbl&gt; |\n|---|---|---|---|---|---|\n| 439891 | -0.5 | 9 | 675 | 35 | 41930000 |\n| 644123 | -0.5 | 9 | 675 | 35 | 52860000 |\n| 213149 | -0.5 | 9 | 675 | 35 | 46240000 |\n| 366193 | -0.5 | 9 | 675 | 35 | 50980000 |\n| 303731 | -0.5 | 9 | 675 | 35 | 49960000 |\n| 439891 | -0.5 | 9 | 675 | 36 | 41860000 |\n| 644123 | -0.5 | 9 | 675 | 36 | 52520000 |\n| 213149 | -0.5 | 9 | 675 | 36 | 46230000 |\n| 366193 | -0.5 | 9 | 675 | 36 | 50810000 |\n| 303731 | -0.5 | 9 | 675 | 36 | 49960000 |\n| 439891 | -0.5 | 9 | 675 | 37 | 41840000 |\n| 644123 | -0.5 | 9 | 675 | 37 | 52630000 |\n| 213149 | -0.5 | 9 | 675 | 37 | 46210000 |\n| 366193 | -0.5 | 9 | 675 | 37 | 51580000 |\n| 303731 | -0.5 | 9 | 675 | 37 | 49960000 |\n| 439891 | -0.5 | 9 | 675 | 38 | 41950000 |\n| 644123 | -0.5 | 9 | 675 | 38 | 51830000 |\n| 213149 | -0.5 | 9 | 675 | 38 | 46200000 |\n| 366193 | -0.5 | 9 | 675 | 38 | 51580000 |\n| 303731 | -0.5 | 9 | 675 | 38 | 49960000 |\n| 439891 | -0.5 | 9 | 675 | 39 | 41630000 |\n| 644123 | -0.5 | 9 | 675 | 39 | 51740000 |\n| 213149 | -0.5 | 9 | 675 | 39 | 46930000 |\n| 366193 | -0.5 | 9 | 675 | 39 | 51840000 |\n| 303731 | -0.5 | 9 | 675 | 39 | 50160000 |\n| 439891 | -0.5 | 9 | 675 | 40 | 42060000 |\n| 644123 | -0.5 | 9 | 675 | 40 | 51730000 |\n| 213149 | -0.5 | 9 | 675 | 40 | 47060000 |\n| 366193 | -0.5 | 9 | 675 | 40 | 51910000 |\n| 303731 | -0.5 | 9 | 675 | 40 | 49750000 |\n| ⋮ | ⋮ | ⋮ | ⋮ | ⋮ | ⋮ |\n| 439891 | -0.5 | 11 | 900 | 40 | 45140000 |\n| 644123 | -0.5 | 11 | 900 | 40 | 47290000 |\n| 213149 | -0.5 | 11 | 900 | 40 | 42970000 |\n| 366193 | -0.5 | 11 | 900 | 40 | 49550000 |\n| 303731 | -0.5 | 11 | 900 | 40 | 46340000 |\n| 439891 | -0.5 | 11 | 900 | 41 | 44110000 |\n| 644123 | -0.5 | 11 | 900 | 41 | 47420000 |\n| 213149 | -0.5 | 11 | 900 | 41 | 43290000 |\n| 366193 | -0.5 | 11 | 900 | 41 | 50100000 |\n| 303731 | -0.5 | 11 | 900 | 41 | 46710000 |\n| 439891 | -0.5 | 11 | 900 | 42 | 42320000 |\n| 644123 | -0.5 | 11 | 900 | 42 | 47630000 |\n| 213149 | -0.5 | 11 | 900 | 42 | 42270000 |\n| 366193 | -0.5 | 11 | 900 | 42 | 48970000 |\n| 303731 | -0.5 | 11 | 900 | 42 | 46680000 |\n| 439891 | -0.5 | 11 | 900 | 43 | 42650000 |\n| 644123 | -0.5 | 11 | 900 | 43 | 47560000 |\n| 213149 | -0.5 | 11 | 900 | 43 | 41950000 |\n| 366193 | -0.5 | 11 | 900 | 43 | 51390000 |\n| 303731 | -0.5 | 11 | 900 | 43 | 46650000 |\n| 439891 | -0.5 | 11 | 900 | 44 | 44390000 |\n| 644123 | -0.5 | 11 | 900 | 44 | 47540000 |\n| 213149 | -0.5 | 11 | 900 | 44 | 41670000 |\n| 366193 | -0.5 | 11 | 900 | 44 | 48960000 |\n| 303731 | -0.5 | 11 | 900 | 44 | 46400000 |\n| 439891 | -0.5 | 11 | 900 | 45 | 44410000 |\n| 644123 | -0.5 | 11 | 900 | 45 | 47130000 |\n| 213149 | -0.5 | 11 | 900 | 45 | 41650000 |\n| 366193 | -0.5 | 11 | 900 | 45 | 48910000 |\n| 303731 | -0.5 | 11 | 900 | 45 | 45520000 |\n\n",
            "text/latex": "A data.table: 1815 × 6\n\\begin{tabular}{llllll}\n semilla & cp & maxdepth & minsplit & minbucket & ganancia\\_test\\\\\n <int> & <dbl> & <dbl> & <dbl> & <int> & <dbl>\\\\\n\\hline\n\t 439891 & -0.5 & 9 & 675 & 35 & 41930000\\\\\n\t 644123 & -0.5 & 9 & 675 & 35 & 52860000\\\\\n\t 213149 & -0.5 & 9 & 675 & 35 & 46240000\\\\\n\t 366193 & -0.5 & 9 & 675 & 35 & 50980000\\\\\n\t 303731 & -0.5 & 9 & 675 & 35 & 49960000\\\\\n\t 439891 & -0.5 & 9 & 675 & 36 & 41860000\\\\\n\t 644123 & -0.5 & 9 & 675 & 36 & 52520000\\\\\n\t 213149 & -0.5 & 9 & 675 & 36 & 46230000\\\\\n\t 366193 & -0.5 & 9 & 675 & 36 & 50810000\\\\\n\t 303731 & -0.5 & 9 & 675 & 36 & 49960000\\\\\n\t 439891 & -0.5 & 9 & 675 & 37 & 41840000\\\\\n\t 644123 & -0.5 & 9 & 675 & 37 & 52630000\\\\\n\t 213149 & -0.5 & 9 & 675 & 37 & 46210000\\\\\n\t 366193 & -0.5 & 9 & 675 & 37 & 51580000\\\\\n\t 303731 & -0.5 & 9 & 675 & 37 & 49960000\\\\\n\t 439891 & -0.5 & 9 & 675 & 38 & 41950000\\\\\n\t 644123 & -0.5 & 9 & 675 & 38 & 51830000\\\\\n\t 213149 & -0.5 & 9 & 675 & 38 & 46200000\\\\\n\t 366193 & -0.5 & 9 & 675 & 38 & 51580000\\\\\n\t 303731 & -0.5 & 9 & 675 & 38 & 49960000\\\\\n\t 439891 & -0.5 & 9 & 675 & 39 & 41630000\\\\\n\t 644123 & -0.5 & 9 & 675 & 39 & 51740000\\\\\n\t 213149 & -0.5 & 9 & 675 & 39 & 46930000\\\\\n\t 366193 & -0.5 & 9 & 675 & 39 & 51840000\\\\\n\t 303731 & -0.5 & 9 & 675 & 39 & 50160000\\\\\n\t 439891 & -0.5 & 9 & 675 & 40 & 42060000\\\\\n\t 644123 & -0.5 & 9 & 675 & 40 & 51730000\\\\\n\t 213149 & -0.5 & 9 & 675 & 40 & 47060000\\\\\n\t 366193 & -0.5 & 9 & 675 & 40 & 51910000\\\\\n\t 303731 & -0.5 & 9 & 675 & 40 & 49750000\\\\\n\t ⋮ & ⋮ & ⋮ & ⋮ & ⋮ & ⋮\\\\\n\t 439891 & -0.5 & 11 & 900 & 40 & 45140000\\\\\n\t 644123 & -0.5 & 11 & 900 & 40 & 47290000\\\\\n\t 213149 & -0.5 & 11 & 900 & 40 & 42970000\\\\\n\t 366193 & -0.5 & 11 & 900 & 40 & 49550000\\\\\n\t 303731 & -0.5 & 11 & 900 & 40 & 46340000\\\\\n\t 439891 & -0.5 & 11 & 900 & 41 & 44110000\\\\\n\t 644123 & -0.5 & 11 & 900 & 41 & 47420000\\\\\n\t 213149 & -0.5 & 11 & 900 & 41 & 43290000\\\\\n\t 366193 & -0.5 & 11 & 900 & 41 & 50100000\\\\\n\t 303731 & -0.5 & 11 & 900 & 41 & 46710000\\\\\n\t 439891 & -0.5 & 11 & 900 & 42 & 42320000\\\\\n\t 644123 & -0.5 & 11 & 900 & 42 & 47630000\\\\\n\t 213149 & -0.5 & 11 & 900 & 42 & 42270000\\\\\n\t 366193 & -0.5 & 11 & 900 & 42 & 48970000\\\\\n\t 303731 & -0.5 & 11 & 900 & 42 & 46680000\\\\\n\t 439891 & -0.5 & 11 & 900 & 43 & 42650000\\\\\n\t 644123 & -0.5 & 11 & 900 & 43 & 47560000\\\\\n\t 213149 & -0.5 & 11 & 900 & 43 & 41950000\\\\\n\t 366193 & -0.5 & 11 & 900 & 43 & 51390000\\\\\n\t 303731 & -0.5 & 11 & 900 & 43 & 46650000\\\\\n\t 439891 & -0.5 & 11 & 900 & 44 & 44390000\\\\\n\t 644123 & -0.5 & 11 & 900 & 44 & 47540000\\\\\n\t 213149 & -0.5 & 11 & 900 & 44 & 41670000\\\\\n\t 366193 & -0.5 & 11 & 900 & 44 & 48960000\\\\\n\t 303731 & -0.5 & 11 & 900 & 44 & 46400000\\\\\n\t 439891 & -0.5 & 11 & 900 & 45 & 44410000\\\\\n\t 644123 & -0.5 & 11 & 900 & 45 & 47130000\\\\\n\t 213149 & -0.5 & 11 & 900 & 45 & 41650000\\\\\n\t 366193 & -0.5 & 11 & 900 & 45 & 48910000\\\\\n\t 303731 & -0.5 & 11 & 900 & 45 & 45520000\\\\\n\\end{tabular}\n",
            "text/plain": [
              "     semilla cp   maxdepth minsplit minbucket ganancia_test\n",
              "1    439891  -0.5 9        675      35        41930000     \n",
              "2    644123  -0.5 9        675      35        52860000     \n",
              "3    213149  -0.5 9        675      35        46240000     \n",
              "4    366193  -0.5 9        675      35        50980000     \n",
              "5    303731  -0.5 9        675      35        49960000     \n",
              "6    439891  -0.5 9        675      36        41860000     \n",
              "7    644123  -0.5 9        675      36        52520000     \n",
              "8    213149  -0.5 9        675      36        46230000     \n",
              "9    366193  -0.5 9        675      36        50810000     \n",
              "10   303731  -0.5 9        675      36        49960000     \n",
              "11   439891  -0.5 9        675      37        41840000     \n",
              "12   644123  -0.5 9        675      37        52630000     \n",
              "13   213149  -0.5 9        675      37        46210000     \n",
              "14   366193  -0.5 9        675      37        51580000     \n",
              "15   303731  -0.5 9        675      37        49960000     \n",
              "16   439891  -0.5 9        675      38        41950000     \n",
              "17   644123  -0.5 9        675      38        51830000     \n",
              "18   213149  -0.5 9        675      38        46200000     \n",
              "19   366193  -0.5 9        675      38        51580000     \n",
              "20   303731  -0.5 9        675      38        49960000     \n",
              "21   439891  -0.5 9        675      39        41630000     \n",
              "22   644123  -0.5 9        675      39        51740000     \n",
              "23   213149  -0.5 9        675      39        46930000     \n",
              "24   366193  -0.5 9        675      39        51840000     \n",
              "25   303731  -0.5 9        675      39        50160000     \n",
              "26   439891  -0.5 9        675      40        42060000     \n",
              "27   644123  -0.5 9        675      40        51730000     \n",
              "28   213149  -0.5 9        675      40        47060000     \n",
              "29   366193  -0.5 9        675      40        51910000     \n",
              "30   303731  -0.5 9        675      40        49750000     \n",
              "⋮    ⋮       ⋮    ⋮        ⋮        ⋮         ⋮            \n",
              "1786 439891  -0.5 11       900      40        45140000     \n",
              "1787 644123  -0.5 11       900      40        47290000     \n",
              "1788 213149  -0.5 11       900      40        42970000     \n",
              "1789 366193  -0.5 11       900      40        49550000     \n",
              "1790 303731  -0.5 11       900      40        46340000     \n",
              "1791 439891  -0.5 11       900      41        44110000     \n",
              "1792 644123  -0.5 11       900      41        47420000     \n",
              "1793 213149  -0.5 11       900      41        43290000     \n",
              "1794 366193  -0.5 11       900      41        50100000     \n",
              "1795 303731  -0.5 11       900      41        46710000     \n",
              "1796 439891  -0.5 11       900      42        42320000     \n",
              "1797 644123  -0.5 11       900      42        47630000     \n",
              "1798 213149  -0.5 11       900      42        42270000     \n",
              "1799 366193  -0.5 11       900      42        48970000     \n",
              "1800 303731  -0.5 11       900      42        46680000     \n",
              "1801 439891  -0.5 11       900      43        42650000     \n",
              "1802 644123  -0.5 11       900      43        47560000     \n",
              "1803 213149  -0.5 11       900      43        41950000     \n",
              "1804 366193  -0.5 11       900      43        51390000     \n",
              "1805 303731  -0.5 11       900      43        46650000     \n",
              "1806 439891  -0.5 11       900      44        44390000     \n",
              "1807 644123  -0.5 11       900      44        47540000     \n",
              "1808 213149  -0.5 11       900      44        41670000     \n",
              "1809 366193  -0.5 11       900      44        48960000     \n",
              "1810 303731  -0.5 11       900      44        46400000     \n",
              "1811 439891  -0.5 11       900      45        44410000     \n",
              "1812 644123  -0.5 11       900      45        47130000     \n",
              "1813 213149  -0.5 11       900      45        41650000     \n",
              "1814 366193  -0.5 11       900      45        48910000     \n",
              "1815 303731  -0.5 11       900      45        45520000     "
            ]
          },
          "metadata": {}
        }
      ]
    },
    {
      "cell_type": "code",
      "source": [
        "# genero y grabo el resumen\n",
        "tb_grid_search <- tb_grid_search_detalle[,\n",
        "  list( \"ganancia_mean\" = mean(ganancia_test),\n",
        "    \"qty\" = .N ),\n",
        "  list( cp, maxdepth, minsplit, minbucket )\n",
        "]\n"
      ],
      "metadata": {
        "id": "DjCxtx8bIsgl"
      },
      "execution_count": 36,
      "outputs": []
    },
    {
      "cell_type": "code",
      "source": [
        "# ordeno descendente por ganancia\n",
        "setorder( tb_grid_search, -ganancia_mean )\n"
      ],
      "metadata": {
        "id": "LU29UhL1Ivg5"
      },
      "execution_count": 37,
      "outputs": []
    },
    {
      "cell_type": "code",
      "source": [
        "# veo los 10 mejores hiperparámetros\n",
        "tb_grid_search[1:10]"
      ],
      "metadata": {
        "id": "g-EjGY7aIyWL",
        "outputId": "63f4db42-950b-41dc-c386-bc119e745e13",
        "colab": {
          "base_uri": "https://localhost:8080/",
          "height": 411
        }
      },
      "execution_count": 38,
      "outputs": [
        {
          "output_type": "display_data",
          "data": {
            "text/html": [
              "<table class=\"dataframe\">\n",
              "<caption>A data.table: 10 × 6</caption>\n",
              "<thead>\n",
              "\t<tr><th scope=col>cp</th><th scope=col>maxdepth</th><th scope=col>minsplit</th><th scope=col>minbucket</th><th scope=col>ganancia_mean</th><th scope=col>qty</th></tr>\n",
              "\t<tr><th scope=col>&lt;dbl&gt;</th><th scope=col>&lt;dbl&gt;</th><th scope=col>&lt;dbl&gt;</th><th scope=col>&lt;int&gt;</th><th scope=col>&lt;dbl&gt;</th><th scope=col>&lt;int&gt;</th></tr>\n",
              "</thead>\n",
              "<tbody>\n",
              "\t<tr><td>-0.5</td><td>9</td><td>800</td><td>41</td><td>48958000</td><td>5</td></tr>\n",
              "\t<tr><td>-0.5</td><td>9</td><td>800</td><td>44</td><td>48932000</td><td>5</td></tr>\n",
              "\t<tr><td>-0.5</td><td>9</td><td>825</td><td>41</td><td>48932000</td><td>5</td></tr>\n",
              "\t<tr><td>-0.5</td><td>9</td><td>825</td><td>44</td><td>48906000</td><td>5</td></tr>\n",
              "\t<tr><td>-0.5</td><td>9</td><td>900</td><td>40</td><td>48830000</td><td>5</td></tr>\n",
              "\t<tr><td>-0.5</td><td>9</td><td>800</td><td>45</td><td>48824000</td><td>5</td></tr>\n",
              "\t<tr><td>-0.5</td><td>9</td><td>800</td><td>40</td><td>48822000</td><td>5</td></tr>\n",
              "\t<tr><td>-0.5</td><td>9</td><td>825</td><td>45</td><td>48798000</td><td>5</td></tr>\n",
              "\t<tr><td>-0.5</td><td>9</td><td>850</td><td>41</td><td>48798000</td><td>5</td></tr>\n",
              "\t<tr><td>-0.5</td><td>9</td><td>875</td><td>41</td><td>48798000</td><td>5</td></tr>\n",
              "</tbody>\n",
              "</table>\n"
            ],
            "text/markdown": "\nA data.table: 10 × 6\n\n| cp &lt;dbl&gt; | maxdepth &lt;dbl&gt; | minsplit &lt;dbl&gt; | minbucket &lt;int&gt; | ganancia_mean &lt;dbl&gt; | qty &lt;int&gt; |\n|---|---|---|---|---|---|\n| -0.5 | 9 | 800 | 41 | 48958000 | 5 |\n| -0.5 | 9 | 800 | 44 | 48932000 | 5 |\n| -0.5 | 9 | 825 | 41 | 48932000 | 5 |\n| -0.5 | 9 | 825 | 44 | 48906000 | 5 |\n| -0.5 | 9 | 900 | 40 | 48830000 | 5 |\n| -0.5 | 9 | 800 | 45 | 48824000 | 5 |\n| -0.5 | 9 | 800 | 40 | 48822000 | 5 |\n| -0.5 | 9 | 825 | 45 | 48798000 | 5 |\n| -0.5 | 9 | 850 | 41 | 48798000 | 5 |\n| -0.5 | 9 | 875 | 41 | 48798000 | 5 |\n\n",
            "text/latex": "A data.table: 10 × 6\n\\begin{tabular}{llllll}\n cp & maxdepth & minsplit & minbucket & ganancia\\_mean & qty\\\\\n <dbl> & <dbl> & <dbl> & <int> & <dbl> & <int>\\\\\n\\hline\n\t -0.5 & 9 & 800 & 41 & 48958000 & 5\\\\\n\t -0.5 & 9 & 800 & 44 & 48932000 & 5\\\\\n\t -0.5 & 9 & 825 & 41 & 48932000 & 5\\\\\n\t -0.5 & 9 & 825 & 44 & 48906000 & 5\\\\\n\t -0.5 & 9 & 900 & 40 & 48830000 & 5\\\\\n\t -0.5 & 9 & 800 & 45 & 48824000 & 5\\\\\n\t -0.5 & 9 & 800 & 40 & 48822000 & 5\\\\\n\t -0.5 & 9 & 825 & 45 & 48798000 & 5\\\\\n\t -0.5 & 9 & 850 & 41 & 48798000 & 5\\\\\n\t -0.5 & 9 & 875 & 41 & 48798000 & 5\\\\\n\\end{tabular}\n",
            "text/plain": [
              "   cp   maxdepth minsplit minbucket ganancia_mean qty\n",
              "1  -0.5 9        800      41        48958000      5  \n",
              "2  -0.5 9        800      44        48932000      5  \n",
              "3  -0.5 9        825      41        48932000      5  \n",
              "4  -0.5 9        825      44        48906000      5  \n",
              "5  -0.5 9        900      40        48830000      5  \n",
              "6  -0.5 9        800      45        48824000      5  \n",
              "7  -0.5 9        800      40        48822000      5  \n",
              "8  -0.5 9        825      45        48798000      5  \n",
              "9  -0.5 9        850      41        48798000      5  \n",
              "10 -0.5 9        875      41        48798000      5  "
            ]
          },
          "metadata": {}
        }
      ]
    },
    {
      "cell_type": "code",
      "source": [
        "# genero un id a la tabla\n",
        "tb_grid_search[, id := .I ]\n",
        "\n",
        "fwrite( tb_grid_search,\n",
        "  file = \"gridsearch.txt\",\n",
        "  sep = \"\\t\"\n",
        ")\n"
      ],
      "metadata": {
        "id": "K3S-I2PTI5ZE"
      },
      "execution_count": null,
      "outputs": []
    },
    {
      "cell_type": "markdown",
      "source": [
        "# 4.  Análisis de resultados de Grid Search"
      ],
      "metadata": {
        "id": "1rYHk1YkI_9k"
      }
    },
    {
      "cell_type": "markdown",
      "source": [
        "La salida de la corrida anterior queda en ~/buckets/b1/exp/HT2900  que corresponde a su Google Drive\n",
        "<br>HT significa Hyperparameter Tuning\n",
        "<br>El Grid Search es un método de fuerza bruta de un altísimo costo computacional.\n",
        "<br>Queremos ver si es posible crear un algoritmo de optimización de hiperparámetros que se ahorre recorrer ciertas porciones muy malas del espacio de búsqueda. Algo del estilo “cada vez que pruebo una combinación de hiperparámetros donde  cp > 1 , la ganancia es muy mala, con lo cual ni vale la pena perder el tiempo explorando en esa region”\n"
      ],
      "metadata": {
        "id": "ZTJgPhMWJHTk"
      }
    },
    {
      "cell_type": "markdown",
      "source": [
        "<br>Levante el archivo de salida gridsearch.txt  a una planilla tipo Excel y analícelo detenidamente\n",
        "<br>Ordene por ganancia_mean descendente\n",
        "<br>\n",
        "<br>El de mayor ganancia_mean  decimos que es el primero del ranking\n",
        "En Zulip, correspondiente channel  #Tarea Hogar 02 , topic Analisis Grid Search   intente contestar estas preguntas:\n",
        "\n",
        "* ¿Qué combinaciones de hiperparámetros poseen una ganancia muy buena?\n",
        "* ¿Hay algun hiperparámetro que para cierto valor siempre genera una ganancia muy mala, a independientemente de lo que valgan los otros hiperparámetros ?\n",
        "* ¿Que combinaciones de hiperparámetros es pésima y hubiera sido bueno ahorrarse esas corridas ?\n",
        "\n",
        "( tiempo estimado 30 minutos, dificultad media )"
      ],
      "metadata": {
        "id": "IaVgMu4tPwyB"
      }
    }
  ]
}